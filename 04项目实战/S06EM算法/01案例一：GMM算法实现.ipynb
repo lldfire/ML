{
 "cells": [
  {
   "cell_type": "code",
   "execution_count": 29,
   "metadata": {},
   "outputs": [],
   "source": [
    "import numpy as np\n",
    "import matplotlib.pyplot as plt\n",
    "\n",
    "from sklearn.mixture import GaussianMixture\n",
    "from scipy.stats import multivariate_normal    # 多元正态分布\n",
    "from sklearn.metrics import pairwise_distances_argmin"
   ]
  },
  {
   "cell_type": "markdown",
   "metadata": {},
   "source": [
    "# GaussianMixture 说明\n",
    "## 参数\n",
    "- n_components: int,1；混合最合的个数，可以简单理解为聚类或分类的个数\n",
    "- covariance_type：协方差矩阵类型，可选\n",
    "   - 'full': 每个组件都有自己的公用的协防差矩阵\n",
    "   - 'tied': 所有组件公用一个协方差矩阵\n",
    "   - 'diag': 每个组件有其自己的对角协方差矩阵\n",
    "   - 'spherical': 每个组件有其自己的方差\n",
    "- tol: float,1e-3；收敛阈值，在迭代过程中，平均增益小于该值时，EM算法停止\n",
    "- reg_covar：协方差对角线上的非负正则化参数，默认为0\n",
    "- max_iter：em算法的最大迭代次数，默认100\n",
    "- n_init: 默认值1，执行初始化操作数量，该参数最好不要变动\n",
    "- init_params：初始化权重值、均值以及精度的方法，参数可选：kmeans、random，默认kmeans\n",
    "- weights_init：初始化权重列表，如果没有给定，那么使用init_params参数给定的方法来进行创建，默认为None\n",
    "- means_init：初始化均值列表，如果没有给定，那么使用init_params参数给定的方法来进行创建，默认为None\n",
    "- precisions_init: 初始化精度列表，如果没有给定，那么使用init_params参数给定的方法来进行创建，默认为None\n",
    "- warn_stat：默认为False，当该值为true的时候，在类似问题被多次训练的时候，可以加快收敛速度\n",
    "\n",
    "## 属性\n",
    "- weights_：各组件的权重\n",
    "- means：各组件的均值\n",
    "- covariances_：各混合组件的协方差\n",
    "- precisions_：混合组件的密度矩阵\n",
    "- precisions_cholesky_：\n",
    "- converged_：训练过程中是否收敛\n",
    "- n_iter_：最适合EM达到收敛的步数\n",
    "- lower_bound_：EM算法最佳拟合的似然概率的下限\n",
    "\n",
    "## 方法\n",
    "- aic:\n",
    "- bic: 模型的评估方法"
   ]
  },
  {
   "cell_type": "code",
   "execution_count": 2,
   "metadata": {},
   "outputs": [],
   "source": [
    "plt.rcParams['font.sans-serif'] = ['Heiti']\n",
    "plt.rcParams['axes.unicode_minus'] = False"
   ]
  },
  {
   "cell_type": "markdown",
   "metadata": {},
   "source": [
    "### 使用sklearn 中的em算法，实现高斯混合模型"
   ]
  },
  {
   "cell_type": "code",
   "execution_count": 35,
   "metadata": {},
   "outputs": [],
   "source": [
    "# 创建模拟数据\n",
    "np.random.seed(9)\n",
    "N = 400\n",
    "M = 100\n",
    "\n",
    "## 根据给定的均值和协方差矩阵构建数据\n",
    "mean1 = (0, 0, 0)\n",
    "cov1 = np.diag((1, 2, 3))\n",
    "## 产生400条数据\n",
    "data1 = np.random.multivariate_normal(mean1, cov1, N)\n",
    "\n",
    "## 产生一个数据分布不均衡的数据集， 100条\n",
    "mean2 = (2, 2, 1)\n",
    "cov2 = np.array(((3, 1, 0), (1, 3, 0), (0, 0, 3)))\n",
    "data2 = np.random.multivariate_normal(mean2, cov2, M)\n",
    "\n",
    "## 合并data1和data2这两个数据集\n",
    "data = np.vstack((data1, data2))\n",
    "\n",
    "## 产生数据对应的y值\n",
    "y1 = np.array([True] * N + [False] * M)\n",
    "y2 = ~y1"
   ]
  },
  {
   "cell_type": "code",
   "execution_count": 36,
   "metadata": {},
   "outputs": [
    {
     "name": "stdout",
     "output_type": "stream",
     "text": [
      "类别概率:\t [0.08779945 0.91220055]\n",
      "均值:\n",
      " [[3.52168168 3.17687574 0.98144041]\n",
      " [0.13527918 0.23063094 0.09986717]] \n",
      "\n",
      "方差:\n",
      " [[[ 0.81543892 -0.227921   -0.18242806]\n",
      "  [-0.227921    3.41922573  0.35167454]\n",
      "  [-0.18242806  0.35167454  2.69884223]]\n",
      "\n",
      " [[ 1.08575813  0.21201339  0.07229798]\n",
      "  [ 0.21201339  2.48071071  0.12577066]\n",
      "  [ 0.07229798  0.12577066  3.1391171 ]]] \n",
      "\n",
      "似然函数的值:\n",
      " -5.56934500696442\n"
     ]
    }
   ],
   "source": [
    "gmm = GaussianMixture(\n",
    "    n_components=2, \n",
    "    covariance_type='full',\n",
    "    tol=1e-6,\n",
    "    max_iter=1000,\n",
    "    init_params='kmeans'\n",
    ")\n",
    "gmm.fit(data)\n",
    "\n",
    "# 效果输出\n",
    "print('类别概率:\\t', gmm.weights_)\n",
    "print('均值:\\n', gmm.means_, '\\n')\n",
    "print('方差:\\n', gmm.covariances_, '\\n')\n",
    "print('似然函数的值:\\n', gmm.lower_bound_)\n",
    "mu1, mu2 = gmm.means_\n",
    "sigma1, sigma2 = gmm.covariances_"
   ]
  },
  {
   "cell_type": "code",
   "execution_count": 37,
   "metadata": {},
   "outputs": [],
   "source": [
    "norm1 = multivariate_normal(mu1, sigma1)\n",
    "norm2 = multivariate_normal(mu2, sigma2)\n",
    "tau1 = norm1.pdf(data)\n",
    "tau2 = norm2.pdf(data)"
   ]
  },
  {
   "cell_type": "code",
   "execution_count": 38,
   "metadata": {},
   "outputs": [
    {
     "name": "stdout",
     "output_type": "stream",
     "text": [
      "距离: [1 0]\n",
      "准确率：89.40%\n"
     ]
    }
   ],
   "source": [
    "## 计算均值的距离，然后根据距离得到分类情况\n",
    "dist = pairwise_distances_argmin([mean1, mean2], [mu1, mu2], metric='euclidean')\n",
    "print (\"距离:\", dist)\n",
    "if dist[0] == 0:\n",
    "    c1 = tau1 > tau2\n",
    "else:\n",
    "    c1 = tau1 < tau2\n",
    "c2 = ~c1\n",
    "\n",
    "## 计算准确率\n",
    "acc = np.mean(y1 == c1)\n",
    "print (u'准确率：%.2f%%' % (100*acc))"
   ]
  },
  {
   "cell_type": "code",
   "execution_count": null,
   "metadata": {},
   "outputs": [],
   "source": []
  },
  {
   "cell_type": "code",
   "execution_count": null,
   "metadata": {},
   "outputs": [],
   "source": []
  }
 ],
 "metadata": {
  "kernelspec": {
   "display_name": "Python 3",
   "language": "python",
   "name": "python3"
  },
  "language_info": {
   "codemirror_mode": {
    "name": "ipython",
    "version": 3
   },
   "file_extension": ".py",
   "mimetype": "text/x-python",
   "name": "python",
   "nbconvert_exporter": "python",
   "pygments_lexer": "ipython3",
   "version": "3.7.3"
  },
  "toc-autonumbering": false
 },
 "nbformat": 4,
 "nbformat_minor": 4
}
