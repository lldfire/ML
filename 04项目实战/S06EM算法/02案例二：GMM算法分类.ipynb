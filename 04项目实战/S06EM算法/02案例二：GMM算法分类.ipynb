{
 "cells": [
  {
   "cell_type": "code",
   "execution_count": 1,
   "metadata": {},
   "outputs": [],
   "source": [
    "import numpy as np\n",
    "import pandas as pd\n",
    "import matplotlib.pyplot as plt\n",
    "\n",
    "from sklearn.mixture import GaussianMixture\n",
    "from sklearn.metrics import accuracy_score\n",
    "from sklearn.model_selection import train_test_split"
   ]
  },
  {
   "cell_type": "code",
   "execution_count": 6,
   "metadata": {},
   "outputs": [],
   "source": [
    "# 设置显示中文\n",
    "plt.rcParams['font.sans-serif'] = ['Heiti']\n",
    "plt.rcParams['axes.unicode_minus'] = False"
   ]
  },
  {
   "cell_type": "code",
   "execution_count": 9,
   "metadata": {},
   "outputs": [],
   "source": [
    "# 读取数据,根据身高和体重分出男女性别\n",
    "data_path = './HeightWeight.csv'\n",
    "data = pd.read_csv(data_path)\n",
    "print('数据总量', data.shape)\n",
    "\n",
    "X = data.iloc[:, 1:]\n",
    "Y = data.iloc[:, 0]\n",
    "\n",
    "# 划分数据集\n",
    "x_train, x_test, y_train, y_test = train_test_split(\n",
    "    X, Y, test_size=0.2, random_state=9)"
   ]
  },
  {
   "cell_type": "code",
   "execution_count": 26,
   "metadata": {},
   "outputs": [
    {
     "data": {
      "text/plain": [
       "GaussianMixture(covariance_type='full', init_params='kmeans', max_iter=100,\n",
       "                means_init=None, n_components=2, n_init=1, precisions_init=None,\n",
       "                random_state=9, reg_covar=1e-06, tol=0.001, verbose=0,\n",
       "                verbose_interval=10, warm_start=False, weights_init=None)"
      ]
     },
     "execution_count": 26,
     "metadata": {},
     "output_type": "execute_result"
    }
   ],
   "source": [
    "# 构建模型\n",
    "gmm = GaussianMixture(n_components=2, random_state=9, covariance_type='full')\n",
    "gmm.fit(x_train)   # y 可以不输入"
   ]
  },
  {
   "cell_type": "code",
   "execution_count": 27,
   "metadata": {},
   "outputs": [
    {
     "name": "stdout",
     "output_type": "stream",
     "text": [
      "均值：\n",
      " [[171.57828048  64.39643684]\n",
      " [160.33425543  54.98061253]]\n",
      "方差：\n",
      " [[[30.72302234 13.61786099]\n",
      "  [13.61786099 68.65372029]]\n",
      "\n",
      " [[19.01020213 10.1415953 ]\n",
      "  [10.1415953  32.59087701]]]\n"
     ]
    }
   ],
   "source": [
    "# 查看参数\n",
    "print('均值：\\n', gmm.means_)\n",
    "print('方差：\\n', gmm.covariances_)"
   ]
  },
  {
   "cell_type": "code",
   "execution_count": 40,
   "metadata": {},
   "outputs": [],
   "source": [
    "# 预测结果，计算准确率\n",
    "y_hat = gmm.predict(X)\n",
    "y_test_hat = gmm.predict(x_test)\n",
    "\n",
    "# 原始标签0表示女生，模型结果中国0表示男生\n",
    "# 调换结果\n",
    "y_hat = np.array([0 if i else 1 for i in y_hat])\n",
    "y_test_hat = np.array([0 if i else 1 for i in y_test_hat])"
   ]
  },
  {
   "cell_type": "code",
   "execution_count": 43,
   "metadata": {},
   "outputs": [
    {
     "name": "stdout",
     "output_type": "stream",
     "text": [
      "测试集的准确率86.96%\n",
      "全数据的准确率82.46%\n"
     ]
    }
   ],
   "source": [
    "# 计算准确率\n",
    "acc_test = accuracy_score(y_test_hat, y_test)\n",
    "acc = accuracy_score(y_hat, Y)\n",
    "print(f'测试集的准确率{acc_test * 100:.2f}%')\n",
    "print(f'全数据的准确率{acc * 100:.2f}%')"
   ]
  },
  {
   "cell_type": "code",
   "execution_count": null,
   "metadata": {},
   "outputs": [],
   "source": []
  }
 ],
 "metadata": {
  "kernelspec": {
   "display_name": "Python 3",
   "language": "python",
   "name": "python3"
  },
  "language_info": {
   "codemirror_mode": {
    "name": "ipython",
    "version": 3
   },
   "file_extension": ".py",
   "mimetype": "text/x-python",
   "name": "python",
   "nbconvert_exporter": "python",
   "pygments_lexer": "ipython3",
   "version": "3.7.3"
  }
 },
 "nbformat": 4,
 "nbformat_minor": 4
}
