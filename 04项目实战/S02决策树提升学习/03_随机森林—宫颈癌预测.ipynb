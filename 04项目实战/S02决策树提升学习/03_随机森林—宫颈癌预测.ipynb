{
 "cells": [
  {
   "cell_type": "code",
   "execution_count": 1,
   "metadata": {},
   "outputs": [],
   "source": [
    "import numpy as np\n",
    "import pandas as pd\n",
    "import matplotlib.pyplot as plt\n",
    "import sklearn\n",
    "from sklearn.ensemble import RandomForestClassifier    # 从集成模块中导入随机森林\n",
    "from sklearn.preprocessing import StandardScaler\n",
    "from sklearn.preprocessing import MinMaxScaler\n",
    "from sklearn.preprocessing import Imputer     # 处理数据缺失值模块\n",
    "from sklearn.preprocessing import label_binarize     # \n",
    "from sklearn.model_selection import train_test_split\n",
    "from sklearn.pipeline import Pipeline\n",
    "from sklearn.decomposition import PCA\n",
    "from sklearn.model_selection import GridSearchCV\n",
    "from sklearn.preprocessing import label_binarize\n",
    "from sklearn import metrics"
   ]
  },
  {
   "cell_type": "code",
   "execution_count": 2,
   "metadata": {},
   "outputs": [],
   "source": [
    "# 防止中文乱码 🐙\n",
    "plt.rcParams['font.sans-serif'] = ['Heiti']\n",
    "plt.rcParams['axes.unicode_minus'] = False"
   ]
  },
  {
   "cell_type": "markdown",
   "metadata": {},
   "source": [
    "#### 读取数据集"
   ]
  },
  {
   "cell_type": "code",
   "execution_count": 3,
   "metadata": {},
   "outputs": [],
   "source": [
    "path = './datas/risk_factors_cervical_cancer.csv'\n",
    "data = pd.read_csv(path)"
   ]
  },
  {
   "cell_type": "markdown",
   "metadata": {},
   "source": [
    "#### 数据预处理"
   ]
  },
  {
   "cell_type": "code",
   "execution_count": 4,
   "metadata": {},
   "outputs": [],
   "source": [
    "X = data.iloc[:, 0:-4]\n",
    "Y = np.matrix(data.iloc[:, -4:])"
   ]
  },
  {
   "cell_type": "code",
   "execution_count": 5,
   "metadata": {},
   "outputs": [
    {
     "name": "stderr",
     "output_type": "stream",
     "text": [
      "/Library/Frameworks/Python.framework/Versions/3.7/lib/python3.7/site-packages/sklearn/utils/deprecation.py:66: DeprecationWarning: Class Imputer is deprecated; Imputer was deprecated in version 0.20 and will be removed in 0.22. Import impute.SimpleImputer from sklearn instead.\n",
      "  warnings.warn(msg, category=DeprecationWarning)\n"
     ]
    }
   ],
   "source": [
    "# 填充异常值\n",
    "X = X.replace('?', np.nan)\n",
    "imputer = Imputer(missing_values='NaN', strategy='most_frequent')     # 以频率最高的值填充 “？”字符串\n",
    "X = imputer.fit_transform(X, Y)"
   ]
  },
  {
   "cell_type": "markdown",
   "metadata": {},
   "source": [
    "#### 数据标准化处理\n",
    "\n",
    "1、数据标准化 "
   ]
  },
  {
   "cell_type": "code",
   "execution_count": 6,
   "metadata": {},
   "outputs": [],
   "source": [
    "ss = StandardScaler()\n",
    "X1 = ss.fit_transform(X, Y)"
   ]
  },
  {
   "cell_type": "markdown",
   "metadata": {},
   "source": [
    "2、数据归一化"
   ]
  },
  {
   "cell_type": "code",
   "execution_count": 7,
   "metadata": {},
   "outputs": [],
   "source": [
    "mms = MinMaxScaler()\n",
    "X2 = mms.fit_transform(X, Y)"
   ]
  },
  {
   "cell_type": "markdown",
   "metadata": {},
   "source": [
    "#### 使用归一化数据，特征工程"
   ]
  },
  {
   "cell_type": "code",
   "execution_count": 8,
   "metadata": {},
   "outputs": [
    {
     "name": "stdout",
     "output_type": "stream",
     "text": [
      "[5.5909579  2.89281373]\n"
     ]
    }
   ],
   "source": [
    "# 降维\n",
    "pca = PCA(n_components=2)\n",
    "x = pca.fit_transform(X1)\n",
    "print(pca.explained_variance_)"
   ]
  },
  {
   "cell_type": "markdown",
   "metadata": {},
   "source": [
    "#### 数据集划分"
   ]
  },
  {
   "cell_type": "code",
   "execution_count": 9,
   "metadata": {},
   "outputs": [],
   "source": [
    "x_train, x_test, y_train, y_test = train_test_split(x, Y, test_size=0.2, random_state=9)"
   ]
  },
  {
   "cell_type": "code",
   "execution_count": 10,
   "metadata": {},
   "outputs": [
    {
     "name": "stdout",
     "output_type": "stream",
     "text": [
      "(686, 2)\n",
      "(172, 2)\n"
     ]
    }
   ],
   "source": [
    "print(x_train.shape)\n",
    "print(x_test.shape)"
   ]
  },
  {
   "cell_type": "markdown",
   "metadata": {},
   "source": [
    "#### 构建模型"
   ]
  },
  {
   "cell_type": "code",
   "execution_count": 11,
   "metadata": {},
   "outputs": [
    {
     "data": {
      "text/plain": [
       "RandomForestClassifier(bootstrap=True, class_weight=None, criterion='gini',\n",
       "                       max_depth=None, max_features='auto', max_leaf_nodes=None,\n",
       "                       min_impurity_decrease=0.0, min_impurity_split=None,\n",
       "                       min_samples_leaf=1, min_samples_split=2,\n",
       "                       min_weight_fraction_leaf=0.0, n_estimators=100,\n",
       "                       n_jobs=None, oob_score=False, random_state=None,\n",
       "                       verbose=0, warm_start=False)"
      ]
     },
     "execution_count": 11,
     "metadata": {},
     "output_type": "execute_result"
    }
   ],
   "source": [
    "# n_estimators:迭代次数，每次迭代生成一个决策树\n",
    "forest = RandomForestClassifier(n_estimators=100)\n",
    "forest.fit(x_train, y_train)"
   ]
  },
  {
   "cell_type": "markdown",
   "metadata": {},
   "source": [
    "#### 模型评估"
   ]
  },
  {
   "cell_type": "code",
   "execution_count": 12,
   "metadata": {},
   "outputs": [
    {
     "name": "stdout",
     "output_type": "stream",
     "text": [
      "0.8488372093023255\n"
     ]
    }
   ],
   "source": [
    "score = forest.score(x_test, y_test)\n",
    "print(score)\n",
    "\n",
    "# 使用模型预测结果\n",
    "y_predict = forest.predict(x_test)\n",
    "# 使用模型预测概率值\n",
    "y_predict_proba = forest.predict_proba(x_test)"
   ]
  },
  {
   "cell_type": "markdown",
   "metadata": {},
   "source": [
    "### ROC：评判二值化分类的优劣,分为横纵坐标\n",
    "- 横坐标为：false positive rate（FPR）即负类样本中被判定为正类的比例，也就是误纳率 \n",
    "- 纵坐标为：true positive rate（TPR）即正类样本中被判定为正类的样本，也就是误拒率 \n",
    "\n",
    "### AUC：ROC 曲线下部分的面积，用来说明分类器的好坏，数值越大分类器越好\n",
    "---\n",
    "### metrics.roc_curve 参数：计算ROC值\n",
    "1. y_ture: 数组，\n",
    "2. y_score: 目标值估算概率\n",
    "3. drop_intermediate：丢弃次优的概率值\n",
    "4. return：3个值,fpr,tpr,thresholds;前两个用以计算ACU\n",
    "---\n",
    "### label_binarize 参数：对数据进行编码\n",
    "1. y: 要被编码的整数标签或数组，列表\n",
    "2. classes：标签\n",
    "3. \n",
    "---\n",
    "#### metrics.auc 参数：给定两个值计算 auc\n"
   ]
  },
  {
   "cell_type": "code",
   "execution_count": null,
   "metadata": {},
   "outputs": [],
   "source": [
    "# 将其转化为one hot 编码\n",
    "label_binarize(y_test.T[0].tolist()[0], classes=(0, 1, 2)).T[:2].T"
   ]
  },
  {
   "cell_type": "code",
   "execution_count": 14,
   "metadata": {},
   "outputs": [
    {
     "name": "stdout",
     "output_type": "stream",
     "text": [
      "0.8488372093023255\n",
      "Hinselmann目标属性AUC值： 0.9811384532179557\n",
      "Schiller目标属性AUC值： 0.9455786911844241\n",
      "Citology目标属性AUC值： 0.9451223634396971\n",
      "Biopsy目标属性AUC值： 0.9724513250405624\n"
     ]
    }
   ],
   "source": [
    "forest_fpr1, forest_tpr1, _ = metrics.roc_curve(\n",
    "    label_binarize(y_test.T[0].tolist()[0], classes=(0, 1, 2)).T[:2].T.ravel(),\n",
    "    y_predict_proba[0].ravel()\n",
    ")\n",
    "forest_fpr2, forest_tpr2, _ = metrics.roc_curve(\n",
    "    label_binarize(y_test.T[1].tolist()[0], classes=(0, 1, 2)).T[:2].T.ravel(),\n",
    "    y_predict_proba[1].ravel()\n",
    ")\n",
    "forest_fpr3, forest_tpr3, _ = metrics.roc_curve(\n",
    "    label_binarize(y_test.T[2].tolist()[0], classes=(0, 1, 2)).T[:2].T.ravel(),\n",
    "    y_predict_proba[2].ravel()\n",
    ")\n",
    "forest_fpr4, forest_tpr4, _ = metrics.roc_curve(\n",
    "    label_binarize(y_test.T[3].tolist()[0], classes=(0, 1, 2)).T[:2].T.ravel(),\n",
    "    y_predict_proba[3].ravel()\n",
    ")\n",
    "\n",
    "# 计算AUC\n",
    "auc1 = metrics.auc(forest_fpr1, forest_tpr1)\n",
    "auc2 = metrics.auc(forest_fpr2, forest_tpr2)\n",
    "auc3 = metrics.auc(forest_fpr3, forest_tpr3)\n",
    "auc4 = metrics.auc(forest_fpr4, forest_tpr4)\n",
    "\n",
    "print(score)\n",
    "print (\"Hinselmann目标属性AUC值：\", auc1)\n",
    "print (\"Schiller目标属性AUC值：\", auc2)\n",
    "print (\"Citology目标属性AUC值：\", auc3)\n",
    "print (\"Biopsy目标属性AUC值：\", auc4)"
   ]
  },
  {
   "cell_type": "code",
   "execution_count": 15,
   "metadata": {},
   "outputs": [
    {
     "data": {
      "text/plain": [
       "array([[1, 0, 0],\n",
       "       [1, 0, 0],\n",
       "       [0, 1, 0],\n",
       "       [0, 1, 0]])"
      ]
     },
     "execution_count": 15,
     "metadata": {},
     "output_type": "execute_result"
    }
   ],
   "source": [
    "label_binarize(['a','a','b','b'],classes=('a','b','c'))"
   ]
  },
  {
   "cell_type": "markdown",
   "metadata": {},
   "source": [
    "#### 交叉验证寻找最优参数"
   ]
  },
  {
   "cell_type": "code",
   "execution_count": null,
   "metadata": {},
   "outputs": [],
   "source": [
    "# 按一下顺序执行组装管道\n",
    "pipe = Pipeline([\n",
    "    ('ss', StandardScaler()),\n",
    "    ('pca', PCA()),\n",
    "    ('forest', RandomForestClassifier(criterion='gini', random_state=9))\n",
    "])\n",
    "\n",
    "# 参数设置\n",
    "parameters = {\n",
    "    'pca__n_components': np.arange(0.1, 1, 0.1).tolist(),\n",
    "    'forest__n_estimators': np.arange(70, 130, 10).tolist(),\n",
    "#     'forest_max_depth': np.arange(1, 7).tolist()\n",
    "}\n",
    "\n",
    "x_train, x_test, y_train, y_test = train_test_split(X, Y, \n",
    "                                                    test_size=0.2,\n",
    "                                                    random_state=9)\n",
    "# 网格交叉验证实例化\n",
    "gscv = GridSearchCV(pipe, param_grid=parameters, cv=5)\n",
    "gscv.fit(x_train, y_train)"
   ]
  },
  {
   "cell_type": "code",
   "execution_count": 33,
   "metadata": {},
   "outputs": [
    {
     "name": "stdout",
     "output_type": "stream",
     "text": [
      "最优参数： {'forest__n_estimators': 120, 'pca__n_components': 0.9}\n",
      "最优模型： Pipeline(memory=None,\n",
      "         steps=[('ss',\n",
      "                 StandardScaler(copy=True, with_mean=True, with_std=True)),\n",
      "                ('pca',\n",
      "                 PCA(copy=True, iterated_power='auto', n_components=0.9,\n",
      "                     random_state=None, svd_solver='auto', tol=0.0,\n",
      "                     whiten=False)),\n",
      "                ('forest',\n",
      "                 RandomForestClassifier(bootstrap=True, class_weight=None,\n",
      "                                        criterion='gini', max_depth=None,\n",
      "                                        max_features='auto',\n",
      "                                        max_leaf_nodes=None,\n",
      "                                        min_impurity_decrease=0.0,\n",
      "                                        min_impurity_split=None,\n",
      "                                        min_samples_leaf=1, min_samples_split=2,\n",
      "                                        min_weight_fraction_leaf=0.0,\n",
      "                                        n_estimators=120, n_jobs=None,\n",
      "                                        oob_score=False, random_state=9,\n",
      "                                        verbose=0, warm_start=False))],\n",
      "         verbose=False)\n",
      "最优得分： 0.8790087463556852\n"
     ]
    }
   ],
   "source": [
    "# 查看最优参数\n",
    "print('最优参数：', gscv.best_params_)\n",
    "print('最优模型：', gscv.best_estimator_)\n",
    "print('最优得分：', gscv.best_score_)"
   ]
  },
  {
   "cell_type": "markdown",
   "metadata": {},
   "source": [
    "#### 使用最优参数创建模型"
   ]
  },
  {
   "cell_type": "code",
   "execution_count": 34,
   "metadata": {},
   "outputs": [
    {
     "data": {
      "text/plain": [
       "RandomForestClassifier(bootstrap=True, class_weight=None, criterion='gini',\n",
       "                       max_depth=None, max_features='auto', max_leaf_nodes=None,\n",
       "                       min_impurity_decrease=0.0, min_impurity_split=None,\n",
       "                       min_samples_leaf=1, min_samples_split=2,\n",
       "                       min_weight_fraction_leaf=0.0, n_estimators=120,\n",
       "                       n_jobs=None, oob_score=False, random_state=9, verbose=0,\n",
       "                       warm_start=False)"
      ]
     },
     "execution_count": 34,
     "metadata": {},
     "output_type": "execute_result"
    }
   ],
   "source": [
    "# 标准化\n",
    "ss = StandardScaler()\n",
    "X2 = ss.fit_transform(X)\n",
    "\n",
    "# 降维处理\n",
    "pca = PCA(n_components=0.9)\n",
    "x = pca.fit_transform(X2, Y)\n",
    "\n",
    "# 数据集划分\n",
    "x2_train, x2_test, y2_train, y2_test = train_test_split(x, Y,\n",
    "                                                       test_size=0.2,\n",
    "                                                       random_state=9)\n",
    "\n",
    "# 创建随机森林模型\n",
    "rforest = RandomForestClassifier(n_estimators=120,\n",
    "                                 criterion='gini',\n",
    "                                random_state=9)\n",
    "rforest.fit(x2_train, y2_train)"
   ]
  },
  {
   "cell_type": "code",
   "execution_count": 42,
   "metadata": {
    "lang": "en"
   },
   "outputs": [
    {
     "name": "stdout",
     "output_type": "stream",
     "text": [
      "第二个模型的准确率是：85.4651%\n",
      "预测结果的前5项：\n",
      " [[0 0 0 0]\n",
      " [0 0 0 0]\n",
      " [0 0 0 0]\n",
      " [0 0 0 0]\n",
      " [0 0 0 0]]\n",
      "实际结果的前5项：\n",
      " [[0 1 0 0]\n",
      " [0 1 0 1]\n",
      " [0 0 0 0]\n",
      " [0 0 0 0]\n",
      " [0 0 0 0]]\n"
     ]
    }
   ],
   "source": [
    "# 模型评分\n",
    "score_2 = rforest.score(x2_test, y2_test)\n",
    "print('第二个模型的准确率是：%.4f%%' % (score_2*100))\n",
    "\n",
    "# 预测测试集结果\n",
    "y2_predict = rforest.predict(x2_test)\n",
    "print('预测结果的前5项：\\n', y2_predict[:5])\n",
    "print('实际结果的前5项：\\n', y2_test[:5])"
   ]
  },
  {
   "cell_type": "code",
   "execution_count": 51,
   "metadata": {},
   "outputs": [
    {
     "name": "stdout",
     "output_type": "stream",
     "text": [
      "预测结果的前5项：\n",
      " [0.89166667 0.10833333]\n"
     ]
    }
   ],
   "source": [
    "# 查看预测结果的概率值\n",
    "y2_predict_proba = rforest.predict_proba(x2_test)\n",
    "print('预测结果的前5项：\\n', y2_predict_proba[0][0])"
   ]
  },
  {
   "cell_type": "code",
   "execution_count": 67,
   "metadata": {},
   "outputs": [
    {
     "name": "stdout",
     "output_type": "stream",
     "text": [
      "Hinselmann目标属性AUC值： 0.9738372093023255\n",
      "Schiller目标属性AUC值： 0.9437533802055165\n",
      "Citology目标属性AUC值： 0.9508180097349919\n",
      "Biopsy目标属性AUC值： 0.9619388858842618\n"
     ]
    }
   ],
   "source": [
    "forest_fpr1, forest_tpr1, _ = metrics.roc_curve(\n",
    "    label_binarize(y2_test.T[0].tolist()[0], classes=(0, 1, 2)).T[:2].T.ravel(),\n",
    "    y2_predict_proba[0].ravel()\n",
    ")\n",
    "forest_fpr2, forest_tpr2, _ = metrics.roc_curve(\n",
    "    label_binarize(y2_test.T[1].tolist()[0], classes=(0, 1, 2)).T[:2].T.ravel(),\n",
    "    y2_predict_proba[1].ravel()\n",
    ")\n",
    "forest_fpr3, forest_tpr3, _ = metrics.roc_curve(\n",
    "    label_binarize(y2_test.T[2].tolist()[0], classes=(0, 1, 2)).T[:2].T.ravel(),\n",
    "    y2_predict_proba[2].ravel()\n",
    ")\n",
    "forest_fpr4, forest_tpr4, _ = metrics.roc_curve(\n",
    "    label_binarize(y2_test.T[3].tolist()[0], classes=(0, 1, 2)).T[:2].T.ravel(),\n",
    "    y2_predict_proba[3].ravel()\n",
    ")\n",
    "\n",
    "# 计算AUC\n",
    "auc1 = metrics.auc(forest_fpr1, forest_tpr1)\n",
    "auc2 = metrics.auc(forest_fpr2, forest_tpr2)\n",
    "auc3 = metrics.auc(forest_fpr3, forest_tpr3)\n",
    "auc4 = metrics.auc(forest_fpr4, forest_tpr4)\n",
    "\n",
    "print (\"Hinselmann目标属性AUC值：\", auc1)\n",
    "print (\"Schiller目标属性AUC值：\", auc2)\n",
    "print (\"Citology目标属性AUC值：\", auc3)\n",
    "print (\"Biopsy目标属性AUC值：\", auc4)"
   ]
  },
  {
   "cell_type": "code",
   "execution_count": 68,
   "metadata": {},
   "outputs": [
    {
     "name": "stdout",
     "output_type": "stream",
     "text": [
      "[1 0]\n",
      "[0 1]\n",
      "[1 0]\n",
      "[1 0]\n"
     ]
    }
   ],
   "source": [
    "# 将其转化为one hot 编码\n",
    "print(label_binarize(y2_test.T[0].tolist()[0], classes=(0, 1, 2)).T[:2].T[0])\n",
    "print(label_binarize(y2_test.T[1].tolist()[0], classes=(0, 1, 2)).T[:2].T[0])\n",
    "print(label_binarize(y2_test.T[2].tolist()[0], classes=(0, 1, 2)).T[:2].T[0])\n",
    "print(label_binarize(y2_test.T[3].tolist()[0], classes=(0, 1, 2)).T[:2].T[0])"
   ]
  },
  {
   "cell_type": "code",
   "execution_count": 69,
   "metadata": {},
   "outputs": [
    {
     "name": "stdout",
     "output_type": "stream",
     "text": [
      "预测结果的前5项：\n",
      " [0 0 0 0]\n",
      "实际结果的前5项：\n",
      " [[0 1 0 0]]\n"
     ]
    }
   ],
   "source": [
    "print('预测结果的前5项：\\n', y2_predict[0])\n",
    "print('实际结果的前5项：\\n', y2_test[0])"
   ]
  },
  {
   "cell_type": "code",
   "execution_count": 70,
   "metadata": {},
   "outputs": [
    {
     "data": {
      "image/png": "[encoded data removed]",
      "text/plain": [
       "<Figure size 576x432 with 1 Axes>"
      ]
     },
     "metadata": {},
     "output_type": "display_data"
    }
   ],
   "source": [
    "# 绘制ROC曲线\n",
    "## 8. 画图（ROC图）\n",
    "plt.figure(figsize=(8, 6), facecolor='w')\n",
    "plt.plot(forest_fpr1,forest_tpr1,c='r',lw=2,label=u'Hinselmann目标属性,AUC=%.3f' % auc1)\n",
    "plt.plot(forest_fpr2,forest_tpr2,c='b',lw=2,label=u'Schiller目标属性,AUC=%.3f' % auc2)\n",
    "plt.plot(forest_fpr3,forest_tpr3,c='g',lw=2,label=u'Citology目标属性,AUC=%.3f' % auc3)\n",
    "plt.plot(forest_fpr4,forest_tpr4,c='y',lw=2,label=u'Biopsy目标属性,AUC=%.3f' % auc4)\n",
    "plt.plot((0,1),(0,1),c='#a0a0a0',lw=2,ls='--')\n",
    "plt.xlim(-0.001, 1.001)\n",
    "plt.ylim(-0.001, 1.001)\n",
    "plt.xticks(np.arange(0, 1.1, 0.1))\n",
    "plt.yticks(np.arange(0, 1.1, 0.1))\n",
    "plt.xlabel('False Positive Rate(FPR)', fontsize=16)\n",
    "plt.ylabel('True Positive Rate(TPR)', fontsize=16)\n",
    "plt.grid(b=True, ls=':')\n",
    "plt.legend(loc='lower right', fancybox=True, framealpha=0.8, fontsize=12)\n",
    "plt.title(u'随机森林多目标属性分类ROC曲线', fontsize=18)\n",
    "plt.show()"
   ]
  },
  {
   "cell_type": "code",
   "execution_count": null,
   "metadata": {},
   "outputs": [],
   "source": []
  }
 ],
 "metadata": {
  "kernelspec": {
   "display_name": "Python 3",
   "language": "python",
   "name": "python3"
  },
  "language_info": {
   "codemirror_mode": {
    "name": "ipython",
    "version": 3
   },
   "file_extension": ".py",
   "mimetype": "text/x-python",
   "name": "python",
   "nbconvert_exporter": "python",
   "pygments_lexer": "ipython3",
   "version": "3.7.3"
  },
  "nbTranslate": {
   "displayLangs": [
    "zh-cn"
   ],
   "hotkey": "alt-t",
   "langInMainMenu": true,
   "sourceLang": "en",
   "targetLang": "zh-cn",
   "useGoogleTranslate": true
  },
  "varInspector": {
   "cols": {
    "lenName": 16,
    "lenType": 16,
    "lenVar": 40
   },
   "kernels_config": {
    "python": {
     "delete_cmd_postfix": "",
     "delete_cmd_prefix": "del ",
     "library": "var_list.py",
     "varRefreshCmd": "print(var_dic_list())"
    },
    "r": {
     "delete_cmd_postfix": ") ",
     "delete_cmd_prefix": "rm(",
     "library": "var_list.r",
     "varRefreshCmd": "cat(var_dic_list()) "
    }
   },
   "position": {
    "height": "252px",
    "left": "963px",
    "right": "20px",
    "top": "63px",
    "width": "304px"
   },
   "types_to_exclude": [
    "module",
    "function",
    "builtin_function_or_method",
    "instance",
    "_Feature"
   ],
   "window_display": true
  }
 },
 "nbformat": 4,
 "nbformat_minor": 2
}
