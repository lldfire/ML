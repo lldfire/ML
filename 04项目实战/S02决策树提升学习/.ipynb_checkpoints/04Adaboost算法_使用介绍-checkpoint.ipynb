{
 "cells": [
  {
   "cell_type": "code",
   "execution_count": 1,
   "metadata": {},
   "outputs": [],
   "source": [
    "import numpy as np\n",
    "import matplotlib.pyplot as plt\n",
    "\n",
    "from sklearn.ensemble import AdaBoostClassifier    # Adaboost 分类算法\n",
    "from sklearn.tree import DecisionTreeClassifier    # 分类树\n",
    "from sklearn.datasets import make_gaussian_quantiles     # 造数据模块"
   ]
  },
  {
   "cell_type": "code",
   "execution_count": 2,
   "metadata": {},
   "outputs": [],
   "source": [
    "plt.rcParams['font.sans-serif'] = [u'Heiti']\n",
    "plt.rcParams['axes.unicode_minus'] = False"
   ]
  },
  {
   "cell_type": "markdown",
   "metadata": {},
   "source": [
    "### make_gaussian_quantiles：\n",
    "#### 作用：通过分为树生成符合高斯分布的数据集\n",
    "\n",
    "#### 参数说明：\n",
    "- mean: 数组（None)，特征数组的形状；多维数据正态分布的均值，如果为None,则认为是远点（0，0，……）\n",
    "- cov: float（1.）；单位矩阵乘以该值得到协方差矩阵，该数据集仅生成正态对称分布。\n",
    "- n_samples: int（100），样本总量\n",
    "- n_features: int（2），每个样本的特征数量\n",
    "- n_classes: int（3），数据集分几个类别\n",
    "- shuffle: bool（True），打乱样本\n",
    "- random_state: 随机数\n",
    "\n",
    "#### 返回值\n",
    "- X: 生成的样本\n",
    "- y: 每个样本对应的整数标签"
   ]
  },
  {
   "cell_type": "code",
   "execution_count": 24,
   "metadata": {
    "lang": "en"
   },
   "outputs": [],
   "source": [
    "# 生成样本\n",
    "x1, y1 = make_gaussian_quantiles(cov=2., n_samples=200, n_features=2,\n",
    "                                 n_classes=2, random_state=9)\n",
    "\n",
    "x2, y2 = make_gaussian_quantiles(mean=(3, 3), cov=1.5,\n",
    "                                 n_samples=300, n_features=2,\n",
    "                                 n_classes=2, random_state=9)\n",
    "\n",
    "# 组合样本\n",
    "X = np.concatenate((x1, x2))\n",
    "Y = np.concatenate((y1, - y2 + 1))     # 将y2的标签颠倒"
   ]
  },
  {
   "cell_type": "markdown",
   "metadata": {},
   "source": [
    "### Adaboost：\n",
    "#### 作用：基于其他分类器的的分类器，根据其他分类器的预测结果调整样本的权重\n",
    "#### 参数说明：\n",
    "- base_estimator: 基础估计器，如果为None，默认为分类决策树\n",
    "- n_estimators: integer（50），最大迭代次数，如果完美拟合则提前停止\n",
    "- learning_rate: float（1.），学习率，正则指数的衰减率, 0-1\n",
    "- algorithm: SAMME 和 SAMME.R 。运算规则，后者是优化算法，以概率调整权重，迭代速度快\n",
    "- randon_state:\n",
    "\n",
    "#### 返回属性：\n",
    "- estimators_ : 子分类器的集合\n",
    "- classes_ : 分类标签\n",
    "- n_classes_ : 分类数量\n",
    "- estimator_weights_ : 每个子估计器的权重\n",
    "- estimator_errors_ : 每个子估计器的误差\n",
    "- feature_importances_ : 特征重要性\n"
   ]
  },
  {
   "cell_type": "markdown",
   "metadata": {},
   "source": [
    "#### Adaboost的具体使用"
   ]
  },
  {
   "cell_type": "code",
   "execution_count": 71,
   "metadata": {},
   "outputs": [
    {
     "data": {
      "text/plain": [
       "AdaBoostClassifier(algorithm='SAMME.R',\n",
       "                   base_estimator=DecisionTreeClassifier(class_weight=None,\n",
       "                                                         criterion='gini',\n",
       "                                                         max_depth=1,\n",
       "                                                         max_features=None,\n",
       "                                                         max_leaf_nodes=None,\n",
       "                                                         min_impurity_decrease=0.0,\n",
       "                                                         min_impurity_split=None,\n",
       "                                                         min_samples_leaf=1,\n",
       "                                                         min_samples_split=2,\n",
       "                                                         min_weight_fraction_leaf=0.0,\n",
       "                                                         presort=False,\n",
       "                                                         random_state=None,\n",
       "                                                         splitter='best'),\n",
       "                   learning_rate=1.0, n_estimators=200, random_state=None)"
      ]
     },
     "execution_count": 71,
     "metadata": {},
     "output_type": "execute_result"
    }
   ],
   "source": [
    "abdt = AdaBoostClassifier(\n",
    "    base_estimator=DecisionTreeClassifier(max_depth=1),\n",
    "    n_estimators=200,\n",
    "    learning_rate=1.,\n",
    "    algorithm='SAMME.R',\n",
    ")\n",
    "\n",
    "abdt.fit(X, Y)"
   ]
  },
  {
   "cell_type": "code",
   "execution_count": null,
   "metadata": {},
   "outputs": [],
   "source": [
    "print('估计器的标签', abdt.classes_)\n",
    "print('估计器的分类数量', abdt.n_classes_)\n",
    "print('子估计器的权重', abdt.estimator_weights_)\n",
    "print('子估计器的误差', abdt.estimator_errors_)"
   ]
  },
  {
   "cell_type": "code",
   "execution_count": 72,
   "metadata": {},
   "outputs": [],
   "source": [
    "# 创建数据集验证分类器的效果\n",
    "plot_step = 0.02\n",
    "x_min, x_max = X[:, 0].min() - 1, X[:, 0].max() + 1\n",
    "y_min, y_max = X[:, 1].min() - 1, X[:, 1].max() + 1\n",
    "xx, yy = np.meshgrid(np.arange(x_min, x_max, plot_step),\n",
    "                     np.arange(y_min, y_max, plot_step))\n",
    "\n",
    "#预测\n",
    "Z = abdt.predict(np.c_[xx.ravel(), yy.ravel()])  # 生成具有两个属性的样本"
   ]
  },
  {
   "cell_type": "markdown",
   "metadata": {
    "lang": "fr"
   },
   "source": [
    "Le nombre total de points répartis également entre les classes."
   ]
  },
  {
   "cell_type": "markdown",
   "metadata": {},
   "source": [
    "- np.c_: 将数组按行拼接，要求左右两个矩阵行数相等\n",
    "- np.r_: 将数组按列拼接，要求左右两个矩阵列树相等"
   ]
  },
  {
   "cell_type": "code",
   "execution_count": 73,
   "metadata": {},
   "outputs": [],
   "source": [
    "# 设置维度\n",
    "Z = Z.reshape(xx.shape)"
   ]
  },
  {
   "cell_type": "markdown",
   "metadata": {},
   "source": [
    "#### 画图"
   ]
  },
  {
   "cell_type": "code",
   "execution_count": 85,
   "metadata": {},
   "outputs": [
    {
     "name": "stdout",
     "output_type": "stream",
     "text": [
      "-0.28614990253477324\n",
      "0.0\n"
     ]
    },
    {
     "data": {
      "image/png": "[encoded data removed]",
      "text/plain": [
       "<Figure size 864x432 with 2 Axes>"
      ]
     },
     "metadata": {},
     "output_type": "display_data"
    }
   ],
   "source": [
    "plt.figure(facecolor='w', figsize=(12, 6))\n",
    "#  一行2列的符合图\n",
    "plt.subplot(1, 2, 1)     # 绘制第一个子图\n",
    "plt.pcolormesh(xx, yy, Z, cmap='winter')\n",
    "\n",
    "class_names = ['A', 'B']\n",
    "plot_colors = ['r', 'b']\n",
    "# 绘制散点图\n",
    "for i, n, c in zip(range(2), class_names, plot_colors):\n",
    "    idx = np.where(Y == i)\n",
    "    plt.scatter(X[idx, 0], X[idx, 1],\n",
    "                c=c, cmap='spring',\n",
    "                label=u\"类别%s\" % n)\n",
    "\n",
    "plt.xlim(x_min, x_max)\n",
    "plt.ylim(y_min, y_max)\n",
    "plt.legend(loc='upper right')\n",
    "plt.xlabel('x', fontsize=18)\n",
    "plt.ylabel('y', fontsize=18)\n",
    "plt.title(u'AdaBoost分类结果,正确率为:%.2f%%' % (abdt.score(X, Y) * 100))\n",
    "\n",
    "plt.subplot(1, 2, 2)\n",
    "twoclass_output = abdt.decision_function(X)  # 决策函数的数值\n",
    "plot_range = (twoclass_output.min(), twoclass_output.max()) # \n",
    "for i, n, c in zip(range(2), class_names, plot_colors):\n",
    "    plt.hist(\n",
    "        twoclass_output[Y == i],\n",
    "        bins=20,\n",
    "        range=plot_range,\n",
    "        facecolor=c,\n",
    "        label=u'类别 %s' % n,\n",
    "        alpha=0.8      \n",
    "    )\n",
    "x1, x2, y1, y2 = plt.axis()\n",
    "print(x1)\n",
    "print(y1)\n",
    "plt.legend()\n",
    "plt.ylabel('样本数', fontsize=16, color='r')\n",
    "plt.xlabel('决策函数值', fontsize=16, color='r')\n",
    "plt.title('AdaBoost的决策值', fontsize=16, color='r')\n",
    "plt.tight_layout()    # 自动调整子图参数\n",
    "plt.subplots_adjust(wspace=0.35)    # 与上一个协同作用\n",
    "plt.show()"
   ]
  },
  {
   "cell_type": "code",
   "execution_count": null,
   "metadata": {},
   "outputs": [],
   "source": [
    "abdt.decision_function()"
   ]
  },
  {
   "cell_type": "code",
   "execution_count": null,
   "metadata": {},
   "outputs": [],
   "source": []
  },
  {
   "cell_type": "code",
   "execution_count": null,
   "metadata": {},
   "outputs": [],
   "source": []
  },
  {
   "cell_type": "markdown",
   "metadata": {
    "lang": "fr"
   },
   "source": [
    "Le nombre total de points répartis également entre les classes."
   ]
  }
 ],
 "metadata": {
  "kernelspec": {
   "display_name": "Python 3",
   "language": "python",
   "name": "python3"
  },
  "language_info": {
   "codemirror_mode": {
    "name": "ipython",
    "version": 3
   },
   "file_extension": ".py",
   "mimetype": "text/x-python",
   "name": "python",
   "nbconvert_exporter": "python",
   "pygments_lexer": "ipython3",
   "version": "3.7.3"
  },
  "nbTranslate": {
   "displayLangs": [
    "en",
    "zh-cn"
   ],
   "hotkey": "alt-t",
   "langInMainMenu": true,
   "sourceLang": "en",
   "targetLang": "zh-cn",
   "useGoogleTranslate": true
  },
  "varInspector": {
   "cols": {
    "lenName": 16,
    "lenType": 16,
    "lenVar": 40
   },
   "kernels_config": {
    "python": {
     "delete_cmd_postfix": "",
     "delete_cmd_prefix": "del ",
     "library": "var_list.py",
     "varRefreshCmd": "print(var_dic_list())"
    },
    "r": {
     "delete_cmd_postfix": ") ",
     "delete_cmd_prefix": "rm(",
     "library": "var_list.r",
     "varRefreshCmd": "cat(var_dic_list()) "
    }
   },
   "types_to_exclude": [
    "module",
    "function",
    "builtin_function_or_method",
    "instance",
    "_Feature"
   ],
   "window_display": false
  }
 },
 "nbformat": 4,
 "nbformat_minor": 2
}
