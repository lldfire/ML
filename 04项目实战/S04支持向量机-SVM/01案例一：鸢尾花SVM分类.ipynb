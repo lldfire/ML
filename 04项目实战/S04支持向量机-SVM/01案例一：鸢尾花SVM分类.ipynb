{
 "cells": [
  {
   "cell_type": "markdown",
   "metadata": {},
   "source": [
    "### svm.SVC使用说明\n",
    "#### 功能\n",
    "构建SVM分类模型\n",
    "\n",
    "#### 参数\n",
    "- C: float,1.0；惩罚项参数C，一般大于0，C越大表示训练过程中对C的关注度越高，即训练效果越好，容易造成过拟合问题\n",
    "- kernel: str,'rbf；选取核函数，可选用类型有‘linear’, ‘poly’, ‘rbf’, ‘sigmoid’, ‘precomputed’ \n",
    "- degree: int,3；使用多项式核函数时，给定的多项式的项数\n",
    "- gamma: float,auto；使用'rbf'、'poly'、'sigmoid'核函数作为SVM的核函数时，核函数的系数值\n",
    "- coef0: float,0；使用'poly'、'sigmoid'作为核函数时，给定的独立系数\n",
    "- shrinking: boolean,True；是否开启收缩启发式计算式计算\n",
    "- probability: boolean,False；是否启用概率估计\n",
    "- tol: float,0.001；模型的收敛参数，当模型的准确率变化率小于该参数时，停止构建模型\n",
    "- cache_size: float,200(MB)；模型构建过程中，数据缓存的最大的内存大小\n",
    "- class_weight: dict；给定的各个类别的权重大小，默认None，权重相同\n",
    "- max_iter: int,-1；最大的迭代次数，-1表示不限制次数\n",
    "- decision_function_shape: str,'ovr'；决策函数，可选'ovo'和'ovr'\n",
    "- random_state:\n",
    "\n",
    "#### 返回值\n",
    "\n",
    "#### 属性\n",
    "- support_: 支持向量机的指标\n",
    "- support_vectors_: 支持向量\n",
    "- n_support_: 每个类别支持向量的数量\n",
    "- dual_coef_: 决策函数中，支持向量的系数\n",
    "- coef_: 赋予特征的权重\n",
    "- intercept_: 决策函数中的常量\n",
    "- fit_status_: 训练状态，0 正常，1 不正常\n",
    "- probA_:\n",
    "- probB_: 如果启用概率估计，决策值生成的概率估计\n",
    "\n",
    "#### 方法\n",
    "同其他API"
   ]
  },
  {
   "cell_type": "code",
   "execution_count": 35,
   "metadata": {},
   "outputs": [],
   "source": [
    "import numpy as np\n",
    "import warnings\n",
    "import matplotlib.pyplot as plt\n",
    "\n",
    "from sklearn import svm\n",
    "from sklearn.model_selection import train_test_split\n",
    "from sklearn.preprocessing import StandardScaler\n",
    "from sklearn.datasets import load_iris\n",
    "from sklearn.metrics import accuracy_score     # 计算模型的准确率\n",
    "from sklearn.exceptions import ChangedBehaviorWarning    # 异常和警告模块"
   ]
  },
  {
   "cell_type": "code",
   "execution_count": 2,
   "metadata": {},
   "outputs": [],
   "source": [
    "# 设置显示中文\n",
    "plt.rcParams['font.sans-serif'] = ['Heiti']\n",
    "plt.rcParams['axes.unicode_minus'] = False"
   ]
  },
  {
   "cell_type": "code",
   "execution_count": 36,
   "metadata": {},
   "outputs": [],
   "source": [
    "# 忽略警告\n",
    "warnings.filterwarnings('ignore', category=ChangedBehaviorWarning)"
   ]
  },
  {
   "cell_type": "markdown",
   "metadata": {},
   "source": [
    "### SVM实现\n",
    "#### 读取数据"
   ]
  },
  {
   "cell_type": "code",
   "execution_count": 31,
   "metadata": {},
   "outputs": [
    {
     "name": "stdout",
     "output_type": "stream",
     "text": [
      "数据的前两个值：\n",
      " [[5.1 3.5 1.4 0.2]\n",
      " [4.9 3.  1.4 0.2]]\n",
      "标签名为： ['setosa' 'versicolor' 'virginica']\n",
      "特征名为： ['sepal length (cm)', 'sepal width (cm)', 'petal length (cm)', 'petal width (cm)']\n"
     ]
    }
   ],
   "source": [
    "data = load_iris().data    # 读取数据, (150, 4)\n",
    "target = load_iris().target     # 数据标签, 3\n",
    "target_name = load_iris().target_names     # 标签名\n",
    "features = load_iris().feature_names     # 特征名\n",
    "# 查看标签名和特征名\n",
    "print('数据的前两个值：\\n', data[:2])\n",
    "print('标签名为：', target_name)\n",
    "print('特征名为：', features)"
   ]
  },
  {
   "cell_type": "markdown",
   "metadata": {},
   "source": [
    "#### 预处理"
   ]
  },
  {
   "cell_type": "code",
   "execution_count": 32,
   "metadata": {},
   "outputs": [
    {
     "name": "stdout",
     "output_type": "stream",
     "text": [
      "标准化后前连个值：\n",
      " [[-0.90068117  1.01900435 -1.34022653 -1.3154443 ]\n",
      " [-1.14301691 -0.13197948 -1.34022653 -1.3154443 ]]\n"
     ]
    }
   ],
   "source": [
    "ss = StandardScaler()\n",
    "data = ss.fit_transform(data)\n",
    "print('标准化后前连个值：\\n', data[:2])\n",
    "\n",
    "# 数据集划分\n",
    "x_train, x_test, y_train, y_test = train_test_split(\n",
    "    data, target, test_size=0.2, random_state=9)"
   ]
  },
  {
   "cell_type": "markdown",
   "metadata": {},
   "source": [
    "#### 构建模型"
   ]
  },
  {
   "cell_type": "code",
   "execution_count": 37,
   "metadata": {},
   "outputs": [
    {
     "name": "stderr",
     "output_type": "stream",
     "text": [
      "/Library/Frameworks/Python.framework/Versions/3.7/lib/python3.7/site-packages/sklearn/svm/base.py:193: FutureWarning: The default value of gamma will change from 'auto' to 'scale' in version 0.22 to account better for unscaled features. Set gamma explicitly to 'auto' or 'scale' to avoid this warning.\n",
      "  \"avoid this warning.\", FutureWarning)\n"
     ]
    },
    {
     "data": {
      "text/plain": [
       "SVC(C=1.0, cache_size=200, class_weight=None, coef0=0.0,\n",
       "    decision_function_shape='ovr', degree=3, gamma='auto_deprecated',\n",
       "    kernel='rbf', max_iter=-1, probability=False, random_state=None,\n",
       "    shrinking=True, tol=0.001, verbose=False)"
      ]
     },
     "execution_count": 37,
     "metadata": {},
     "output_type": "execute_result"
    }
   ],
   "source": [
    "clf = svm.SVC()\n",
    "clf.fit(x_train, y_train)"
   ]
  },
  {
   "cell_type": "markdown",
   "metadata": {},
   "source": [
    "#### 查看属性"
   ]
  },
  {
   "cell_type": "code",
   "execution_count": null,
   "metadata": {},
   "outputs": [],
   "source": [
    "print('支持向量的指标：', clf.support_)\n",
    "print('支持向量：', clf.support_vectors_)\n",
    "print('每个类别支持向量的数量：', clf.n_support_)\n",
    "# print('特征的权重：', clf.coef_)\n",
    "print('模型训练状态：', clf.fit_status_)"
   ]
  },
  {
   "cell_type": "markdown",
   "metadata": {},
   "source": [
    "#### 模型评估"
   ]
  },
  {
   "cell_type": "code",
   "execution_count": 44,
   "metadata": {},
   "outputs": [
    {
     "name": "stdout",
     "output_type": "stream",
     "text": [
      "模型准确率： 1.0\n",
      "训练集准确率： 0.975\n",
      "测试集准确率： 1.0\n"
     ]
    }
   ],
   "source": [
    "print('模型准确率：', clf.score(x_test, y_test))\n",
    "print('训练集准确率：', accuracy_score(y_train, clf.predict(x_train)))\n",
    "print('测试集准确率：', accuracy_score(y_test, clf.predict(x_test)))\n"
   ]
  },
  {
   "cell_type": "markdown",
   "metadata": {},
   "source": [
    "### 画图"
   ]
  },
  {
   "cell_type": "code",
   "execution_count": 47,
   "metadata": {},
   "outputs": [],
   "source": [
    "y_predict = clf.predict(x_test)"
   ]
  },
  {
   "cell_type": "code",
   "execution_count": null,
   "metadata": {},
   "outputs": [],
   "source": [
    "# 取前两个特征绘制区域图\n",
    "x1_min, x2_min, x3_min, x4_min = data.min(axis=0)\n",
    "x1_max, x2_max, x3_max, x4_max = data.min(axis=0)\n",
    "\n",
    "# 生成采样点网格\n",
    "N = 500\n",
    "t1 = np.linspace(x1_min, x1_max, N)\n",
    "t2 = np.linspace(x2_min, x2_max, N)\n",
    "t3 = np.linspace(x3_min, x3_max, N)\n",
    "t4 = np.linspace(x4_min, x4_max, N)\n",
    "\n",
    "x1, x2, x3, x4 =  np.meshgrid(t1, t2, t3, t4)"
   ]
  },
  {
   "cell_type": "code",
   "execution_count": null,
   "metadata": {},
   "outputs": [],
   "source": []
  },
  {
   "cell_type": "code",
   "execution_count": 1,
   "metadata": {},
   "outputs": [
    {
     "name": "stdout",
     "output_type": "stream",
     "text": [
      "1\n"
     ]
    }
   ],
   "source": []
  },
  {
   "cell_type": "code",
   "execution_count": null,
   "metadata": {},
   "outputs": [],
   "source": []
  }
 ],
 "metadata": {
  "kernelspec": {
   "display_name": "Python 3",
   "language": "python",
   "name": "python3"
  },
  "language_info": {
   "codemirror_mode": {
    "name": "ipython",
    "version": 3
   },
   "file_extension": ".py",
   "mimetype": "text/x-python",
   "name": "python",
   "nbconvert_exporter": "python",
   "pygments_lexer": "ipython3",
   "version": "3.7.3"
  },
  "toc": {
   "base_numbering": 1,
   "nav_menu": {},
   "number_sections": true,
   "sideBar": true,
   "skip_h1_title": false,
   "title_cell": "Table of Contents",
   "title_sidebar": "Contents",
   "toc_cell": false,
   "toc_position": {
    "height": "calc(100% - 180px)",
    "left": "10px",
    "top": "150px",
    "width": "256px"
   },
   "toc_section_display": true,
   "toc_window_display": false
  },
  "varInspector": {
   "cols": {
    "lenName": 16,
    "lenType": 16,
    "lenVar": 40
   },
   "kernels_config": {
    "python": {
     "delete_cmd_postfix": "",
     "delete_cmd_prefix": "del ",
     "library": "var_list.py",
     "varRefreshCmd": "print(var_dic_list())"
    },
    "r": {
     "delete_cmd_postfix": ") ",
     "delete_cmd_prefix": "rm(",
     "library": "var_list.r",
     "varRefreshCmd": "cat(var_dic_list()) "
    }
   },
   "types_to_exclude": [
    "module",
    "function",
    "builtin_function_or_method",
    "instance",
    "_Feature"
   ],
   "window_display": false
  }
 },
 "nbformat": 4,
 "nbformat_minor": 2
}
