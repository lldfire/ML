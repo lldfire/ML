{
 "cells": [
  {
   "cell_type": "markdown",
   "metadata": {},
   "source": [
    "## 整体思路：\n",
    "1. 了解业务场景\n",
    "2. 数据清洗\n",
    "3. 特征提取，目的是尽可能多的保留信息；如：关键词提取，\n",
    "4. 选择算法，传入数据训练模型\n",
    "5. 模型调整"
   ]
  },
  {
   "cell_type": "markdown",
   "metadata": {},
   "source": [
    "## 需求分析：\n",
    "1. 有监督学习\n",
    "2. 二分类问题\n",
    "3. 主要是长文本数据"
   ]
  },
  {
   "cell_type": "markdown",
   "metadata": {},
   "source": [
    "## 模型选择\n",
    "1. SVM\n",
    "2. KNN\n",
    "3. GDBT\n",
    "4. 朴素贝叶斯\n",
    "5. 决策树\n",
    "6. 随机森林"
   ]
  },
  {
   "cell_type": "markdown",
   "metadata": {},
   "source": [
    "## 数据清洗\n",
    "1. 将邮件数据转化为结构化的数据，并去掉其他不需要的字段，仅保留发件人、收件人、发送时间、邮件内容\n",
    "2. "
   ]
  }
 ],
 "metadata": {
  "kernelspec": {
   "display_name": "Python 3",
   "language": "python",
   "name": "python3"
  },
  "language_info": {
   "codemirror_mode": {
    "name": "ipython",
    "version": 3
   },
   "file_extension": ".py",
   "mimetype": "text/x-python",
   "name": "python",
   "nbconvert_exporter": "python",
   "pygments_lexer": "ipython3",
   "version": "3.7.3"
  }
 },
 "nbformat": 4,
 "nbformat_minor": 4
}
