{
 "cells": [
  {
   "cell_type": "code",
   "execution_count": 1,
   "metadata": {},
   "outputs": [],
   "source": [
    "import numpy as np\n",
    "import matplotlib.pyplot as plt\n",
    "\n",
    "from time import time\n",
    "\n",
    "# 预处理\n",
    "from sklearn.datasets import fetch_20newsgroups\n",
    "from sklearn.preprocessing import StandardScaler\n",
    "from sklearn.preprocessing import MinMaxScaler\n",
    "from sklearn.preprocessing import PolynomialFeatures    # 生成多项式特征矩阵\n",
    "from sklearn.model_selection import train_test_split\n",
    "from sklearn.feature_extraction.text import TfidfVectorizer\n",
    "from sklearn.feature_selection import chi2    # 卡方检验，\n",
    "from sklearn.feature_selection import SelectKBest\n",
    "\n",
    "# 分类模型\n",
    "from sklearn.linear_model import RidgeClassifier    # 岭回归分类\n",
    "# from sklearn.linear_model import LogisticRegression\n",
    "from sklearn.svm import SVC    # svm\n",
    "from sklearn.svm import LinearSVC    # 线性SVM\n",
    "from sklearn.naive_bayes import MultinomialNB    # 多项式贝叶斯\n",
    "from sklearn.naive_bayes import BernoulliNB     # 伯努利朴素贝叶斯\n",
    "from sklearn.neighbors import KNeighborsClassifier     # KNN\n",
    "from sklearn.ensemble import RandomForestClassifier     # 随机森林\n",
    "from sklearn.model_selection import GridSearchCV     # 交叉验证\n",
    "from sklearn import metrics    # 结果评估\n",
    "\n",
    "from sklearn.pipeline import Pipeline"
   ]
  },
  {
   "cell_type": "code",
   "execution_count": 6,
   "metadata": {},
   "outputs": [],
   "source": [
    "# 数据探索\n",
    "# 不要头部信息\n",
    "remove = ('headers', 'footers', 'quotes')\n",
    "# 只要这四类数据\n",
    "categories = 'alt.atheism', 'talk.religion.misc', 'comp.graphics', 'sci.space'\n",
    "\n",
    "data_train = fetch_20newsgroups(\n",
    "    data_home='./datas/', subset='train',  # 仅读取训练数据\n",
    "    categories=categories,    # 选取数据类别\n",
    "    remove=remove,\n",
    "    shuffle=True, random_state=9\n",
    ")\n",
    "data_test = fetch_20newsgroups(\n",
    "    data_home='./datas/', subset='test',  # 仅读取训练数据\n",
    "    categories=categories,    # 选取数据类别\n",
    "    remove=remove,\n",
    "    shuffle=True, random_state=9\n",
    ")"
   ]
  },
  {
   "cell_type": "code",
   "execution_count": 11,
   "metadata": {},
   "outputs": [
    {
     "name": "stdout",
     "output_type": "stream",
     "text": [
      "训练数据类别： ['alt.atheism', 'comp.graphics', 'sci.space', 'talk.religion.misc']\n",
      "训练数据标签： [2 1 3 ... 3 2 1]\n",
      "训练数据的数量： 2034\n",
      "测试数据类别： ['alt.atheism', 'comp.graphics', 'sci.space', 'talk.religion.misc']\n",
      "测试数据标签： [2 2 0 ... 1 1 0]\n",
      "测试数据的数量： 1353\n"
     ]
    }
   ],
   "source": [
    "# 查看数据信息\n",
    "print('训练数据类别：', data_train.target_names)\n",
    "print('训练数据标签：', data_train.target)\n",
    "print('训练数据的数量：', len(data_train.data))\n",
    "\n",
    "print('测试数据类别：', data_test.target_names)\n",
    "print('测试数据标签：', data_test.target)\n",
    "print('测试数据的数量：', len(data_test.data))"
   ]
  },
  {
   "cell_type": "code",
   "execution_count": 46,
   "metadata": {},
   "outputs": [
    {
     "name": "stdout",
     "output_type": "stream",
     "text": [
      "训练集样本个数2034, 特征数量26576\n",
      "停止词汇：\n",
      " frozenset({'already', 'show', 'except', 'however', 'thereby', 'eg', 'again', 'system', 'my', 'back', 'perhaps', 'because', 'had', 'throughout', 'thin', 'call', 'should', 'must', 'toward', 'three', 'although', 'itself', 'top', 'yet', 'himself', 'nothing', 'hereby', 'one', 'being', 'fifteen', 'forty', 'after', 'someone', 'please', 'ever', 'down', 'amount', 'is', 'from', 're', 'anyone', 'if', 'how', 'our', 'hereupon', 'never', 'against', 'some', 'through', 'will', 'no', 'at', 'ten', 'co', 'see', 'therein', 'only', 'fifty', 'noone', 'among', 'during', 'both', 'somehow', 'full', 'were', 'less', 'within', 'beforehand', 'somewhere', 'up', 'when', 'am', 'another', 'become', 'latterly', 'otherwise', 'all', 'hence', 'there', 'fill', 'many', 'nevertheless', 'couldnt', 'could', 'whom', 'now', 'beyond', 'other', 'side', 'thru', 'any', 'five', 'others', 'also', 'since', 'once', 'therefore', 'into', 'between', 'together', 'out', 'she', 'several', 'until', 'mine', 'whole', 'nobody', 'former', 'under', 'third', 'across', 'something', 'give', 'keep', 'becoming', 'whoever', 'formerly', 'neither', 'below', 'seemed', 'or', 'bottom', 'well', 'same', 'sincere', 'are', 'me', 'sometimes', 'behind', 'seeming', 'anyhow', 'towards', 'everything', 'anywhere', 'while', 'go', 'even', 'get', 'least', 'nowhere', 'becomes', 'either', 'as', 'herself', 'serious', 'their', 'mostly', 'whence', 'us', 'first', 'detail', 'very', 'whose', 'hereafter', 'them', 'front', 'but', 'thereafter', 'fire', 'per', 'twelve', 'whereas', 'would', 'ltd', 'which', 'seem', 'he', 'bill', 'own', 'describe', 'besides', 'else', 'thus', 'seems', 'have', 'anyway', 'too', 'where', 'whatever', 'a', 'latter', 'put', 'empty', 'done', 'cry', 'his', 'yours', 'been', 'namely', 'due', 'nine', 'whether', 'her', 'often', 'they', 'un', 'every', 'though', 'it', 'why', 'themselves', 'alone', 'ours', 'two', 'most', 'everyone', 'meanwhile', 'amoungst', 'was', 'almost', 'hasnt', 'upon', 'here', 'cant', 'each', 'move', 'twenty', 'eleven', 'so', 'name', 'before', 'elsewhere', 'around', 'none', 'i', 'wherever', 'anything', 'hundred', 'with', 'of', 'found', 'next', 'such', 'yourself', 'by', 'on', 'interest', 'etc', 'find', 'who', 'above', 'mill', 'ourselves', 'four', 'what', 'further', 'became', 'take', 'over', 'has', 'thereupon', 'him', 'thence', 'cannot', 'hers', 'whereby', 'not', 'rather', 'can', 'herein', 'thick', 'few', 'nor', 'an', 'more', 'for', 'much', 'about', 'the', 'those', 'wherein', 'moreover', 'along', 'yourselves', 'via', 'de', 'onto', 'amongst', 'to', 'everywhere', 'this', 'its', 'sixty', 'than', 'still', 'off', 'indeed', 'enough', 'whenever', 'last', 'might', 'we', 'inc', 'may', 'then', 'whither', 'made', 'in', 'myself', 'six', 'con', 'without', 'eight', 'you', 'be', 'whereafter', 'your', 'part', 'and', 'ie', 'whereupon', 'beside', 'that', 'sometime', 'do', 'these', 'afterwards', 'always'})\n"
     ]
    }
   ],
   "source": [
    "# 数据归类\n",
    "x_train = data_train.data\n",
    "x_test = data_test.data\n",
    "y_train = data_train.target\n",
    "y_test = data_test.target\n",
    "\n",
    "# 文档转换为向量\n",
    "vectorizer = TfidfVectorizer(stop_words='english', max_df=0.5, sublinear_tf=True)\n",
    "x_train = vectorizer.fit_transform(x_train)\n",
    "x_test = vectorizer.transform(x_test)\n",
    "\n",
    "print('训练集样本个数%d, 特征数量%d' % x_train.shape)\n",
    "print('停止词汇：\\n', vectorizer.get_stop_words())\n",
    "\n",
    "# 获取特征名称\n",
    "feature_names = np.asarray(vectorizer.get_feature_names())"
   ]
  },
  {
   "cell_type": "code",
   "execution_count": 49,
   "metadata": {},
   "outputs": [],
   "source": [
    "# 特征选择\n",
    "ch2 = SelectKBest(chi2, k=1000)    # 使用卡方检验，筛选1000个特征\n",
    "x_train = ch2.fit_transform(x_train, y_train)\n",
    "x_test = ch2.transform(x_test)"
   ]
  },
  {
   "cell_type": "code",
   "execution_count": 59,
   "metadata": {},
   "outputs": [
    {
     "name": "stdout",
     "output_type": "stream",
     "text": [
      "不同分类的比较::\n",
      "\n",
      "当前分类器： ridge\n",
      "5折交叉验证的训练时间为：3.389秒/(5*10)=0.068秒\n",
      "最优超参数为： {'alpha': 0.46415888336127775}\n",
      "测试时间：0.001秒\n",
      "训练集准确率：92.63%\n",
      "测试集准确率：75.83%\n",
      "----------------------------------------\n",
      "当前分类器： KNN\n",
      "5折交叉验证的训练时间为：1.444秒/(5*14)=0.021秒\n",
      "最优超参数为： {'n_neighbors': 1}\n",
      "测试时间：0.076秒\n",
      "训练集准确率：96.41%\n",
      "测试集准确率：50.55%\n",
      "----------------------------------------\n",
      "当前分类器： mnb\n",
      "5折交叉验证的训练时间为：0.084秒/(5*10)=0.002秒\n",
      "最优超参数为： {'alpha': 0.01}\n",
      "测试时间：0.000秒\n",
      "训练集准确率：91.40%\n",
      "测试集准确率：76.72%\n",
      "----------------------------------------\n",
      "当前分类器： bnb\n",
      "5折交叉验证的训练时间为：0.102秒/(5*10)=0.002秒\n",
      "最优超参数为： {'alpha': 0.021544346900318832}\n",
      "测试时间：0.001秒\n",
      "训练集准确率：88.45%\n",
      "测试集准确率：74.43%\n",
      "----------------------------------------\n",
      "当前分类器： randomforest\n",
      "5折交叉验证的训练时间为：6.563秒/(5*6)=0.219秒\n",
      "最优超参数为： {'max_depth': 8}\n",
      "测试时间：0.033秒\n",
      "训练集准确率：74.34%\n",
      "测试集准确率：67.18%\n",
      "----------------------------------------\n",
      "当前分类器： svm\n",
      "5折交叉验证的训练时间为：11.591秒/(5*9)=0.258秒\n",
      "最优超参数为： {'C': 100.0, 'gamma': 0.03162277660168379}\n",
      "测试时间：0.132秒\n",
      "训练集准确率：93.36%\n",
      "测试集准确率：73.54%\n",
      "----------------------------------------\n",
      "当前分类器： linersvc-l1\n"
     ]
    },
    {
     "name": "stderr",
     "output_type": "stream",
     "text": [
      "/Library/Frameworks/Python.framework/Versions/3.7/lib/python3.7/site-packages/sklearn/svm/base.py:929: ConvergenceWarning: Liblinear failed to converge, increase the number of iterations.\n",
      "  \"the number of iterations.\", ConvergenceWarning)\n"
     ]
    },
    {
     "name": "stdout",
     "output_type": "stream",
     "text": [
      "5折交叉验证的训练时间为：5.505秒/(5*3)=0.367秒\n",
      "最优超参数为： {'C': 10.0}\n",
      "测试时间：0.001秒\n",
      "训练集准确率：96.31%\n",
      "测试集准确率：72.21%\n",
      "----------------------------------------\n",
      "当前分类器： linersvc-l2\n",
      "5折交叉验证的训练时间为：0.613秒/(5*3)=0.041秒\n",
      "最优超参数为： {'C': 10.0}\n",
      "测试时间：0.001秒\n",
      "训练集准确率：95.48%\n",
      "测试集准确率：74.58%\n",
      "----------------------------------------\n"
     ]
    }
   ],
   "source": [
    "# 构建分类模型\n",
    "print('不同分类的比较::\\n')\n",
    "clfs = [\n",
    "    (RidgeClassifier(), 'ridge'),\n",
    "    (KNeighborsClassifier(), 'KNN'),\n",
    "    (MultinomialNB(), 'mnb'),\n",
    "    (BernoulliNB(), 'bnb'),\n",
    "    (RandomForestClassifier(n_estimators=200), 'randomforest'),\n",
    "    (SVC(), 'svm'),\n",
    "    (LinearSVC(loss='squared_hinge', penalty='l1', dual=False, tol=1e-4), 'linersvc-l1'),\n",
    "    (LinearSVC(loss='squared_hinge', penalty='l2', dual=False, tol=1e-4), 'linersvc-l2')\n",
    "    \n",
    "]\n",
    "\n",
    "for clf, name in clfs:\n",
    "    benchmark(clf, name)\n",
    "    print('--'*20)"
   ]
  },
  {
   "cell_type": "code",
   "execution_count": 57,
   "metadata": {},
   "outputs": [],
   "source": [
    "def benchmark(clf, name):\n",
    "    print('当前分类器：', name)\n",
    "    \n",
    "    # 进行交叉验证，获取最优参数\n",
    "    alpha_can = np.logspace(-2, 1, 10)\n",
    "    model = GridSearchCV(clf, param_grid={'alpha': alpha_can}, cv=5)\n",
    "    m = alpha_can.size\n",
    "    \n",
    "    # 判断模型中的参数\n",
    "    if hasattr(clf, 'alpha'):\n",
    "        model.set_params(param_grid={'alpha': alpha_can})\n",
    "        m = alpha_can.size\n",
    "    \n",
    "    # 设置KNN参数\n",
    "    if hasattr(clf, 'n_neighbors'):\n",
    "        neighbors_can = np.arange(1, 15)\n",
    "        model.set_params(param_grid={'n_neighbors': neighbors_can})\n",
    "        m = neighbors_can.size\n",
    "    \n",
    "    # LinearSVC最优参数配置\n",
    "    if hasattr(clf, 'C'):\n",
    "        C_can = np.logspace(1, 3, 3)\n",
    "        model.set_params(param_grid={'C':C_can})\n",
    "        m = C_can.size\n",
    "        \n",
    "    # SVM最优参数设置\n",
    "    if hasattr(clf, 'C') & hasattr(clf, 'gamma'):\n",
    "        C_can = np.logspace(1, 3, 3)\n",
    "        gamma_can = np.logspace(-3, 0, 3)\n",
    "        model.set_params(param_grid={'C':C_can, 'gamma':gamma_can})\n",
    "        m = C_can.size * gamma_can.size\n",
    "    # 设置深度相关参数，决策树\n",
    "    if hasattr(clf, 'max_depth'):\n",
    "        max_depth_can = np.arange(4, 10)\n",
    "        model.set_params(param_grid={'max_depth': max_depth_can})\n",
    "        m = max_depth_can.size\n",
    "        \n",
    "    ## 模型训练\n",
    "    t_start = time()\n",
    "    model.fit(x_train, y_train)\n",
    "    t_end = time()\n",
    "    t_train = (t_end - t_start) / (5*m)\n",
    "    print (u'5折交叉验证的训练时间为：%.3f秒/(5*%d)=%.3f秒' % ((t_end - t_start), m, t_train))\n",
    "    print (u'最优超参数为：', model.best_params_)\n",
    "    \n",
    "    ## 模型预测\n",
    "    t_start = time()\n",
    "    y_hat = model.predict(x_test)\n",
    "    t_end = time()\n",
    "    t_test = t_end - t_start\n",
    "    print (u'测试时间：%.3f秒' % t_test)\n",
    "    \n",
    "    ## 模型效果评估\n",
    "    train_acc = metrics.accuracy_score(y_train, model.predict(x_train))\n",
    "    test_acc = metrics.accuracy_score(y_test, y_hat)\n",
    "    print (u'训练集准确率：%.2f%%' % (100 * train_acc))\n",
    "    print (u'测试集准确率：%.2f%%' % (100 * test_acc))"
   ]
  },
  {
   "cell_type": "code",
   "execution_count": 56,
   "metadata": {},
   "outputs": [
    {
     "data": {
      "text/plain": [
       "True"
      ]
     },
     "execution_count": 56,
     "metadata": {},
     "output_type": "execute_result"
    }
   ],
   "source": []
  },
  {
   "cell_type": "code",
   "execution_count": null,
   "metadata": {},
   "outputs": [],
   "source": []
  }
 ],
 "metadata": {
  "kernelspec": {
   "display_name": "Python 3",
   "language": "python",
   "name": "python3"
  },
  "language_info": {
   "codemirror_mode": {
    "name": "ipython",
    "version": 3
   },
   "file_extension": ".py",
   "mimetype": "text/x-python",
   "name": "python",
   "nbconvert_exporter": "python",
   "pygments_lexer": "ipython3",
   "version": "3.7.3"
  },
  "toc": {
   "base_numbering": 1,
   "nav_menu": {},
   "number_sections": true,
   "sideBar": true,
   "skip_h1_title": false,
   "title_cell": "Table of Contents",
   "title_sidebar": "Contents",
   "toc_cell": false,
   "toc_position": {},
   "toc_section_display": true,
   "toc_window_display": false
  },
  "varInspector": {
   "cols": {
    "lenName": 16,
    "lenType": 16,
    "lenVar": 40
   },
   "kernels_config": {
    "python": {
     "delete_cmd_postfix": "",
     "delete_cmd_prefix": "del ",
     "library": "var_list.py",
     "varRefreshCmd": "print(var_dic_list())"
    },
    "r": {
     "delete_cmd_postfix": ") ",
     "delete_cmd_prefix": "rm(",
     "library": "var_list.r",
     "varRefreshCmd": "cat(var_dic_list()) "
    }
   },
   "types_to_exclude": [
    "module",
    "function",
    "builtin_function_or_method",
    "instance",
    "_Feature"
   ],
   "window_display": false
  }
 },
 "nbformat": 4,
 "nbformat_minor": 2
}
