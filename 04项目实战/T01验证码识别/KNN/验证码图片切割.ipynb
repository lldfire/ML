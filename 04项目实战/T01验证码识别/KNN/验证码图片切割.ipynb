{
 "cells": [
  {
   "cell_type": "code",
   "execution_count": 1,
   "metadata": {},
   "outputs": [
    {
     "name": "stderr",
     "output_type": "stream",
     "text": [
      "c:\\users\\86132\\appdata\\local\\programs\\python\\python37\\lib\\site-packages\\sklearn\\externals\\joblib\\__init__.py:15: DeprecationWarning: sklearn.externals.joblib is deprecated in 0.21 and will be removed in 0.23. Please import this functionality directly from joblib, which can be installed with: pip install joblib. If this warning is raised when loading pickled models, you may need to re-serialize those models with scikit-learn 0.21+.\n",
      "  warnings.warn(msg, category=DeprecationWarning)\n"
     ]
    }
   ],
   "source": [
    "import os\n",
    "import cv2\n",
    "import warnings\n",
    "import numpy as np\n",
    "import pandas as pd\n",
    "import matplotlib.pyplot as plt\n",
    "import matplotlib.cm as cm\n",
    "\n",
    "from PIL import Image\n",
    "from PIL import ImageFilter\n",
    "from sklearn.externals import joblib   # 模型保存与导入\n",
    "warnings.simplefilter('ignore')"
   ]
  },
  {
   "cell_type": "code",
   "execution_count": 2,
   "metadata": {},
   "outputs": [],
   "source": [
    "os.chdir(r'C:\\Users\\86132\\Desktop\\works\\spider_works\\zlj\\verifi_code')"
   ]
  },
  {
   "cell_type": "code",
   "execution_count": 3,
   "metadata": {},
   "outputs": [],
   "source": [
    "def two_values(image, threshold=120):\n",
    "    \"\"\"\n",
    "    采用阈值分割法进行二值化处理\n",
    "        image: image object\n",
    "        threshold: 二值化阈值，默认140\n",
    "    return: 二值化后的图片\n",
    "    \"\"\"\n",
    "    image_gray = image.convert('L')      # 灰度处理\n",
    "    pixdata = image_gray.load()      \n",
    "    width, hight = image_gray.size       # 图片的尺寸（像素点）\n",
    "    # 遍历像素点，将大于阈值的设为白色，小于阈值的设黑色\n",
    "    for x in range(width):\n",
    "        for y in range(hight):\n",
    "            if pixdata[x, y] < threshold:\n",
    "                pixdata[x, y] = 0\n",
    "            else:\n",
    "                pixdata[x, y] = 255\n",
    "    return image_gray"
   ]
  },
  {
   "cell_type": "code",
   "execution_count": 4,
   "metadata": {},
   "outputs": [],
   "source": [
    "def reduce_noise(image, threshold=120, n=8):\n",
    "    \"\"\"\n",
    "    采用8邻域降噪法对图片进行降噪\n",
    "        image: image object\n",
    "        threshold: 像素阈值，默认185\n",
    "        n: 满足阈值的数量\n",
    "    return: iamge object\n",
    "    \"\"\"\n",
    "    pix = image.load()\n",
    "    width, hight = image.size\n",
    "    for i in range(10):\n",
    "        for x in range(1, width-1):\n",
    "            for y in range(1, hight-1):\n",
    "                count = 0\n",
    "                if pix[x, y-1] > threshold:   # 上\n",
    "                    count += 1\n",
    "                if pix[x, y+1] > threshold:   # 下\n",
    "                    count += 1\n",
    "                if pix[x-1, y] > threshold:   # 左\n",
    "                    count += 1\n",
    "                if pix[x+1, y] > threshold:   # 右\n",
    "                    count += 1\n",
    "                if pix[x-1, y-1] > threshold:   # 左上\n",
    "                    count += 1\n",
    "                if pix[x-1, y+1] > threshold:   # 左下\n",
    "                    count += 1\n",
    "                if pix[x+1, y-1] > threshold:   # 右上\n",
    "                    count += 1\n",
    "                if pix[x+1, y+1] > threshold:   # 右下\n",
    "                    count += 1\n",
    "                if count > n:     # 如果某个像素点周围的的像素点为白色，则认为改像素点为噪点\n",
    "                    pix[x, y] = 255  \n",
    "        return image"
   ]
  },
  {
   "cell_type": "code",
   "execution_count": 5,
   "metadata": {},
   "outputs": [],
   "source": [
    "def split_image(image):\n",
    "    \"\"\"\n",
    "    将灰度和二值化后的图片进行分割，并将结果返回以供识别\n",
    "        image: image object\n",
    "        name: 图片名\n",
    "    return: None\n",
    "    \"\"\"\n",
    "    image.crop([2, 1, 22, 19]).save('./1.jpg')  \n",
    "    image.crop([31, 5, 42, 17]).save('./2.jpg')\n",
    "    image.crop([42, 2, 56, 17]).save('./3.jpg')\n",
    "    return None"
   ]
  },
  {
   "cell_type": "code",
   "execution_count": 6,
   "metadata": {},
   "outputs": [],
   "source": [
    "def conversion_image(path):\n",
    "    \"\"\"\n",
    "    读取图片并将图片信息转化为一维数组\n",
    "    return: x, 特征属性\n",
    "    \"\"\"\n",
    "    image = cv2.imread(path)    # RGB3维 数据\n",
    "    image_gray = cv2.cvtColor(image, cv2.COLOR_RGB2BGRA)  # 灰度处理\n",
    "    return [image_gray.reshape(-1)]     # 将数据转化为一维, 特征属性"
   ]
  },
  {
   "cell_type": "code",
   "execution_count": 13,
   "metadata": {},
   "outputs": [],
   "source": [
    "def split_save_image(image, idx, name):\n",
    "    \"\"\"\n",
    "    将灰度和二值化后的图片进行分割，并将分割结果分类保存\n",
    "        image: image object\n",
    "        name: 图片名\n",
    "    return: None\n",
    "    \"\"\"\n",
    "    dx = 10256 + idx\n",
    "    image.crop([2, 1, 22, 19]).save('./split_image/1/{}_1_{}.jpg'.format(dx, name[:2]))   # 前两位\n",
    "    image.crop([31, 5, 42, 17]).save('./split_image/2/{}_1_{}.jpg'.format(dx, name[2:3]))  # 运算符\n",
    "    image.crop([42, 2, 56, 17]).save('./split_image/3/{}_1_{}.jpg'.format(dx, name[3:4]))   # 最后一位\n",
    "    return None"
   ]
  },
  {
   "cell_type": "code",
   "execution_count": 15,
   "metadata": {},
   "outputs": [],
   "source": [
    "def predict(path):\n",
    "    \"\"\"\n",
    "    调用模型，预测结果, path: 图片临时存储位置\n",
    "    return: list\n",
    "    \"\"\"\n",
    "    result = []\n",
    "    image = Image.open(path)\n",
    "    b_image = two_values(image)   # 二值化处理\n",
    "    r_image = reduce_noise(b_image)   # 降噪处理\n",
    "    split_image(b_image)     # 分割图片并保存\n",
    "    for idx in [1, 2, 3]:\n",
    "        x_test = np.array(conversion_image('./%d.jpg' % idx))\n",
    "        clf = joblib.load('./models/clf_%d.model' % idx)\n",
    "        result.append(clf.predict(x_test)[0])\n",
    "        \n",
    "    return result"
   ]
  },
  {
   "cell_type": "code",
   "execution_count": 9,
   "metadata": {},
   "outputs": [],
   "source": [
    "def calculate(rlt: list):\n",
    "    \"\"\"\n",
    "    计算识别结果\n",
    "    return: int\n",
    "    \"\"\"\n",
    "    if rlt[1] == '+':\n",
    "        return int(rlt[0]) + int(rlt[2])\n",
    "    else:\n",
    "        return int(rlt[0]) - int(rlt[2])"
   ]
  },
  {
   "cell_type": "code",
   "execution_count": null,
   "metadata": {},
   "outputs": [],
   "source": [
    "# 加载模型并识别图片\n",
    "for i in range(22, 44):\n",
    "    result = []\n",
    "    image = Image.open('./images/10/login%d.jpg' % i)\n",
    "    b_image = two_values(image, threshold=155)   # 二值化处理\n",
    "    r_image = reduce_noise(b_image, 155, n=8)   # 降噪处理\n",
    "    split_image(b_image)     # 分割图片并保存\n",
    "    for idx in [1, 2, 3]:\n",
    "        x_test = np.array(conversion_image('./%d.jpg' % idx))\n",
    "        clf = joblib.load('./models/clf_%d.model' % idx)\n",
    "        result.append(clf.predict(x_test)[0])\n",
    "    print(result)\n",
    "#     print(calculate(result))"
   ]
  },
  {
   "cell_type": "code",
   "execution_count": 14,
   "metadata": {},
   "outputs": [],
   "source": [
    "img_dir = './result_images/8' \n",
    "image_list = os.listdir(img_dir)\n",
    "# plt.figure(facecolor='w', figsize=(6, 30))\n",
    "for idx, name in enumerate(image_list):\n",
    "    path = os.path.join(img_dir, name)\n",
    "    image = Image.open(path)\n",
    "    image1 = two_values(image, threshold=120)     # 调用二值化处理函数 阈值设为120时，模型学习效果最佳\n",
    "#     plt.subplot(21, 1, (idx+1))                        # 将图片输出\n",
    "#     plt.imshow(np.array(image1), cmap=cm.gray)\n",
    "\n",
    "    image2 = reduce_noise(image1, 120, 8)        # 降噪\n",
    "#     plt.subplot(21, 1, (idx+1))                        # 将图片输出\n",
    "#     plt.imshow(np.array(image2), cmap=cm.gray)\n",
    "\n",
    "    split_save_image(image2, idx, name)"
   ]
  },
  {
   "cell_type": "code",
   "execution_count": 35,
   "metadata": {},
   "outputs": [
    {
     "data": {
      "text/plain": [
       "<matplotlib.image.AxesImage at 0x21ccddd4400>"
      ]
     },
     "execution_count": 35,
     "metadata": {},
     "output_type": "execute_result"
    },
    {
     "data": {
      "image/png": "[encoded data removed]",
      "text/plain": [
       "<Figure size 432x288 with 1 Axes>"
      ]
     },
     "metadata": {},
     "output_type": "display_data"
    }
   ],
   "source": [
    "# 将验证码分给为3部分，运算符： 两个值 + -； 运算符前： 随机两位数；  运算符后： 10个个位数\n",
    "image = Image.open('./result_images/26-4.jpg')    # 读取图片\n",
    "\n",
    "image_gray = image.convert('L')     # 灰度处理\n",
    "\n",
    "# 二值化，采用阈值分割法进行二值化处理\n",
    "pixdata = image_gray.load()  \n",
    "width, hight = image_gray.size  # 图片的尺寸（像素点）\n",
    "# 遍历像素点，将大于阈值的设为白色，小于阈值的设黑色\n",
    "for x in range(width):\n",
    "    for y in range(hight):\n",
    "        if pixdata[x, y] < 170:\n",
    "            pixdata[x, y] = 0\n",
    "        else:\n",
    "            pixdata[x, y] = 255\n",
    "\n",
    "plt.figure(facecolor='w')\n",
    "plt.subplot(4, 2, 1)\n",
    "plt.imshow(np.array(image_gray), cmap=cm.gray)    # 输出二值化后的图片\n",
    "\n",
    "# 图片切割，切割后只保留3个部分\n"
   ]
  },
  {
   "cell_type": "code",
   "execution_count": 36,
   "metadata": {},
   "outputs": [
    {
     "name": "stdout",
     "output_type": "stream",
     "text": [
      "(90, 20)\n"
     ]
    },
    {
     "data": {
      "image/png": "[encoded data removed]",
      "text/plain": [
       "<Figure size 432x288 with 1 Axes>"
      ]
     },
     "metadata": {
      "needs_background": "light"
     },
     "output_type": "display_data"
    },
    {
     "data": {
      "image/png": "[encoded data removed]",
      "text/plain": [
       "<Figure size 432x288 with 3 Axes>"
      ]
     },
     "metadata": {
      "needs_background": "light"
     },
     "output_type": "display_data"
    }
   ],
   "source": [
    "print(image_gray.size)\n",
    "image_array = np.array(image_gray)     # im转化为a矩阵\n",
    "pd.DataFrame(image_array.sum(axis=0)).plot.line() # 画出每列的像素累计值  获得图片像素尺寸\n",
    "plt.imshow(image_array,cmap='gray') # 画出图像\n",
    "split_lines = [2, 20, 31, 40, 44, 55]     # 分割线\n",
    "# # 经过调整过的分割线的合理间距\n",
    "vlines = [plt.axvline(i, color='r') for i in split_lines] # 画出分割线\n",
    "plt.show()\n",
    "\n",
    "#设置获取图像的高和宽\n",
    "y_min = 0\n",
    "y_max = 19\n",
    "\n",
    "ims=[]\n",
    "# for x_min,x_max in zip(split_lines[:-1], split_lines[1:]):\n",
    "image_gray.crop([2, y_min, 20, y_max] ).save(str(1)+'.png')\n",
    "image_gray.crop([31, 5, 42, 17] ).save(str(2)+'.png')\n",
    "image_gray.crop([43, y_min, 56, y_max] ).save(str(3)+'.png')\n",
    "    # crop()函数是截取指定图像 指定截取坐标点\n",
    "    # save保存图像！[2, ]\n",
    "for i in range(1,4):\n",
    "    file_name=\"{}.png\".format(i)\n",
    "    plt.subplot(4,1,i)\n",
    "    img=Image.open(file_name).convert(\"1\")\n",
    "   #im=img.filter(ImageFilter.MedianFilter(size=3))\n",
    "    plt.imshow(img)\n",
    "   # 显示截取的图像！\n",
    "plt.show()"
   ]
  },
  {
   "cell_type": "code",
   "execution_count": null,
   "metadata": {},
   "outputs": [],
   "source": [
    "img_dir"
   ]
  }
 ],
 "metadata": {
  "kernelspec": {
   "display_name": "Python 3",
   "language": "python",
   "name": "python3"
  },
  "language_info": {
   "codemirror_mode": {
    "name": "ipython",
    "version": 3
   },
   "file_extension": ".py",
   "mimetype": "text/x-python",
   "name": "python",
   "nbconvert_exporter": "python",
   "pygments_lexer": "ipython3",
   "version": "3.7.3"
  },
  "nbTranslate": {
   "displayLangs": [
    "cn",
    "en"
   ],
   "hotkey": "alt-t",
   "langInMainMenu": true,
   "sourceLang": "en",
   "targetLang": "cn",
   "useGoogleTranslate": true
  },
  "toc": {
   "base_numbering": 1,
   "nav_menu": {},
   "number_sections": true,
   "sideBar": true,
   "skip_h1_title": false,
   "title_cell": "Table of Contents",
   "title_sidebar": "Contents",
   "toc_cell": false,
   "toc_position": {},
   "toc_section_display": true,
   "toc_window_display": false
  },
  "varInspector": {
   "cols": {
    "lenName": 16,
    "lenType": 16,
    "lenVar": 40
   },
   "kernels_config": {
    "python": {
     "delete_cmd_postfix": "",
     "delete_cmd_prefix": "del ",
     "library": "var_list.py",
     "varRefreshCmd": "print(var_dic_list())"
    },
    "r": {
     "delete_cmd_postfix": ") ",
     "delete_cmd_prefix": "rm(",
     "library": "var_list.r",
     "varRefreshCmd": "cat(var_dic_list()) "
    }
   },
   "types_to_exclude": [
    "module",
    "function",
    "builtin_function_or_method",
    "instance",
    "_Feature"
   ],
   "window_display": true
  }
 },
 "nbformat": 4,
 "nbformat_minor": 2
}
