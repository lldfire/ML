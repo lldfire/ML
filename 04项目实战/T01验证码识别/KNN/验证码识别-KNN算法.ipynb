{
 "cells": [
  {
   "cell_type": "code",
   "execution_count": 1,
   "metadata": {},
   "outputs": [
    {
     "name": "stderr",
     "output_type": "stream",
     "text": [
      "/Library/Frameworks/Python.framework/Versions/3.7/lib/python3.7/site-packages/sklearn/externals/joblib/__init__.py:15: DeprecationWarning: sklearn.externals.joblib is deprecated in 0.21 and will be removed in 0.23. Please import this functionality directly from joblib, which can be installed with: pip install joblib. If this warning is raised when loading pickled models, you may need to re-serialize those models with scikit-learn 0.21+.\n",
      "  warnings.warn(msg, category=DeprecationWarning)\n"
     ]
    }
   ],
   "source": [
    "import os\n",
    "import cv2         # 图片读写模块\n",
    "import numpy as np\n",
    "\n",
    "from sklearn import neighbors    # KNN算法模型\n",
    "from sklearn.preprocessing import LabelBinarizer      # 数据标间标准化\n",
    "from sklearn.model_selection import train_test_split  # 训练集测试集划分\n",
    "from sklearn.externals import joblib   # 模型保存模块"
   ]
  },
  {
   "cell_type": "code",
   "execution_count": 2,
   "metadata": {},
   "outputs": [],
   "source": [
    "os.chdir(r'C:\\Users\\86132\\Desktop\\works\\spider_works\\zlj\\verifi_code')"
   ]
  },
  {
   "cell_type": "code",
   "execution_count": 3,
   "metadata": {},
   "outputs": [],
   "source": [
    "# 封装函数\n",
    "def read_image_one(image, name):\n",
    "    \"\"\"\n",
    "    读取图片并将图片信息转化为一维数组\n",
    "    return: x,特征属性\n",
    "    \"\"\"\n",
    "    image = cv2.imread(path)    # RGB3维 数据\n",
    "    img = cv2.cvtColor(image, cv2.COLOR_RGB2BGRA)  # 灰度处理\n",
    "    datas.append(img.reshape(-1))     # 将数据转化为一维, 特征属性\n",
    "#     labels.append(name[-6:-4])     # 从图片名中分割出验证码，目标属性"
   ]
  },
  {
   "cell_type": "code",
   "execution_count": 16,
   "metadata": {},
   "outputs": [],
   "source": [
    "# 使用KNN分类算法求解验证码图片，特征属性：图片的灰度值信息， 目标属性： 验证码的值\n",
    "# 读入数据\n",
    "datas = []\n",
    "labels = []\n",
    "\n",
    "img_dir1 = './split_image/3'  # 2位数\n",
    "# img_dir2 = './split_image/2'  # 运算符\n",
    "# img_dir3 = './split_image/3'  # 个位数\n",
    "image_list = os.listdir(img_dir1)    # 读入文件列表\n",
    "names = []\n",
    "for name in image_list:\n",
    "    path = os.path.join(img_dir1, name)    # 拼接文件路径\n",
    "    # cv2 读取图片，将图片进行灰度处理并转化为一维\n",
    "    image = cv2.imread(path)    # RGB3维 数据\n",
    "    img = cv2.cvtColor(image, cv2.COLOR_RGB2BGRA)  # 灰度处理\n",
    "    datas.append(img.reshape(-1))     # 将数据转化为一维, 特征属性\n",
    "    labels.append(name[-5:-4])     # 从图片名中分割出验证码，目标属性\n",
    "#     labels.append(name[-6:-4])     # 从图片名中分割出验证码，目标属性\n",
    "    names.append(name)"
   ]
  },
  {
   "cell_type": "code",
   "execution_count": 17,
   "metadata": {},
   "outputs": [],
   "source": [
    "# 将目标属性规范化\n",
    "y = LabelBinarizer().fit_transform(labels)\n",
    "X = np.array(datas)\n",
    "Y = np.array(labels)\n",
    "\n",
    "# 拆分数据为测试集和训练集\n",
    "X_train, X_test, Y_train, Y_test = train_test_split(X, Y, test_size=0.2, random_state=10)"
   ]
  },
  {
   "cell_type": "code",
   "execution_count": 18,
   "metadata": {},
   "outputs": [
    {
     "data": {
      "text/plain": [
       "(11256, 840)"
      ]
     },
     "execution_count": 18,
     "metadata": {},
     "output_type": "execute_result"
    }
   ],
   "source": [
    "X.shape"
   ]
  },
  {
   "cell_type": "code",
   "execution_count": 19,
   "metadata": {},
   "outputs": [
    {
     "data": {
      "text/plain": [
       "['./models/clf_3.model']"
      ]
     },
     "execution_count": 19,
     "metadata": {},
     "output_type": "execute_result"
    }
   ],
   "source": [
    "# 训练模型\n",
    "clf = neighbors.KNeighborsClassifier()   # 实例化模型\n",
    "clf.fit(X_train, Y_train)      # 模型学习\n",
    "# joblib.dump(clf, './models/clf_2.model')   # 保存符号识别模型\n",
    "joblib.dump(clf, './models/clf_3.model')   # 保存个位数识别模型\n",
    "# joblib.dump(clf, './models/clf_1.model')   # 保存两位数识别模型"
   ]
  },
  {
   "cell_type": "code",
   "execution_count": 20,
   "metadata": {},
   "outputs": [
    {
     "data": {
      "text/plain": [
       "0.9782415630550622"
      ]
     },
     "execution_count": 20,
     "metadata": {},
     "output_type": "execute_result"
    }
   ],
   "source": [
    "# 符号预测模型已成功，将模型写入本地\n",
    "clf.score(X_test, Y_test)   # 0.9908256880733946"
   ]
  },
  {
   "cell_type": "code",
   "execution_count": null,
   "metadata": {},
   "outputs": [],
   "source": []
  },
  {
   "cell_type": "code",
   "execution_count": 122,
   "metadata": {},
   "outputs": [
    {
     "name": "stdout",
     "output_type": "stream",
     "text": [
      "              precision    recall  f1-score   support\n",
      "\n",
      "          10       0.00      0.00      0.00         1\n",
      "          11       0.00      0.00      0.00         3\n",
      "          12       0.00      0.00      0.00         0\n",
      "          13       0.00      0.00      0.00         2\n",
      "          14       0.00      0.00      0.00         3\n",
      "          15       0.00      0.00      0.00         1\n",
      "          16       0.00      0.00      0.00         1\n",
      "          17       0.08      1.00      0.14         1\n",
      "          18       0.00      0.00      0.00         2\n",
      "          19       0.00      0.00      0.00         2\n",
      "          20       0.50      0.50      0.50         2\n",
      "          21       0.00      0.00      0.00         0\n",
      "          22       0.00      0.00      0.00         0\n",
      "          24       0.00      0.00      0.00         1\n",
      "          26       0.00      0.00      0.00         0\n",
      "          27       0.00      0.00      0.00         2\n",
      "          28       0.00      0.00      0.00         0\n",
      "          29       0.00      0.00      0.00         0\n",
      "          30       0.00      0.00      0.00         2\n",
      "          31       0.00      0.00      0.00         1\n",
      "          32       0.00      0.00      0.00         1\n",
      "          33       0.00      0.00      0.00         0\n",
      "          34       0.00      0.00      0.00         1\n",
      "          35       0.00      0.00      0.00         3\n",
      "          36       0.00      0.00      0.00         1\n",
      "          37       0.00      0.00      0.00         2\n",
      "          38       0.00      0.00      0.00         0\n",
      "          39       0.00      0.00      0.00         0\n",
      "          40       0.00      0.00      0.00         1\n",
      "          41       0.00      0.00      0.00         2\n",
      "          43       0.67      0.67      0.67         3\n",
      "          44       0.00      0.00      0.00         4\n",
      "          45       0.00      0.00      0.00         2\n",
      "          46       0.00      0.00      0.00         2\n",
      "          47       0.00      0.00      0.00         3\n",
      "          48       0.00      0.00      0.00         5\n",
      "          50       0.00      0.00      0.00         0\n",
      "          52       0.00      0.00      0.00         1\n",
      "          53       0.00      0.00      0.00         2\n",
      "          54       1.00      0.50      0.67         2\n",
      "          55       0.00      0.00      0.00         1\n",
      "          56       0.00      0.00      0.00         2\n",
      "          57       0.00      0.00      0.00         1\n",
      "          58       0.00      0.00      0.00         1\n",
      "          59       0.00      0.00      0.00         2\n",
      "          60       0.00      0.00      0.00         0\n",
      "          61       0.00      0.00      0.00         0\n",
      "          62       0.00      0.00      0.00         2\n",
      "          63       0.00      0.00      0.00         3\n",
      "          66       0.00      0.00      0.00         1\n",
      "          67       1.00      1.00      1.00         1\n",
      "          69       0.00      0.00      0.00         1\n",
      "          70       0.00      0.00      0.00         3\n",
      "          71       0.00      0.00      0.00         1\n",
      "          72       0.50      1.00      0.67         1\n",
      "          73       0.00      0.00      0.00         1\n",
      "          75       0.50      1.00      0.67         1\n",
      "          78       0.00      0.00      0.00         2\n",
      "          80       0.00      0.00      0.00         3\n",
      "          81       0.00      0.00      0.00         4\n",
      "          82       0.00      0.00      0.00         2\n",
      "          83       0.00      0.00      0.00         1\n",
      "          84       0.00      0.00      0.00         1\n",
      "          85       0.00      0.00      0.00         0\n",
      "          86       0.00      0.00      0.00         2\n",
      "          87       0.00      0.00      0.00         1\n",
      "          89       0.00      0.00      0.00         1\n",
      "          90       0.00      0.00      0.00         0\n",
      "          92       0.00      0.00      0.00         1\n",
      "          95       0.00      0.00      0.00         2\n",
      "          97       0.00      0.00      0.00         5\n",
      "          98       0.00      0.00      0.00         2\n",
      "          99       0.00      0.00      0.00         1\n",
      "\n",
      "    accuracy                           0.07       109\n",
      "   macro avg       0.06      0.08      0.06       109\n",
      "weighted avg       0.06      0.07      0.06       109\n",
      "\n"
     ]
    },
    {
     "name": "stderr",
     "output_type": "stream",
     "text": [
      "c:\\users\\86132\\appdata\\local\\programs\\python\\python37\\lib\\site-packages\\sklearn\\metrics\\classification.py:1437: UndefinedMetricWarning: Precision and F-score are ill-defined and being set to 0.0 in labels with no predicted samples.\n",
      "  'precision', 'predicted', average, warn_for)\n",
      "c:\\users\\86132\\appdata\\local\\programs\\python\\python37\\lib\\site-packages\\sklearn\\metrics\\classification.py:1439: UndefinedMetricWarning: Recall and F-score are ill-defined and being set to 0.0 in labels with no true samples.\n",
      "  'recall', 'true', average, warn_for)\n"
     ]
    }
   ],
   "source": [
    "# 模型测试，结果预测\n",
    "pre_y_train = clf.predict(X_train)\n",
    "pre_y_test = clf.predict(X_test)\n",
    "# class_name = ['class0', 'class1', 'class2', 'class3', 'class4', 'class5', 'class6', 'class7', 'class8', 'class9']\n",
    "# print(classification_report(Y_train, pre_y_train))\n",
    "# print(classification_report(Y_test, pre_y_test))"
   ]
  },
  {
   "cell_type": "code",
   "execution_count": 97,
   "metadata": {},
   "outputs": [
    {
     "name": "stdout",
     "output_type": "stream",
     "text": [
      "+ +\n"
     ]
    }
   ],
   "source": [
    "print(pre_y_test[100], Y_test[100])"
   ]
  },
  {
   "cell_type": "code",
   "execution_count": null,
   "metadata": {},
   "outputs": [],
   "source": []
  }
 ],
 "metadata": {
  "kernelspec": {
   "display_name": "Python 3",
   "language": "python",
   "name": "python3"
  },
  "language_info": {
   "codemirror_mode": {
    "name": "ipython",
    "version": 3
   },
   "file_extension": ".py",
   "mimetype": "text/x-python",
   "name": "python",
   "nbconvert_exporter": "python",
   "pygments_lexer": "ipython3",
   "version": "3.7.3"
  },
  "nbTranslate": {
   "displayLangs": [
    "cn",
    "en"
   ],
   "hotkey": "alt-t",
   "langInMainMenu": true,
   "sourceLang": "en",
   "targetLang": "cn",
   "useGoogleTranslate": true
  },
  "toc": {
   "base_numbering": 1,
   "nav_menu": {},
   "number_sections": true,
   "sideBar": true,
   "skip_h1_title": false,
   "title_cell": "Table of Contents",
   "title_sidebar": "Contents",
   "toc_cell": false,
   "toc_position": {},
   "toc_section_display": true,
   "toc_window_display": false
  }
 },
 "nbformat": 4,
 "nbformat_minor": 4
}
