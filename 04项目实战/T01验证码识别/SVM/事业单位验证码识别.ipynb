{
 "cells": [
  {
   "cell_type": "code",
   "execution_count": 45,
   "metadata": {},
   "outputs": [
    {
     "name": "stderr",
     "output_type": "stream",
     "text": [
      "/Library/Frameworks/Python.framework/Versions/3.7/lib/python3.7/site-packages/sklearn/externals/joblib/__init__.py:15: FutureWarning: sklearn.externals.joblib is deprecated in 0.21 and will be removed in 0.23. Please import this functionality directly from joblib, which can be installed with: pip install joblib. If this warning is raised when loading pickled models, you may need to re-serialize those models with scikit-learn 0.21+.\n",
      "  warnings.warn(msg, category=FutureWarning)\n"
     ]
    }
   ],
   "source": [
    "import os\n",
    "import numpy as np\n",
    "import cv2\n",
    "\n",
    "from PIL import Image\n",
    "from sklearn.svm import SVC\n",
    "from sklearn.preprocessing import LabelBinarizer\n",
    "from sklearn.model_selection import train_test_split\n",
    "from sklearn.externals import joblib\n",
    "from sklearn.pipeline import Pipeline\n",
    "from matplotlib import pyplot as plt"
   ]
  },
  {
   "cell_type": "code",
   "execution_count": 44,
   "metadata": {},
   "outputs": [],
   "source": [
    "root = '/Users/liuliangdong/project/jupyter_project/datasets/public_data/verify_code/images_mark'\n",
    "save = '/Users/liuliangdong/project/jupyter_project/datasets/public_data/verify_code/split_image'\n",
    "pre = ImagePreprocess(125)\n",
    "i = 0\n",
    "for code in os.listdir(root):\n",
    "    if code.endswith('jpeg'):\n",
    "        # print(code)\n",
    "        image = Image.open(os.path.join(root, code))\n",
    "        two_value = pre.two_values(image)\n",
    "        no_noise = pre.reduce_noise(two_value)\n",
    "        split_point = [[3, 4, 13, 18], [18, 4, 28, 18],\n",
    "                       [33, 4, 43, 18], [48, 4, 59, 18]]\n",
    "        for j, point in enumerate(split_point):\n",
    "            n = 0\n",
    "            name = f'{code[j]}_{n}.jpeg'\n",
    "            path_ = os.path.join(save, name)\n",
    "            while os.path.exists(path_):\n",
    "                n += 1\n",
    "                name = f'{code[j]}_{n}.jpeg'\n",
    "                path_ = os.path.join(save, name)\n",
    "            no_noise.crop(point).save(path_)\n",
    "        # image_array = np.array(image)"
   ]
  },
  {
   "cell_type": "code",
   "execution_count": null,
   "metadata": {},
   "outputs": [],
   "source": [
    "# 验证码分割点\n",
    "split = [3, 13, 17, 26, 33, 43, 48, 59]\n",
    "[plt.axvline(i, color='r') for i in split]\n",
    "plt.imshow(no_noise)\n",
    "plt.axhline(4, color='r')\n",
    "plt.axhline(18, color='r')"
   ]
  },
  {
   "cell_type": "markdown",
   "metadata": {},
   "source": [
    "### 构建模型\n"
   ]
  },
  {
   "cell_type": "code",
   "execution_count": null,
   "metadata": {},
   "outputs": [],
   "source": []
  }
 ],
 "metadata": {
  "kernelspec": {
   "display_name": "Python 3",
   "language": "python",
   "name": "python3"
  },
  "language_info": {
   "codemirror_mode": {
    "name": "ipython",
    "version": 3
   },
   "file_extension": ".py",
   "mimetype": "text/x-python",
   "name": "python",
   "nbconvert_exporter": "python",
   "pygments_lexer": "ipython3",
   "version": "3.7.3"
  }
 },
 "nbformat": 4,
 "nbformat_minor": 4
}
