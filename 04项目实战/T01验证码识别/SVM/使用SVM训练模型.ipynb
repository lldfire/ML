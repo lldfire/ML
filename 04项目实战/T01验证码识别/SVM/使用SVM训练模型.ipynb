{
 "cells": [
  {
   "cell_type": "code",
   "execution_count": 2,
   "metadata": {},
   "outputs": [],
   "source": [
    "import os\n",
    "import numpy as np\n",
    "import cv2\n",
    "\n",
    "from PIL import Image\n",
    "from sklearn.svm import SVC\n",
    "from sklearn.preprocessing import LabelBinarizer\n",
    "from sklearn.model_selection import train_test_split\n",
    "from sklearn.externals import joblib\n",
    "from sklearn.pipeline import Pipeline\n",
    "from sklearn.model_selection import GridSearchCV"
   ]
  },
  {
   "cell_type": "code",
   "execution_count": 35,
   "metadata": {},
   "outputs": [],
   "source": [
    "# 加载数据集\n",
    "datas = []\n",
    "labels = []\n",
    "\n",
    "# 加载1 样本\n",
    "img_dir1 = '../datas/split_images/1'\n",
    "image_list = os.listdir(img_dir1)\n",
    "for name in image_list:\n",
    "    if '.jpg' in name:\n",
    "        path = os.path.join(img_dir1, name)\n",
    "        image = cv2.imread(path)    # rgb方式读取图片\n",
    "        img = cv2.cvtColor(image, cv2.COLOR_RGB2BGRA)  # 灰度处理\n",
    "\n",
    "        datas.append(img.reshape(-1))\n",
    "        labels.append(name[-6:-4])\n",
    "#         s = name[-5:-4]\n",
    "#         if s == '-':\n",
    "#             labels.append(0)\n",
    "#         elif s =='+':\n",
    "#             labels.append(1)\n",
    "#         else:\n",
    "#             print(s)"
   ]
  },
  {
   "cell_type": "code",
   "execution_count": 39,
   "metadata": {},
   "outputs": [
    {
     "name": "stdout",
     "output_type": "stream",
     "text": [
      "11256\n",
      "{'53', '65', '42', '58', '93', '51', '34', '87', '90', '20', '82', '52', '61', '39', '21', '97', '43', '50', '66', '56', '28', '55', '27', '84', '80', '15', '74', '49', '63', '91', '29', '54', '71', '40', '19', '62', '31', '72', '35', '64', '23', '95', '45', '68', '79', '30', '22', '41', '86', '37', '47', '46', '18', '78', '88', '60', '11', '25', '99', '36', '75', '59', '57', '24', '44', '10', '69', '17', '32', '94', '77', '16', '83', '96', '33', '70', '98', '92', '14', '26', '12', '48', '76', '85', '81', '38', '67', '89', '13', '73'}\n"
     ]
    }
   ],
   "source": [
    "print(len(datas))\n",
    "print(set(labels))"
   ]
  },
  {
   "cell_type": "code",
   "execution_count": 42,
   "metadata": {},
   "outputs": [],
   "source": [
    "# 样本转化\n",
    "X = np.array(datas) / 255\n",
    "# Y = LabelBinarizer().fit_transform(labels)\n",
    "Y = np.array(labels)\n",
    "\n",
    "# 划分数据集\n",
    "x_train, x_test, y_train, y_test = train_test_split(\n",
    "    X, Y, test_size=0.1, random_state=9)"
   ]
  },
  {
   "cell_type": "code",
   "execution_count": 48,
   "metadata": {},
   "outputs": [
    {
     "data": {
      "text/plain": [
       "SVC(C=2, cache_size=200, class_weight=None, coef0=0.0,\n",
       "    decision_function_shape='ovr', degree=3, gamma=0.01, kernel='rbf',\n",
       "    max_iter=-1, probability=False, random_state=9, shrinking=True, tol=0.001,\n",
       "    verbose=False)"
      ]
     },
     "execution_count": 48,
     "metadata": {},
     "output_type": "execute_result"
    }
   ],
   "source": [
    "# 构建模型训练数据\n",
    "# 1 最佳参数： {'clf__C': 2, 'clf__gamma': 0.01}\n",
    "# 2 最佳参数： {'clf__C': 1, 'clf__gamma': 0.05}\n",
    "# 3 最佳参数 ：{'clf__C': 2, 'clf__gamma': 0.01}\n",
    "clf = SVC(gamma=0.01, C=2, random_state=9)\n",
    "clf.fit(x_train, y_train)"
   ]
  },
  {
   "cell_type": "code",
   "execution_count": 49,
   "metadata": {},
   "outputs": [
    {
     "name": "stdout",
     "output_type": "stream",
     "text": [
      "预测得分：92.98%\n"
     ]
    }
   ],
   "source": [
    "# 训练效果\n",
    "print(f'预测得分：{clf.score(x_test, y_test) * 100:.2f}%')"
   ]
  },
  {
   "cell_type": "code",
   "execution_count": 50,
   "metadata": {},
   "outputs": [
    {
     "name": "stdout",
     "output_type": "stream",
     "text": [
      "['98' '95' '76' '23' '87' '49' '43' '96' '70' '92' '76' '47' '59' '45'\n",
      " '16' '78' '38' '93' '88' '75']\n",
      "['98' '95' '76' '23' '87' '49' '43' '96' '70' '92' '76' '47' '59' '45'\n",
      " '16' '78' '32' '95' '88' '75']\n"
     ]
    }
   ],
   "source": [
    "print(clf.predict(x_test[40:60]))\n",
    "print(y_test[40:60])"
   ]
  },
  {
   "cell_type": "code",
   "execution_count": 8,
   "metadata": {},
   "outputs": [],
   "source": [
    "# 交叉验证，寻找最佳参数\n",
    "models = [\n",
    "    Pipeline([\n",
    "        ('clf', SVC())\n",
    "    ])\n",
    "]\n",
    "\n",
    "parmaters = {\n",
    "    'clf__C': [0.01, 0.05, 0.1, 1, 1.5, 2],\n",
    "    'clf__gamma': [0.001, 0.01, 0.05, 0.1, 0.5, 1]\n",
    "}"
   ]
  },
  {
   "cell_type": "code",
   "execution_count": 46,
   "metadata": {},
   "outputs": [
    {
     "name": "stderr",
     "output_type": "stream",
     "text": [
      "/Library/Frameworks/Python.framework/Versions/3.7/lib/python3.7/site-packages/sklearn/model_selection/_split.py:657: Warning: The least populated class in y has only 2 members, which is too few. The minimum number of members in any class cannot be less than n_splits=3.\n",
      "  % (min_groups, self.n_splits)), Warning)\n",
      "/Library/Frameworks/Python.framework/Versions/3.7/lib/python3.7/site-packages/sklearn/model_selection/_search.py:813: DeprecationWarning: The default of the `iid` parameter will change from True to False in version 0.22 and will be removed in 0.24. This will change numeric results when test-set sizes are unequal.\n",
      "  DeprecationWarning)\n"
     ]
    },
    {
     "data": {
      "text/plain": [
       "GridSearchCV(cv=3, error_score='raise-deprecating',\n",
       "             estimator=Pipeline(memory=None,\n",
       "                                steps=[('clf',\n",
       "                                        SVC(C=1.0, cache_size=200,\n",
       "                                            class_weight=None, coef0=0.0,\n",
       "                                            decision_function_shape='ovr',\n",
       "                                            degree=3, gamma='auto_deprecated',\n",
       "                                            kernel='rbf', max_iter=-1,\n",
       "                                            probability=False,\n",
       "                                            random_state=None, shrinking=True,\n",
       "                                            tol=0.001, verbose=False))],\n",
       "                                verbose=False),\n",
       "             iid='warn', n_jobs=8,\n",
       "             param_grid={'clf__C': [0.01, 0.05, 0.1, 1, 1.5, 2],\n",
       "                         'clf__gamma': [0.001, 0.01, 0.05, 0.1, 0.5, 1]},\n",
       "             pre_dispatch='2*n_jobs', refit=True, return_train_score=False,\n",
       "             scoring=None, verbose=0)"
      ]
     },
     "execution_count": 46,
     "metadata": {},
     "output_type": "execute_result"
    }
   ],
   "source": [
    "model = GridSearchCV(models[0], param_grid=parmaters, n_jobs=8, cv=3)\n",
    "model.fit(x_train[:1000], y_train[:1000])"
   ]
  },
  {
   "cell_type": "code",
   "execution_count": 47,
   "metadata": {},
   "outputs": [
    {
     "name": "stdout",
     "output_type": "stream",
     "text": [
      "{'clf__C': 2, 'clf__gamma': 0.01}\n"
     ]
    }
   ],
   "source": [
    "print(model.best_params_)"
   ]
  },
  {
   "cell_type": "code",
   "execution_count": 51,
   "metadata": {},
   "outputs": [
    {
     "data": {
      "text/plain": [
       "['clf_1.model']"
      ]
     },
     "execution_count": 51,
     "metadata": {},
     "output_type": "execute_result"
    }
   ],
   "source": [
    "# 保存模型\n",
    "joblib.dump(clf, 'clf_1.model')"
   ]
  },
  {
   "cell_type": "code",
   "execution_count": null,
   "metadata": {},
   "outputs": [],
   "source": []
  },
  {
   "cell_type": "code",
   "execution_count": null,
   "metadata": {},
   "outputs": [],
   "source": []
  }
 ],
 "metadata": {
  "kernelspec": {
   "display_name": "Python 3",
   "language": "python",
   "name": "python3"
  },
  "language_info": {
   "codemirror_mode": {
    "name": "ipython",
    "version": 3
   },
   "file_extension": ".py",
   "mimetype": "text/x-python",
   "name": "python",
   "nbconvert_exporter": "python",
   "pygments_lexer": "ipython3",
   "version": "3.7.3"
  }
 },
 "nbformat": 4,
 "nbformat_minor": 4
}
