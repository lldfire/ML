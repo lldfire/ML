{
 "cells": [
  {
   "cell_type": "code",
   "execution_count": 28,
   "metadata": {},
   "outputs": [
    {
     "name": "stderr",
     "output_type": "stream",
     "text": [
      "c:\\users\\13772\\appdata\\local\\programs\\python\\python37\\lib\\site-packages\\sklearn\\externals\\joblib\\__init__.py:15: DeprecationWarning: sklearn.externals.joblib is deprecated in 0.21 and will be removed in 0.23. Please import this functionality directly from joblib, which can be installed with: pip install joblib. If this warning is raised when loading pickled models, you may need to re-serialize those models with scikit-learn 0.21+.\n",
      "  warnings.warn(msg, category=DeprecationWarning)\n"
     ]
    }
   ],
   "source": [
    "from sklearn.model_selection import train_test_split  # 划分训练集与测试集的类\n",
    "from sklearn.preprocessing import StandardScaler  # 数据标准化处理\n",
    "from sklearn.linear_model import LinearRegression  # 线性回归算法包\n",
    "from sklearn.externals import joblib  # 模型输出，加载模块\n",
    "\n",
    "import pandas as pd\n",
    "import numpy as np\n",
    "import matplotlib.pyplot as plt\n",
    "import time"
   ]
  },
  {
   "cell_type": "code",
   "execution_count": 2,
   "metadata": {},
   "outputs": [],
   "source": [
    "# 设置matplotlib画图的字符集\n",
    "plt.rcParams['font.sans-serif'] = ['SimHei']  \n",
    "plt.rcParams['axes.unicode_minus'] = False"
   ]
  },
  {
   "cell_type": "code",
   "execution_count": 5,
   "metadata": {},
   "outputs": [],
   "source": [
    "# 读取数据\n",
    "df = pd.read_csv('./datas/household_power_consumption_1000.txt', sep=';')"
   ]
  },
  {
   "cell_type": "code",
   "execution_count": 6,
   "metadata": {},
   "outputs": [
    {
     "data": {
      "text/html": [
       "<div>\n",
       "<style scoped>\n",
       "    .dataframe tbody tr th:only-of-type {\n",
       "        vertical-align: middle;\n",
       "    }\n",
       "\n",
       "    .dataframe tbody tr th {\n",
       "        vertical-align: top;\n",
       "    }\n",
       "\n",
       "    .dataframe thead th {\n",
       "        text-align: right;\n",
       "    }\n",
       "</style>\n",
       "<table border=\"1\" class=\"dataframe\">\n",
       "  <thead>\n",
       "    <tr style=\"text-align: right;\">\n",
       "      <th></th>\n",
       "      <th>Date</th>\n",
       "      <th>Time</th>\n",
       "      <th>Global_active_power</th>\n",
       "      <th>Global_reactive_power</th>\n",
       "      <th>Voltage</th>\n",
       "      <th>Global_intensity</th>\n",
       "      <th>Sub_metering_1</th>\n",
       "      <th>Sub_metering_2</th>\n",
       "      <th>Sub_metering_3</th>\n",
       "    </tr>\n",
       "  </thead>\n",
       "  <tbody>\n",
       "    <tr>\n",
       "      <th>0</th>\n",
       "      <td>16/12/2006</td>\n",
       "      <td>17:24:00</td>\n",
       "      <td>4.216</td>\n",
       "      <td>0.418</td>\n",
       "      <td>234.84</td>\n",
       "      <td>18.4</td>\n",
       "      <td>0.0</td>\n",
       "      <td>1.0</td>\n",
       "      <td>17.0</td>\n",
       "    </tr>\n",
       "    <tr>\n",
       "      <th>1</th>\n",
       "      <td>16/12/2006</td>\n",
       "      <td>17:25:00</td>\n",
       "      <td>5.360</td>\n",
       "      <td>0.436</td>\n",
       "      <td>233.63</td>\n",
       "      <td>23.0</td>\n",
       "      <td>0.0</td>\n",
       "      <td>1.0</td>\n",
       "      <td>16.0</td>\n",
       "    </tr>\n",
       "  </tbody>\n",
       "</table>\n",
       "</div>"
      ],
      "text/plain": [
       "         Date      Time  Global_active_power  Global_reactive_power  Voltage  \\\n",
       "0  16/12/2006  17:24:00                4.216                  0.418   234.84   \n",
       "1  16/12/2006  17:25:00                5.360                  0.436   233.63   \n",
       "\n",
       "   Global_intensity  Sub_metering_1  Sub_metering_2  Sub_metering_3  \n",
       "0              18.4             0.0             1.0            17.0  \n",
       "1              23.0             0.0             1.0            16.0  "
      ]
     },
     "execution_count": 6,
     "metadata": {},
     "output_type": "execute_result"
    }
   ],
   "source": [
    "df.head(2)"
   ]
  },
  {
   "cell_type": "code",
   "execution_count": 9,
   "metadata": {},
   "outputs": [
    {
     "data": {
      "text/html": [
       "<div>\n",
       "<style scoped>\n",
       "    .dataframe tbody tr th:only-of-type {\n",
       "        vertical-align: middle;\n",
       "    }\n",
       "\n",
       "    .dataframe tbody tr th {\n",
       "        vertical-align: top;\n",
       "    }\n",
       "\n",
       "    .dataframe thead th {\n",
       "        text-align: right;\n",
       "    }\n",
       "</style>\n",
       "<table border=\"1\" class=\"dataframe\">\n",
       "  <thead>\n",
       "    <tr style=\"text-align: right;\">\n",
       "      <th></th>\n",
       "      <th>count</th>\n",
       "      <th>mean</th>\n",
       "      <th>std</th>\n",
       "      <th>min</th>\n",
       "      <th>25%</th>\n",
       "      <th>50%</th>\n",
       "      <th>75%</th>\n",
       "      <th>max</th>\n",
       "    </tr>\n",
       "  </thead>\n",
       "  <tbody>\n",
       "    <tr>\n",
       "      <th>Global_active_power</th>\n",
       "      <td>1000.0</td>\n",
       "      <td>2.418772</td>\n",
       "      <td>1.239979</td>\n",
       "      <td>0.206</td>\n",
       "      <td>1.806</td>\n",
       "      <td>2.414</td>\n",
       "      <td>3.308</td>\n",
       "      <td>7.706</td>\n",
       "    </tr>\n",
       "    <tr>\n",
       "      <th>Global_reactive_power</th>\n",
       "      <td>1000.0</td>\n",
       "      <td>0.089232</td>\n",
       "      <td>0.088088</td>\n",
       "      <td>0.000</td>\n",
       "      <td>0.000</td>\n",
       "      <td>0.072</td>\n",
       "      <td>0.126</td>\n",
       "      <td>0.528</td>\n",
       "    </tr>\n",
       "    <tr>\n",
       "      <th>Voltage</th>\n",
       "      <td>1000.0</td>\n",
       "      <td>240.035790</td>\n",
       "      <td>4.084420</td>\n",
       "      <td>230.980</td>\n",
       "      <td>236.940</td>\n",
       "      <td>240.650</td>\n",
       "      <td>243.295</td>\n",
       "      <td>249.370</td>\n",
       "    </tr>\n",
       "    <tr>\n",
       "      <th>Global_intensity</th>\n",
       "      <td>1000.0</td>\n",
       "      <td>10.351000</td>\n",
       "      <td>5.122214</td>\n",
       "      <td>0.800</td>\n",
       "      <td>8.400</td>\n",
       "      <td>10.000</td>\n",
       "      <td>14.000</td>\n",
       "      <td>33.200</td>\n",
       "    </tr>\n",
       "    <tr>\n",
       "      <th>Sub_metering_1</th>\n",
       "      <td>1000.0</td>\n",
       "      <td>0.000000</td>\n",
       "      <td>0.000000</td>\n",
       "      <td>0.000</td>\n",
       "      <td>0.000</td>\n",
       "      <td>0.000</td>\n",
       "      <td>0.000</td>\n",
       "      <td>0.000</td>\n",
       "    </tr>\n",
       "    <tr>\n",
       "      <th>Sub_metering_2</th>\n",
       "      <td>1000.0</td>\n",
       "      <td>2.749000</td>\n",
       "      <td>8.104053</td>\n",
       "      <td>0.000</td>\n",
       "      <td>0.000</td>\n",
       "      <td>0.000</td>\n",
       "      <td>1.000</td>\n",
       "      <td>38.000</td>\n",
       "    </tr>\n",
       "    <tr>\n",
       "      <th>Sub_metering_3</th>\n",
       "      <td>1000.0</td>\n",
       "      <td>5.756000</td>\n",
       "      <td>8.066941</td>\n",
       "      <td>0.000</td>\n",
       "      <td>0.000</td>\n",
       "      <td>0.000</td>\n",
       "      <td>17.000</td>\n",
       "      <td>19.000</td>\n",
       "    </tr>\n",
       "  </tbody>\n",
       "</table>\n",
       "</div>"
      ],
      "text/plain": [
       "                        count        mean       std      min      25%  \\\n",
       "Global_active_power    1000.0    2.418772  1.239979    0.206    1.806   \n",
       "Global_reactive_power  1000.0    0.089232  0.088088    0.000    0.000   \n",
       "Voltage                1000.0  240.035790  4.084420  230.980  236.940   \n",
       "Global_intensity       1000.0   10.351000  5.122214    0.800    8.400   \n",
       "Sub_metering_1         1000.0    0.000000  0.000000    0.000    0.000   \n",
       "Sub_metering_2         1000.0    2.749000  8.104053    0.000    0.000   \n",
       "Sub_metering_3         1000.0    5.756000  8.066941    0.000    0.000   \n",
       "\n",
       "                           50%      75%      max  \n",
       "Global_active_power      2.414    3.308    7.706  \n",
       "Global_reactive_power    0.072    0.126    0.528  \n",
       "Voltage                240.650  243.295  249.370  \n",
       "Global_intensity        10.000   14.000   33.200  \n",
       "Sub_metering_1           0.000    0.000    0.000  \n",
       "Sub_metering_2           0.000    1.000   38.000  \n",
       "Sub_metering_3           0.000   17.000   19.000  "
      ]
     },
     "execution_count": 9,
     "metadata": {},
     "output_type": "execute_result"
    }
   ],
   "source": [
    "# 异常数据处理\n",
    "df = df.replace('?', np.nan)    # 替换异常数据\n",
    "datas = df.dropna(axis=0, how='any')    # 删除包含空值的数据, how:any, 只要有空值就删除，all,所有的值为空值才删除\n",
    "datas.describe().T"
   ]
  },
  {
   "cell_type": "code",
   "execution_count": 10,
   "metadata": {},
   "outputs": [],
   "source": [
    "# 目标：构建时间和功率之间的映射关系，将时间当作特征属性，功率当作目标属性\n",
    "# 因此需要将时间格式化，创建一个时间格式化函数\n",
    "def date_format(dt):\n",
    "    \"\"\"格式化输出时间，dt为series类型\"\"\"\n",
    "    t = time.strptime(' '.join(dt), '%d/%m/%Y %H:%M:%S')\n",
    "    return (t.tm_year, t.tm_mon, t.tm_mday, t.tm_hour, t.tm_min, t.tm_sec)"
   ]
  },
  {
   "cell_type": "code",
   "execution_count": 17,
   "metadata": {},
   "outputs": [],
   "source": [
    "# 取出特征属性和目标属性\n",
    "X = datas.iloc[:, :2]\n",
    "X = X.apply(lambda x: pd.Series(date_format(x)), axis=1)   # 时间属性\n",
    "Y = datas['Global_active_power']    # 有功功率"
   ]
  },
  {
   "cell_type": "code",
   "execution_count": 19,
   "metadata": {},
   "outputs": [],
   "source": [
    "# 划分训练集和测试集, test_size: 测试集大小， random_state: 数据集随机划分种子\n",
    "X_train, X_test, Y_train, Y_test = train_test_split(X, Y, test_size=0.2, random_state=100)"
   ]
  },
  {
   "cell_type": "code",
   "execution_count": 22,
   "metadata": {},
   "outputs": [],
   "source": [
    "# 数据标准化处理\n",
    "# StandardScaler：将数据转换为标准差为1的数据集(有一个数据的映射)\n",
    "# scikit-learn中：如果一个API名字有fit，那么就有模型训练的含义，没法返回值\n",
    "# scikit-learn中：如果一个API名字中有transform， 那么就表示对数据具有转换的含义操作\n",
    "# scikit-learn中：如果一个API名字中有predict，那么就表示进行数据预测，会有一个预测结果输出\n",
    "# scikit-learn中：如果一个API名字中既有fit又有transform的情况下，那就是两者的结合(先做fit，再做transform)\n",
    "stand = StandardScaler()   # 第一步实例化模型对象\n",
    "X_train = stand.fit_transform(X_train)  # 训练模型，并将训练集转化\n",
    "X_test = stand.transform(X_test)   # 在训练集的模型基础上，将测试集标准化"
   ]
  },
  {
   "cell_type": "code",
   "execution_count": 24,
   "metadata": {},
   "outputs": [
    {
     "name": "stdout",
     "output_type": "stream",
     "text": [
      "训练集R2: 0.20111628695091732\n",
      "测试集R2: 0.2935433175379615\n",
      "1.1025593586692297\n",
      "rmse: 1.0500282656525155\n"
     ]
    }
   ],
   "source": [
    "# 模型训练\n",
    "lr = LinearRegression(fit_intercept=True)  # 构建模型对象\n",
    "lr.fit(X_train, Y_train)    # 模型训练\n",
    "y_predict = lr.predict(X_test)    # 校验模型\n",
    "\n",
    "# 模型评测结果查看\n",
    "print('训练集R2:', lr.score(X_train, Y_train))\n",
    "print('测试集R2:', lr.score(X_test, Y_test))\n",
    "mse = np.average((y_predict-Y_test)**2)\n",
    "rmse = np.sqrt(mse)\n",
    "print(\"rmse:\",rmse)"
   ]
  },
  {
   "cell_type": "code",
   "execution_count": 26,
   "metadata": {},
   "outputs": [
    {
     "name": "stdout",
     "output_type": "stream",
     "text": [
      "模型系数： [ 0.00000000e+00 -5.55111512e-16 -1.21744852e+00 -7.61980539e-01\n",
      " -9.18551238e-02  0.00000000e+00]\n",
      "模型截距： 2.3911550000000013\n"
     ]
    }
   ],
   "source": [
    "# 查看模型的两个参数 系数和截距\n",
    "print('模型系数：', lr.coef_)\n",
    "print('模型截距：', lr.intercept_)"
   ]
  },
  {
   "cell_type": "code",
   "execution_count": 30,
   "metadata": {},
   "outputs": [
    {
     "data": {
      "text/plain": [
       "['./data_stand.model']"
      ]
     },
     "execution_count": 30,
     "metadata": {},
     "output_type": "execute_result"
    }
   ],
   "source": [
    "# 将模型输出并保存\n",
    "joblib.dump(lr, './data_lr.model')\n",
    "joblib.dump(stand, './data_stand.model')"
   ]
  },
  {
   "cell_type": "code",
   "execution_count": 32,
   "metadata": {},
   "outputs": [
    {
     "name": "stdout",
     "output_type": "stream",
     "text": [
      "[[ 0.          0.          0.79959006  0.16380552 -0.29057861  0.        ]]\n"
     ]
    },
    {
     "data": {
      "text/plain": [
       "array([1.31956979])"
      ]
     },
     "execution_count": 32,
     "metadata": {},
     "output_type": "execute_result"
    }
   ],
   "source": [
    "# 加载模型\n",
    "lrr = joblib.load('./data_lr.model')\n",
    "sta = joblib.load('./data_stand.model')\n",
    "\n",
    "# 使用加载的模型预测数据\n",
    "data1 = [[2006, 12, 17, 12, 25, 0]]  # 数据\n",
    "data1 = sta.transform(data1)  # 将数据标准化\n",
    "print(data1)\n",
    "lrr.predict(data1)    # 预测结果"
   ]
  },
  {
   "cell_type": "code",
   "execution_count": 35,
   "metadata": {},
   "outputs": [
    {
     "data": {
      "image/png": "[encoded data removed]",
      "text/plain": [
       "<Figure size 432x288 with 1 Axes>"
      ]
     },
     "metadata": {},
     "output_type": "display_data"
    }
   ],
   "source": [
    "# 画图\n",
    "t = np.arange(len(X_test))\n",
    "plt.figure(facecolor='w') # 设置画布颜色为黑\n",
    "plt.plot(t, Y_test, color='r', label='真实值', linewidth=2)\n",
    "plt.plot(t, y_predict, color='g', label='预测值', linewidth=2)\n",
    "# plt.legend(bbox_to_anchor=(0, -0.1, 1, 0.102), mode='expand', ncol=2)   # 设置图例\n",
    "plt.legend(loc='best')\n",
    "plt.grid(axis=1)\n",
    "plt.show()"
   ]
  },
  {
   "cell_type": "code",
   "execution_count": 42,
   "metadata": {},
   "outputs": [
    {
     "name": "stdout",
     "output_type": "stream",
     "text": [
      "模型准确度： 0.9923512475536668\n",
      "模型系数： [5.12959849 0.0589354 ]\n",
      "模型截距： 10.34857142857143\n"
     ]
    }
   ],
   "source": [
    "# 电压和功率之间的关系预测\n",
    "X2 = datas.iloc[:, 2:4]  # 有功功率和无功功率的和为总功率\n",
    "Y2 = datas.iloc[:, 5]    # 电压强度\n",
    "\n",
    "# 数据分割\n",
    "X2_train, X2_test, Y2_train, Y2_test = train_test_split(X2, Y2, test_size=0.3, random_state=1)\n",
    "\n",
    "# 数据标准化\n",
    "stan = StandardScaler()  # 实例化对象\n",
    "X2_train = stan.fit_transform(X2_train)\n",
    "X2_test = stan.transform(X2_test)\n",
    "\n",
    "# 训练模型\n",
    "v_lr = LinearRegression()\n",
    "v_lr.fit(X2_train, Y2_train)\n",
    "\n",
    "# 结果校验\n",
    "Y2_predict = v_lr.predict(X2_test)\n",
    "\n",
    "# 查看模型分数、系数、截距 \n",
    "print('模型准确度：', v_lr.score(X2_test, Y2_test))  # 分数越接近1 评估越准确\n",
    "print('模型系数：', v_lr.coef_)\n",
    "print('模型截距：', v_lr.intercept_)"
   ]
  },
  {
   "cell_type": "code",
   "execution_count": 45,
   "metadata": {},
   "outputs": [
    {
     "data": {
      "image/png": "[encoded data removed]",
      "text/plain": [
       "<Figure size 432x288 with 1 Axes>"
      ]
     },
     "metadata": {},
     "output_type": "display_data"
    }
   ],
   "source": [
    "# 画图\n",
    "tt = np.arange(len(X2_test))\n",
    "plt.figure(facecolor='w')\n",
    "plt.plot(tt, Y2_test, color='r', label='真实值', linewidth=2.5)\n",
    "plt.plot(tt, Y2_predict, color='g', label='预测值', linewidth=2.5)\n",
    "plt.legend(loc='best')\n",
    "plt.title('线性回归预测电流与电压间的关系')\n",
    "plt.grid()\n",
    "plt.show()"
   ]
  },
  {
   "cell_type": "code",
   "execution_count": null,
   "metadata": {},
   "outputs": [],
   "source": []
  }
 ],
 "metadata": {
  "kernelspec": {
   "display_name": "Python 3",
   "language": "python",
   "name": "python3"
  },
  "language_info": {
   "codemirror_mode": {
    "name": "ipython",
    "version": 3
   },
   "file_extension": ".py",
   "mimetype": "text/x-python",
   "name": "python",
   "nbconvert_exporter": "python",
   "pygments_lexer": "ipython3",
   "version": "3.7.1"
  }
 },
 "nbformat": 4,
 "nbformat_minor": 2
}
