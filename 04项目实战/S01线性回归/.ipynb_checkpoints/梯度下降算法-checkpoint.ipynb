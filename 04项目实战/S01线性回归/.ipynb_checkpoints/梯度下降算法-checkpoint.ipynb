{
 "cells": [
  {
   "cell_type": "markdown",
   "metadata": {},
   "source": [
    "### 分类：\n",
    "    1.批量梯度下降（BGD）：每次使用全量的训练集样本来更新模型参数\n",
    "    2.随机梯度下降（SGD）：每次从训练集中随机选择一个样本来进行迭代\n",
    "    3.Mini-batch梯度下降算法：次更新从训练集中随机选择b,b<m个样本进行学习"
   ]
  },
  {
   "cell_type": "code",
   "execution_count": 1,
   "metadata": {},
   "outputs": [],
   "source": [
    "# 构建一个数据检验函数，验证样本特征和目标值是否一样，\n",
    "# 每个样本的特征值是否一样，目标值是否单一\n",
    "def checkdate(X, Y):\n",
    "    \"\"\"\n",
    "    检查数据是否规范\n",
    "        X: 特征值, list object\n",
    "        Y: 目标值, list object\n",
    "    \"\"\"\n",
    "    if len(X) != len(Y):\n",
    "        raise Exception('数据异常。')\n",
    "    else:\n",
    "        l = len(X[0])\n",
    "        for m in X:\n",
    "            if m != l:\n",
    "                raise Exception('数据异常。')\n",
    "            if len(Y[0]) != 1:     # 保证目标值数量单一\n",
    "                raise Exception('数据异常。') \n",
    "\n",
    "def calcdiffe(x, y, a):\n",
    "    \"\"\"\n",
    "    计算差值，实际结果与预测结果间的差\n",
    "        x: 某个样本的特征值，向量\n",
    "        y: 样本对应得目标值，\n",
    "    \"\"\"\n",
    "    lx = len(x)\n",
    "    la = len(a)\n",
    "    if lx == la:   # 样本的长度和theta的长度一样\n",
    "        result = 0\n",
    "        for i in range(lx):\n",
    "            result += x[i] * a[i]  # θ1*x1 + θ2*x2 + ```\n",
    "        return y - result\n",
    "    elif lx + 1 == la:    # 有常数项\n",
    "        result = 0\n",
    "        for i in range(lx):\n",
    "            result += x[i] * a[i]\n",
    "        result += 1 * a[lx]    \n",
    "        return y - result\n",
    "    else:\n",
    "        raise Exception('参数错误')\n",
    "\n",
    "        \n",
    "def fit(X, Y, alphas, threshold=1e-6, maxIter=200, addConstant=True):\n",
    "    \"\"\"\n",
    "    梯度下降模型\n",
    "        X: 特征值,2D\n",
    "        Y: 目标值,2D\n",
    "        threshold: 阈值,达到该阈值时,停止迭代\n",
    "    return: \n",
    "    \"\"\"\n",
    "    import math\n",
    "    import numpy as np\n",
    "    # 校验 X Y\n",
    "    checkdate(X, Y)\n",
    "    # 构建模型\n",
    "    l = len(alphas)     # 学习率的长度\n",
    "    m = len(Y)          # 目标值的长度\n",
    "    n = len(X[0]) + 1 if addConstant else len(X[0])    # 特征值的长度\n",
    "    B = [True for i in range(l)]     # 空值最优模型\n",
    "    J = [np.nan for i in range(l)]     # loss的函数值\n",
    "    \n",
    "    # 计算迭代后与迭代前的差异值\n",
    "    # 初始化theta值，初始值均为0，样本的长度等于theta的长度, 一个特征值对应一个theta, \n",
    "    # a 求解的系数，二维数组，m*n  m是样本中的特征值的长度， n是本次测试的学习率的长度\n",
    "    a = [[0 for i in range(n)] for j in range(l)]   \n",
    "    # 开始计算, 最多迭代200次\n",
    "    for times in range(maxIter):\n",
    "        for i in range(l):    # 如果已确定最优解，则退出本次循环\n",
    "            if not B[i]:\n",
    "                continue\n",
    "            \n",
    "            ta = a[i]   # theta的初始值\n",
    "            for j in range(n):       # 样本的特征值\n",
    "                alpha = alphas[i]    # 取出一个学习率\n",
    "                ts = 0\n",
    "                for k in range(m):   # 样本的目标值\n",
    "                    if j == n-1 and addConstant:     # 有常数项\n",
    "                        ts += alpha * calcdiffe(X[k], Y[k][0], a[i]) * 1\n",
    "                    else:\n",
    "                        ts += alpha * calcdiffe(X[k], Y[K][0], api) * X[k][j]\n",
    "                t = ta[j] + ts   # 学习后的theta值\n",
    "                ta = t      # \n",
    "                \n",
    "            flag = True\n",
    "            js = 0\n",
    "            for k in range(m):\n",
    "                js += math.pow(calcdiffe(X[k], Y[k][0], a[i]), 2) + a[i][j]  # 梯度下降求解公式\n",
    "                # 求每个样本的差值的平方 + theta的累加值值\n",
    "                if js > J[i]:\n",
    "                    flag = False\n",
    "                    break\n",
    "            \n",
    "            if flag:\n",
    "                J[i] = js\n",
    "                for j in range(n):\n",
    "                    a[i][j] = ta[j]    # 更新 theta 的值\n",
    "            else:\n",
    "                B[i] = False\n",
    "                \n",
    "            r = [0 for j in J if j < threshold]   # 求解结果，如果小于阈值，则退出循环\n",
    "            if len(r) > 0:\n",
    "                break\n",
    "            \n",
    "            r = [0 for b in B if not b]\n",
    "            if len(r) > 0:\n",
    "                break\n",
    "                \n",
    "    min_a = a[0]    # 找到最小的系数theta\n",
    "    min_j = J[0]\n",
    "    min_alpha = alphas[0]\n",
    "    for i in range(l):\n",
    "        if J[i] < min_j:\n",
    "            min_j = J[i]\n",
    "            min_a = a[i]\n",
    "            min_alpha = alphas[i]\n",
    "            \n",
    "    print('最优的alpha值是：', min_alpha)\n",
    "    return min_a\n",
    "\n",
    "def predict(X, a):\n",
    "    \"\"\"\n",
    "    预测结果\n",
    "    \"\"\"\n",
    "    Y = []\n",
    "    n = len(a) - 1\n",
    "    for x in X:\n",
    "        result = 0\n",
    "        for i in range(n):\n",
    "            result += x[i] * a[i]   # 求所有样本特征乘以系数的累加和\n",
    "        result += a[n]     # 加上常数项\n",
    "        Y.append(result)\n",
    "    return Y\n",
    "\n",
    "\n",
    "# 计算实际值和预测值之间的相关性\n",
    "def calcRScore(y, py):\n",
    "    if len(y) != len(py):\n",
    "        raise Exception(\"参数异常\")\n",
    "    import math \n",
    "    import numpy as np\n",
    "    avgy = np.average(y)\n",
    "    m = len(y)\n",
    "    rss = 0.0\n",
    "    tss = 0\n",
    "    for i in range(m):\n",
    "        rss += math.pow(y[i] - py[i], 2)\n",
    "        tss += math.pow(y[i] - avgy, 2)\n",
    "    r = 1.0 - 1.0 * rss / tss\n",
    "    return r        "
   ]
  },
  {
   "cell_type": "code",
   "execution_count": 2,
   "metadata": {},
   "outputs": [
    {
     "data": {
      "text/plain": [
       "[nan, nan, nan, nan, nan]"
      ]
     },
     "execution_count": 2,
     "metadata": {},
     "output_type": "execute_result"
    }
   ],
   "source": [
    "import numpy as np\n",
    "[np.nan for i in range(5)] "
   ]
  },
  {
   "cell_type": "code",
   "execution_count": 6,
   "metadata": {},
   "outputs": [
    {
     "data": {
      "text/plain": [
       "False"
      ]
     },
     "execution_count": 6,
     "metadata": {},
     "output_type": "execute_result"
    }
   ],
   "source": [
    "0.1 < np.nan"
   ]
  },
  {
   "cell_type": "code",
   "execution_count": null,
   "metadata": {},
   "outputs": [],
   "source": []
  },
  {
   "cell_type": "code",
   "execution_count": null,
   "metadata": {},
   "outputs": [],
   "source": []
  }
 ],
 "metadata": {
  "kernelspec": {
   "display_name": "Python 3",
   "language": "python",
   "name": "python3"
  },
  "language_info": {
   "codemirror_mode": {
    "name": "ipython",
    "version": 3
   },
   "file_extension": ".py",
   "mimetype": "text/x-python",
   "name": "python",
   "nbconvert_exporter": "python",
   "pygments_lexer": "ipython3",
   "version": "3.7.1"
  }
 },
 "nbformat": 4,
 "nbformat_minor": 2
}
