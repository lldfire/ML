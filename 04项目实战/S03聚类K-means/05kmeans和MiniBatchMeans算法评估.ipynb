{
 "cells": [
  {
   "cell_type": "code",
   "execution_count": 1,
   "metadata": {},
   "outputs": [],
   "source": [
    "import numpy as np\n",
    "import sklearn\n",
    "from sklearn.cluster import KMeans\n",
    "from sklearn.cluster import MiniBatchKMeans\n",
    "from sklearn import metrics\n",
    "from sklearn.datasets import make_blobs"
   ]
  },
  {
   "cell_type": "code",
   "execution_count": 6,
   "metadata": {},
   "outputs": [],
   "source": [
    "centers = [[1, 1], [-1, -1], [1, -1]]\n",
    "clusters = len(centers)\n",
    "\n",
    "X, Y = make_blobs(n_samples=3000, centers=centers,\n",
    "                  cluster_std=0.7, random_state=9)"
   ]
  },
  {
   "cell_type": "code",
   "execution_count": 3,
   "metadata": {},
   "outputs": [
    {
     "data": {
      "text/plain": [
       "KMeans(algorithm='auto', copy_x=True, init='k-means++', max_iter=300,\n",
       "       n_clusters=3, n_init=10, n_jobs=None, precompute_distances='auto',\n",
       "       random_state=9, tol=0.0001, verbose=0)"
      ]
     },
     "execution_count": 3,
     "metadata": {},
     "output_type": "execute_result"
    }
   ],
   "source": [
    "# 创建K-means算法\n",
    "k_means = KMeans(n_clusters=clusters, init='k-means++', random_state=9)\n",
    "k_means.fit(X)"
   ]
  },
  {
   "cell_type": "markdown",
   "metadata": {},
   "source": [
    "mbkmeans = MiniBatchKMeans(\n",
    "    n_clusters=clusters, init='k-means++', batch_size=200, random_state=9)\n",
    "mbkmeans.fit(X)"
   ]
  },
  {
   "cell_type": "code",
   "execution_count": 7,
   "metadata": {},
   "outputs": [],
   "source": [
    "km_y = k_means.predict(X, Y)\n",
    "mbk_y = mbkmeans.predict(X, Y)"
   ]
  },
  {
   "cell_type": "code",
   "execution_count": 10,
   "metadata": {},
   "outputs": [
    {
     "name": "stdout",
     "output_type": "stream",
     "text": [
      "K-Means算法:adjusted_rand_score评估函数计算结果值:0.70736\n",
      "MiniBatchMeans算法:adjusted_rand_score评估函数计算结果值:0.70368\n",
      "====================分割线====================\n",
      "K-Means算法:v_measure_score评估函数计算结果值:0.63888\n",
      "MiniBatchMeans算法:v_measure_score评估函数计算结果值:0.63675\n",
      "====================分割线====================\n",
      "K-Means算法:adjusted_mutual_info_score评估函数计算结果值:0.63853\n",
      "MiniBatchMeans算法:adjusted_mutual_info_score评估函数计算结果值:0.63629\n",
      "====================分割线====================\n",
      "K-Means算法:mutual_info_score评估函数计算结果值:0.70174\n",
      "MiniBatchMeans算法:mutual_info_score评估函数计算结果值:0.69928\n",
      "====================分割线====================\n"
     ]
    },
    {
     "name": "stderr",
     "output_type": "stream",
     "text": [
      "/Library/Frameworks/Python.framework/Versions/3.7/lib/python3.7/site-packages/sklearn/metrics/cluster/supervised.py:746: FutureWarning: The behavior of AMI will change in version 0.22. To match the behavior of 'v_measure_score', AMI will use average_method='arithmetic' by default.\n",
      "  FutureWarning)\n",
      "/Library/Frameworks/Python.framework/Versions/3.7/lib/python3.7/site-packages/sklearn/metrics/cluster/supervised.py:746: FutureWarning: The behavior of AMI will change in version 0.22. To match the behavior of 'v_measure_score', AMI will use average_method='arithmetic' by default.\n",
      "  FutureWarning)\n"
     ]
    }
   ],
   "source": [
    "# 效果评估\n",
    "score_funcs = [\n",
    "    metrics.adjusted_rand_score,    # ARI\n",
    "    metrics.v_measure_score,     # 均一性和完整行的加权平均\n",
    "    metrics.adjusted_mutual_info_score,    # AMI\n",
    "    metrics.mutual_info_score     # 互信息\n",
    "]\n",
    "\n",
    "for score_func in score_funcs:\n",
    "    km_scores = score_func(Y, km_y)\n",
    "    print(\"K-Means算法:%s评估函数计算结果值:%.5f\" % (score_func.__name__, km_scores))\n",
    "\n",
    "    mbk_scores = score_func(Y, mbk_y)\n",
    "    print(\"MiniBatchMeans算法:%s评估函数计算结果值:%.5f\" %\n",
    "          (score_func.__name__, mbk_scores))\n",
    "    print('='*20 + '分割线' + '='*20)"
   ]
  },
  {
   "cell_type": "code",
   "execution_count": null,
   "metadata": {},
   "outputs": [],
   "source": []
  }
 ],
 "metadata": {
  "kernelspec": {
   "display_name": "Python 3",
   "language": "python",
   "name": "python3"
  },
  "language_info": {
   "codemirror_mode": {
    "name": "ipython",
    "version": 3
   },
   "file_extension": ".py",
   "mimetype": "text/x-python",
   "name": "python",
   "nbconvert_exporter": "python",
   "pygments_lexer": "ipython3",
   "version": "3.7.3"
  },
  "toc": {
   "base_numbering": 1,
   "nav_menu": {},
   "number_sections": true,
   "sideBar": true,
   "skip_h1_title": false,
   "title_cell": "Table of Contents",
   "title_sidebar": "Contents",
   "toc_cell": false,
   "toc_position": {},
   "toc_section_display": true,
   "toc_window_display": false
  },
  "varInspector": {
   "cols": {
    "lenName": 16,
    "lenType": 16,
    "lenVar": 40
   },
   "kernels_config": {
    "python": {
     "delete_cmd_postfix": "",
     "delete_cmd_prefix": "del ",
     "library": "var_list.py",
     "varRefreshCmd": "print(var_dic_list())"
    },
    "r": {
     "delete_cmd_postfix": ") ",
     "delete_cmd_prefix": "rm(",
     "library": "var_list.r",
     "varRefreshCmd": "cat(var_dic_list()) "
    }
   },
   "types_to_exclude": [
    "module",
    "function",
    "builtin_function_or_method",
    "instance",
    "_Feature"
   ],
   "window_display": false
  }
 },
 "nbformat": 4,
 "nbformat_minor": 2
}
