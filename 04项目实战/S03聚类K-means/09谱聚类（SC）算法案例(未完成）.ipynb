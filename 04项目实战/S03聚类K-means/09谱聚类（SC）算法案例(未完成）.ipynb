{
 "cells": [
  {
   "cell_type": "code",
   "execution_count": 1,
   "metadata": {},
   "outputs": [],
   "source": [
    "import numpy as np \n",
    "import matplotlib.pyplot as plt\n",
    "import matplotlib.colors as colors\n",
    "\n",
    "from sklearn import datasets\n",
    "from sklearn.cluster import spectral_clustering    # 谱聚类\n",
    "from sklearn.preprocessing import StandardScaler\n",
    "from sklearn.metrics import euclidean_distances"
   ]
  },
  {
   "cell_type": "code",
   "execution_count": 2,
   "metadata": {},
   "outputs": [],
   "source": [
    "plt.rcParams['font.sans-serif'] = ['Heiti']\n",
    "plt.rcParams['axes.unicode_minus'] = False"
   ]
  },
  {
   "cell_type": "markdown",
   "metadata": {},
   "source": [
    "### spectral_clustering 说明\n",
    "#### 用途\n",
    "适用于非凸数据、图形聚类、计算机视觉\n",
    "\n",
    "#### 参数\n",
    "- affinity: 要嵌入的样本之间的关系，必须是堆成矩阵\n",
    "- n_clusters: 要提取的簇的数量\n",
    "- n_components: 嵌入谱内的特征向量\n",
    "- eigen_solver: 特征分解策略\n",
    "- random_state:\n",
    "- n_init: \n",
    "- eigen_tol: 停止准则\n",
    "- assign_labels: "
   ]
  },
  {
   "cell_type": "markdown",
   "metadata": {},
   "source": [
    "### 创建模拟数据"
   ]
  },
  {
   "cell_type": "code",
   "execution_count": 8,
   "metadata": {},
   "outputs": [],
   "source": [
    "N = 1000\n",
    "# 生成高斯分布的数据\n",
    "centers = [[1, 1], [1, -1], [-1, 1], [-1, -1]]\n",
    "data1, y1 = datasets.make_blobs(N, centers=centers, n_features=2, cluster_std=[\n",
    "                                0.75, 0.5, 0.3, 0.15], random_state=9)\n",
    "data1 = StandardScaler().fit_transform(data1)\n",
    "\n",
    "# 计算每对向量之间的距离矩阵\n",
    "dist1 = euclidean_distances(data1, squared=True)\n",
    "\n",
    "# 权重计算公式\n",
    "affinity_param1 = map(lambda x: (\n",
    "    x, np.exp(-dist1 ** 2 / (x ** 2) + 1e-6)), np.logspace(-2, 0, 6))"
   ]
  },
  {
   "cell_type": "code",
   "execution_count": null,
   "metadata": {},
   "outputs": [],
   "source": []
  },
  {
   "cell_type": "code",
   "execution_count": 11,
   "metadata": {},
   "outputs": [
    {
     "data": {
      "text/plain": [
       "array([0.01      , 0.02511886, 0.06309573, 0.15848932, 0.39810717,\n",
       "       1.        ])"
      ]
     },
     "execution_count": 11,
     "metadata": {},
     "output_type": "execute_result"
    }
   ],
   "source": [
    "np.logspace(-2, 0, 6)"
   ]
  },
  {
   "cell_type": "code",
   "execution_count": null,
   "metadata": {},
   "outputs": [],
   "source": []
  }
 ],
 "metadata": {
  "kernelspec": {
   "display_name": "Python 3",
   "language": "python",
   "name": "python3"
  },
  "language_info": {
   "codemirror_mode": {
    "name": "ipython",
    "version": 3
   },
   "file_extension": ".py",
   "mimetype": "text/x-python",
   "name": "python",
   "nbconvert_exporter": "python",
   "pygments_lexer": "ipython3",
   "version": "3.7.3"
  },
  "toc": {
   "base_numbering": 1,
   "nav_menu": {},
   "number_sections": true,
   "sideBar": true,
   "skip_h1_title": false,
   "title_cell": "Table of Contents",
   "title_sidebar": "Contents",
   "toc_cell": false,
   "toc_position": {},
   "toc_section_display": true,
   "toc_window_display": false
  },
  "varInspector": {
   "cols": {
    "lenName": 16,
    "lenType": 16,
    "lenVar": 40
   },
   "kernels_config": {
    "python": {
     "delete_cmd_postfix": "",
     "delete_cmd_prefix": "del ",
     "library": "var_list.py",
     "varRefreshCmd": "print(var_dic_list())"
    },
    "r": {
     "delete_cmd_postfix": ") ",
     "delete_cmd_prefix": "rm(",
     "library": "var_list.r",
     "varRefreshCmd": "cat(var_dic_list()) "
    }
   },
   "types_to_exclude": [
    "module",
    "function",
    "builtin_function_or_method",
    "instance",
    "_Feature"
   ],
   "window_display": false
  }
 },
 "nbformat": 4,
 "nbformat_minor": 2
}
