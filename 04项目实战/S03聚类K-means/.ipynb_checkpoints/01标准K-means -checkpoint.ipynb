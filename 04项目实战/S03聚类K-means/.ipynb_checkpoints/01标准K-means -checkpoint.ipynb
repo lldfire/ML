{
 "cells": [
  {
   "cell_type": "code",
   "execution_count": 1,
   "metadata": {},
   "outputs": [],
   "source": [
    "import numpy as np\n",
    "import sklearn\n",
    "\n",
    "from sklearn.datasets import make_blobs\n",
    "from sklearn.cluster import KMeans"
   ]
  },
  {
   "cell_type": "markdown",
   "metadata": {},
   "source": [
    "### make_blobs 参数"
   ]
  },
  {
   "cell_type": "markdown",
   "metadata": {},
   "source": [
    "#### 作用：\n",
    "生成服从高斯分布的用于聚类的样本\n",
    "\n",
    "#### 参数说明\n",
    "- n_samples: int or array,默认100；如果是整型，它是簇之间平均分配的总点数，如果是数组，序列的每个元素表示每个簇的样本量\n",
    "- n_features: int,默认2；样本的特征量\n",
    "- centers: int or array,默认None，簇中心的数量，和n_samples有关\n",
    "- cluster_std: float,默认1.0；簇的标准偏差\n",
    "- center_box: 一对float,默认(-10.0, 10.0)，簇中心随机生成时，每个簇的边界框\n",
    "- shuffle: bool,默认True，是否洗混样本\n",
    "- random_state:\n",
    "\n",
    "#### 返回值\n",
    "- X: 样本数组，由样本量和特征量组成\n",
    "- Y: 每个样本聚类簇的标签\n"
   ]
  },
  {
   "cell_type": "markdown",
   "metadata": {},
   "source": [
    "### KMmeans 参数"
   ]
  },
  {
   "cell_type": "markdown",
   "metadata": {},
   "source": [
    "#### 作用\n",
    "K-means 的聚类\n",
    "\n",
    "#### 参数说明\n",
    "- n_cluters: int,默认8，要聚类的簇的数量\n",
    "- init: {‘k-means++’, ‘random’ or an ndarray}，默认‘k-means++’，初始簇心的收敛方法\n",
    "- n_init: int,默认10，用不同簇心运行K-means算法的时间\n",
    "- max_iter: int,默认300，最大迭代次数\n",
    "- tol: int,默认1^-4，声明收敛的相对误差\n",
    "- precompute_distances:  {‘auto’, True, False}，预先计算距离\n",
    "- verbose: int,默认0，详细模式\n",
    "- random_state:\n",
    "- copy_x:bool,默认Ture，是否修改原始数据\n",
    "- algorithm: “auto”, “full” or “elkan”, default=”auto”，算法选择：full，稀疏矩阵，elkan，稠密矩阵\n",
    "\n",
    "#### 属性\n",
    "- cluster_centers_: 簇中心坐标\n",
    "- labels_: 每个点的标签\n",
    "- inertia_: 所有样本到最近簇中心距离的平方和\n",
    "- n_iter_: 迭代次数\n",
    "\n",
    "#### 方法\n",
    "- fit: 计算K-means 聚类\n",
    "- fit_predict: 计算聚类中心，并预测每个样本\n",
    "- fit_transform: 训练并转换\n",
    "- get_params: 获取估计器的参数\n",
    "- predict: 预测样本\n",
    "- score: 模型评估\n",
    "- set_params: 设置估计器的参数\n",
    "- transform: 将X转换为簇距离空间\n"
   ]
  },
  {
   "cell_type": "markdown",
   "metadata": {},
   "source": [
    "### 生成聚类样本"
   ]
  },
  {
   "cell_type": "code",
   "execution_count": 18,
   "metadata": {},
   "outputs": [],
   "source": [
    "# 产生模拟数据，总数2000，特征数4，簇数4，簇标准偏差 0.8\n",
    "X, Y = make_blobs(n_samples=2000, n_features=4, centers=4, cluster_std=0.8)"
   ]
  },
  {
   "cell_type": "markdown",
   "metadata": {},
   "source": [
    "### 模型构建"
   ]
  },
  {
   "cell_type": "code",
   "execution_count": 19,
   "metadata": {},
   "outputs": [
    {
     "data": {
      "text/plain": [
       "KMeans(algorithm='auto', copy_x=True, init='k-means++', max_iter=300,\n",
       "       n_clusters=4, n_init=10, n_jobs=None, precompute_distances='auto',\n",
       "       random_state=9, tol=0.0001, verbose=0)"
      ]
     },
     "execution_count": 19,
     "metadata": {},
     "output_type": "execute_result"
    }
   ],
   "source": [
    "# 构建模型\n",
    "kmeans = KMeans(n_clusters=4, init='k-means++', random_state=9)\n",
    "# 训练模型\n",
    "kmeans.fit(X)"
   ]
  },
  {
   "cell_type": "code",
   "execution_count": 20,
   "metadata": {},
   "outputs": [
    {
     "name": "stdout",
     "output_type": "stream",
     "text": [
      "簇中心坐标:\n",
      " [[ 8.70663775 -2.65076795  2.96211703 -1.68545036]\n",
      " [-9.2009252  -7.46771949 -9.5685856   3.10856332]\n",
      " [-5.78058174 -9.41680735  7.66694153  5.51052304]\n",
      " [-5.6007533  -2.89340803 -9.66737399  3.29007476]]\n",
      "每个样本的标签：\n",
      " [2 0 0 0 1 0 0 2 1 1]\n",
      "所有样本到簇心的距离和：\n",
      " 5147.677668983144\n",
      "迭代次数：\n",
      " 2\n"
     ]
    }
   ],
   "source": [
    "# 模型相关参数\n",
    "print('簇中心坐标:\\n', kmeans.cluster_centers_)\n",
    "print('每个样本的标签：\\n', kmeans.labels_[:10])\n",
    "print('所有样本到簇心的距离和：\\n',kmeans.inertia_)\n",
    "print('迭代次数：\\n', kmeans.n_iter_)"
   ]
  },
  {
   "cell_type": "markdown",
   "metadata": {},
   "source": [
    "### 结果预测"
   ]
  },
  {
   "cell_type": "code",
   "execution_count": 24,
   "metadata": {},
   "outputs": [],
   "source": [
    "y_predict = kmeans.predict(X[-10:])"
   ]
  },
  {
   "cell_type": "code",
   "execution_count": 26,
   "metadata": {},
   "outputs": [
    {
     "name": "stdout",
     "output_type": "stream",
     "text": [
      "预测结果\n",
      " [1 1 1 3 0 2 0 2 1 0]\n",
      "实际结果\n",
      " [2 2 2 3 1 0 1 0 2 1]\n"
     ]
    }
   ],
   "source": [
    "# 与标签值无关，聚类正确\n",
    "print('预测结果\\n', y_predict)\n",
    "print('实际结果\\n', Y[-10:])"
   ]
  },
  {
   "cell_type": "code",
   "execution_count": null,
   "metadata": {},
   "outputs": [],
   "source": []
  }
 ],
 "metadata": {
  "kernelspec": {
   "display_name": "Python 3",
   "language": "python",
   "name": "python3"
  },
  "language_info": {
   "codemirror_mode": {
    "name": "ipython",
    "version": 3
   },
   "file_extension": ".py",
   "mimetype": "text/x-python",
   "name": "python",
   "nbconvert_exporter": "python",
   "pygments_lexer": "ipython3",
   "version": "3.7.3"
  },
  "toc": {
   "base_numbering": 1,
   "nav_menu": {},
   "number_sections": true,
   "sideBar": true,
   "skip_h1_title": false,
   "title_cell": "Table of Contents",
   "title_sidebar": "Contents",
   "toc_cell": false,
   "toc_position": {},
   "toc_section_display": true,
   "toc_window_display": false
  },
  "varInspector": {
   "cols": {
    "lenName": 16,
    "lenType": 16,
    "lenVar": 40
   },
   "kernels_config": {
    "python": {
     "delete_cmd_postfix": "",
     "delete_cmd_prefix": "del ",
     "library": "var_list.py",
     "varRefreshCmd": "print(var_dic_list())"
    },
    "r": {
     "delete_cmd_postfix": ") ",
     "delete_cmd_prefix": "rm(",
     "library": "var_list.r",
     "varRefreshCmd": "cat(var_dic_list()) "
    }
   },
   "types_to_exclude": [
    "module",
    "function",
    "builtin_function_or_method",
    "instance",
    "_Feature"
   ],
   "window_display": false
  }
 },
 "nbformat": 4,
 "nbformat_minor": 2
}
