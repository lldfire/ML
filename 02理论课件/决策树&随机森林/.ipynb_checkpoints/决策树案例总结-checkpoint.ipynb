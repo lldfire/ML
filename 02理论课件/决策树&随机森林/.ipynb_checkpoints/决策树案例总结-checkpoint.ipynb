{
 "cells": [
  {
   "cell_type": "markdown",
   "metadata": {},
   "source": [
    "### 鸢尾花分类\n",
    "    1、使用pd.Categorical(data).codes 可以快速对数据的不同分类打标签\n",
    "    2、特征选择：选择影响度最大的特征，降维处理\n",
    "    3、画区域图 plt.pcolormesh()\n",
    "    4、模型参数优化，使用Pipline() 及 网格交叉验证 GridSearchCV() 进行\n",
    "    5、使用 Pipline 时需要注意各个模块的放置顺序和参数设置方式：模块名 + 双下划线 + 参数名"
   ]
  },
  {
   "cell_type": "code",
   "execution_count": null,
   "metadata": {},
   "outputs": [],
   "source": []
  }
 ],
 "metadata": {
  "kernelspec": {
   "display_name": "Python 3",
   "language": "python",
   "name": "python3"
  },
  "language_info": {
   "codemirror_mode": {
    "name": "ipython",
    "version": 3
   },
   "file_extension": ".py",
   "mimetype": "text/x-python",
   "name": "python",
   "nbconvert_exporter": "python",
   "pygments_lexer": "ipython3",
   "version": "3.7.3"
  }
 },
 "nbformat": 4,
 "nbformat_minor": 2
}
