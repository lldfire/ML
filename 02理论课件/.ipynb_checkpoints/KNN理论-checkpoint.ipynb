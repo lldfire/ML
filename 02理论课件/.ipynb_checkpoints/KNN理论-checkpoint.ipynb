{
 "cells": [
  {
   "cell_type": "markdown",
   "metadata": {},
   "source": [
    "#### 原理\n",
    "    找到距离样本最近的K个样本，从这K个样本中来预测最终值"
   ]
  },
  {
   "cell_type": "markdown",
   "metadata": {},
   "source": [
    "#### KNN 三要素 \n",
    "    1、K值的选择，K值过小会导致过拟合，\n",
    "    2、距离的度量：一般使用欧式距离\n",
    "    3、决策规则：在分类中一般多数表决法或加权多数表决法\n",
    "        加权多数表决法：根据每个邻近样本的权重，采用权重和距离成反比"
   ]
  },
  {
   "cell_type": "markdown",
   "metadata": {},
   "source": [
    "#### 重点找到K值\n",
    "    1、蛮力实现：计算所有距离，找到距离最小的K个样本值作为K值\n",
    "    2、KD树(KD_tree):首先对训练数据进行建模，构建KD树，再寻找K个点\n",
    "        KD_tree构建：根结点的选择是根据特征属性方差来选择，选择方差最大的那个特征作为划分属性"
   ]
  }
 ],
 "metadata": {
  "kernelspec": {
   "display_name": "Python 3",
   "language": "python",
   "name": "python3"
  },
  "language_info": {
   "codemirror_mode": {
    "name": "ipython",
    "version": 3
   },
   "file_extension": ".py",
   "mimetype": "text/x-python",
   "name": "python",
   "nbconvert_exporter": "python",
   "pygments_lexer": "ipython3",
   "version": "3.7.3"
  }
 },
 "nbformat": 4,
 "nbformat_minor": 2
}
