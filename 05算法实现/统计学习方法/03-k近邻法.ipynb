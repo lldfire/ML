{
 "cells": [
  {
   "cell_type": "markdown",
   "metadata": {},
   "source": [
    "# 第3章 K近邻\n",
    "## 概要\n",
    "1. 给定的训练实例点和输入实例点，首先确定输入实例点的K个最近邻的训练实例点，然后用这K个训练实例点的类的多数来预测输入实例点。\n",
    "2. K 近邻法中当训练集，距离度量、K值和分类决策规则确定后，其结果唯一。\n",
    "3. 三要素：K值、距离度量、分类决策规则。常用的距离距离度量是欧式距离；K值小时，模型复杂，K值大时，模型简单；常用的分类决策规则是多数表决。\n",
    "4. 实用kd树能快速搜索K个最近邻点。\n",
    "\n",
    "## 距离度量\n",
    "1. 设 x 是 n 维实数向量空间，则$x_i, x_j$ 间的距离公式:\n",
    "$$L_p(x_i, x_j) = \\sum_{l=1}^n \\left(|x_i^l - x_j^l| ^p \\right )^{\\frac{1}{p}}$$\n",
    "    - p=1时，曼哈顿距离\n",
    "    - p=2时，欧式距离\n",
    "    - p=∞时，切比雪夫距离"
   ]
  },
  {
   "cell_type": "markdown",
   "metadata": {},
   "source": [
    "### 课本例3.1"
   ]
  },
  {
   "cell_type": "code",
   "execution_count": 26,
   "metadata": {},
   "outputs": [],
   "source": [
    "import math\n",
    "from itertools import combinations"
   ]
  },
  {
   "cell_type": "code",
   "execution_count": 3,
   "metadata": {},
   "outputs": [],
   "source": [
    "def L(x, y, p=2):\n",
    "    \"\"\"\n",
    "    距离计算公式\n",
    "    \"\"\"\n",
    "    assert len(x) == len(y), 'x, y 长度不一致'\n",
    "    if len(x) > 1:\n",
    "        sum = 0\n",
    "        for i in range(len(x)):\n",
    "            sum += math.pow(abs(x[i] - y[i]), p)\n",
    "        return math.pow(sum, 1 / p) \n",
    "    else:\n",
    "        return 0"
   ]
  },
  {
   "cell_type": "code",
   "execution_count": 4,
   "metadata": {},
   "outputs": [
    {
     "name": "stdout",
     "output_type": "stream",
     "text": [
      "当p=1 {'1-[5, 1]': 4.0, '1-[4, 4]': 6.0}\n",
      "当p=2 {'1-[5, 1]': 4.0, '1-[4, 4]': 4.242640687119285}\n",
      "当p=3 {'1-[5, 1]': 3.9999999999999996, '1-[4, 4]': 3.7797631496846193}\n",
      "当p=4 {'1-[5, 1]': 4.0, '1-[4, 4]': 3.5676213450081633}\n"
     ]
    }
   ],
   "source": [
    "x1 = [1, 1]\n",
    "x2 = [5, 1]\n",
    "x3 = [4, 4]\n",
    "for p in range(1, 5):\n",
    "    r = {f'1-{c}': L(x1, c, p) for c in (x2, x3)}\n",
    "    print(f'当p={p}', r)"
   ]
  },
  {
   "cell_type": "markdown",
   "metadata": {},
   "source": [
    "### 实例，遍历所有数据点，找到最近的k个点"
   ]
  },
  {
   "cell_type": "code",
   "execution_count": 5,
   "metadata": {},
   "outputs": [],
   "source": [
    "import numpy as np\n",
    "import matplotlib.pyplot as plt\n",
    "from collections import Counter\n",
    "\n",
    "from sklearn.datasets import load_iris\n",
    "from sklearn.model_selection import train_test_split\n",
    "%matplotlib inline"
   ]
  },
  {
   "cell_type": "code",
   "execution_count": 6,
   "metadata": {},
   "outputs": [],
   "source": [
    "iris = load_iris()\n",
    "x = iris.data[:100, :2]\n",
    "y = iris.target[:100]\n",
    "x_train, x_test, y_train, y_test = train_test_split(\n",
    "    x, y, test_size=0.20, random_state=9)"
   ]
  },
  {
   "cell_type": "code",
   "execution_count": 7,
   "metadata": {},
   "outputs": [
    {
     "data": {
      "image/png": "[encoded data removed]",
      "text/plain": [
       "<Figure size 432x288 with 1 Axes>"
      ]
     },
     "metadata": {
      "needs_background": "light"
     },
     "output_type": "display_data"
    }
   ],
   "source": [
    "# 画图\n",
    "plt.scatter(x[:50, 0], x[:50, 1], label=iris.target_names[0])\n",
    "plt.scatter(x[50:100, 0], x[50:100, 1], label=iris.target_names[1])\n",
    "# plt.scatter(x[100:150, 0], x[100:150, 1], label=iris.target_names[2])\n",
    "plt.xlabel(iris.feature_names[0])\n",
    "plt.ylabel(iris.feature_names[1])\n",
    "plt.legend()\n",
    "plt.show()"
   ]
  },
  {
   "cell_type": "code",
   "execution_count": 8,
   "metadata": {},
   "outputs": [],
   "source": [
    "class KNN:\n",
    "    def __init__(self, x_train, y_train, n_neighbors=3, p=2):\n",
    "        \"\"\"\n",
    "        parameter: n_neighbors，邻近点数量\n",
    "        parameter: p 距离度量方式\n",
    "        \"\"\"\n",
    "        self.n = n_neighbors\n",
    "        self.p = p\n",
    "        self.x_train = x_train\n",
    "        self.y_train = y_train\n",
    "        \n",
    "    def predict(self, x):\n",
    "        # 取出k个点\n",
    "        knn_list = []\n",
    "        for i in range(self.n):\n",
    "            # 求范数，即距离度量\n",
    "            dist = np.linalg.norm(x - self.x_train[i], ord=self.p)\n",
    "            knn_list.append((dist, self.y_train[i]))\n",
    "         \n",
    "        # 遍历剩余点\n",
    "        for i in range(self.n, len(self.x_train)):\n",
    "            # 找到列表中距离度量最大值的索引\n",
    "            max_index = knn_list.index(max(knn_list, key=lambda x: x[0]))\n",
    "            dist = np.linalg.norm(x - self.x_train[i], ord=self.p)\n",
    "            # 判断此距离与列表中最大的距离的大小\n",
    "            if knn_list[max_index][0] > dist:\n",
    "                knn_list[max_index] = (dist, self.y_train[i])\n",
    "        \n",
    "        # 统计结果，投票选择\n",
    "        knn = [k[1] for k in knn_list]\n",
    "        count_pairs = Counter(knn)\n",
    "        max_count = max(count_pairs.items(), key=lambda x: x[1])[0]\n",
    "        return max_count\n",
    "    \n",
    "    def score(self, x_test, y_test):\n",
    "        right_count = 0\n",
    "        for x, y in zip(x_test, y_test):\n",
    "            label = self.predict(x)\n",
    "            if label == y:\n",
    "                right_count += 1\n",
    "        return right_count / len(x_test)"
   ]
  },
  {
   "cell_type": "code",
   "execution_count": 9,
   "metadata": {},
   "outputs": [
    {
     "name": "stdout",
     "output_type": "stream",
     "text": [
      "1.0\n"
     ]
    }
   ],
   "source": [
    "knn = KNN(x_train, y_train, n_neighbors=4, p=1)\n",
    "#     print(knn.predict(x_test[0]))\n",
    "print(knn.score(x_test, y_test))"
   ]
  },
  {
   "cell_type": "markdown",
   "metadata": {},
   "source": [
    "### sklearn API 实例"
   ]
  },
  {
   "cell_type": "code",
   "execution_count": 10,
   "metadata": {},
   "outputs": [],
   "source": [
    "from sklearn.neighbors import KNeighborsClassifier"
   ]
  },
  {
   "cell_type": "code",
   "execution_count": 11,
   "metadata": {},
   "outputs": [
    {
     "name": "stdout",
     "output_type": "stream",
     "text": [
      "1.0\n"
     ]
    }
   ],
   "source": [
    "# algorithm: K 近邻搜索方法\n",
    "knn2 = KNeighborsClassifier(n_neighbors=4, p=1, algorithm='auto')\n",
    "knn2.fit(x_train, y_train)\n",
    "print(knn2.score(x_test, y_test))"
   ]
  },
  {
   "cell_type": "markdown",
   "metadata": {},
   "source": [
    "## KD树的构建\n",
    "1. kd树是一种对K维空间的实例点进行存储以便快速检索的树形数据结构\n",
    "2. kd树是一个二叉树，表示对k维空间中的一个划分。\n",
    "3. 构造方法：\n",
    "    - 构造根节点，使根结点对应于$k$维空间中包含所有实例点的超矩形区域通过下面的递归方法\n",
    "    - 不断地对$k$维空间进行切分，生成子结点。\n",
    "    - 选择一个切分点，确定一个超平面，这个超平面的的节点垂直于选择的坐标轴，将当前超矩形划分为左右两个矩形\n",
    "    - 通常选择实例点在坐标轴上的中位数作为切分点，这样得到的Kd树是平衡的\n",
    "\n",
    "## 构造平衡kd树算法\n",
    "1. 开始：构造根节点，选择$x^l$为坐标轴，以实例点中$x^l$的中位树为切分点，切分由通过切分点并于$x^l$轴垂直的超平面切分，落在切分平面上的点保存为根节点\n",
    "2. 重复：直到子区域内没有实例点。"
   ]
  },
  {
   "cell_type": "code",
   "execution_count": 64,
   "metadata": {},
   "outputs": [],
   "source": [
    "# kd-tree中包含的数据结构如下\n",
    "class KdNode:\n",
    "    def __init__(self, dom_elt, split, left, right):\n",
    "        self.dom_elt = dom_elt    # k维向量节点\n",
    "        self.split = split        # 切分点\n",
    "        self.left = left          # 该节点分给超平面左子空间构成的kd-tree\n",
    "        self.right = right        # 右空间构成的kd-tree\n",
    "        \n",
    "\n",
    "class KdTree:\n",
    "    def __init__(self, data):\n",
    "        k = len(data[0])     # 实例点的维度\n",
    "        \n",
    "        def create_node(split, dataset):\n",
    "            if not dataset:    # 数据集为空\n",
    "                return None\n",
    "            # 按第K维划分数据集，对数据集中的split进行排序\n",
    "            dataset.sort(key=lambda x: x[split])\n",
    "            split_pos = len(dataset) // 2\n",
    "            median = dataset[split_pos]\n",
    "            split_next = (split + 1) % k\n",
    "            \n",
    "            # 递归创建决策树\n",
    "            return KdNode(\n",
    "                median,\n",
    "                split, \n",
    "                create_node(split_next, dataset[:split_pos]),\n",
    "                create_node(split_next, dataset[split_pos + 1:]),\n",
    "            )\n",
    "        self.root = create_node(0, data)\n",
    "        \n",
    "# 前序遍历\n",
    "def preorder(root):\n",
    "    print(root.dom_elt)\n",
    "    if root.left:\n",
    "        print('左节点')\n",
    "        preorder(root.left)\n",
    "    if root.right:\n",
    "        print('右节点')\n",
    "        preorder(root.right)"
   ]
  },
  {
   "cell_type": "markdown",
   "metadata": {},
   "source": [
    "### 搜索kd-tree\n",
    "- 输入：已构造的kd树，目标点 x\n",
    "- 输出：x的最近邻\n",
    "- 步骤：\n",
    "    1. 在kd树中找到包含目标点 x 的叶节点：从根节点出发，递归向下访问。若目标点 x 当前维的坐标小于切分点坐标，则移动到左子节点，否则移动到右子节点。直到子节点为叶节点为止。\n",
    "    2. 以此节点为“当前最近点”\n",
    "    3. 递归向上回退，在每个节点进行如下操作：\n",
    "        - a.如果当前节点保存的实例点，比当前最近点更近，则以该实例点为“当前最近点”\n",
    "        - b.当前最近点一定存在于该节点的一个子节点对应的区域。检查该子节点的父节点的另一个子节点的区域是否又更近的点，\n",
    "    4. 当回退到根节点时，搜索结束。"
   ]
  },
  {
   "cell_type": "code",
   "execution_count": 28,
   "metadata": {},
   "outputs": [],
   "source": [
    "# 搜索构建好的kd-tree,寻找与目标点最近的k个点\n",
    "import math\n",
    "from collections import namedtuple   # 命名元组"
   ]
  },
  {
   "cell_type": "markdown",
   "metadata": {},
   "source": [
    "#### 最近邻搜索"
   ]
  },
  {
   "cell_type": "code",
   "execution_count": 48,
   "metadata": {},
   "outputs": [],
   "source": [
    "# 定义一个命名元组分别存放最近坐标点，最近距离和访问过的节点数\n",
    "result = namedtuple('Result_tuple',\n",
    "                   ['nearest_point', 'nearest_dist', 'nodes_visited'])\n",
    "\n",
    "\n",
    "def find_nearest(tree, point):\n",
    "    k = len(point)     # 输入点的维度\n",
    "    \n",
    "    def travel(kd_node, target, max_dist):\n",
    "        # 如果节点为空， 返回result\n",
    "        if kd_node is None:\n",
    "            return result([0] * k, float('inf'), 0)\n",
    "        \n",
    "        nodes_visited = 1    # 初始节点树\n",
    "        s = kd_node.split    # 进行分割的维度\n",
    "        pivot = kd_node.dom_elt    # 分割的超平面\n",
    "        \n",
    "        # 目标点的第s维小于分割轴的对应值，则目标在左子树\n",
    "        if target[s] <= pivot[s]:\n",
    "            nearer_node = kd_node.left    # 下一个访问点为左树子节点\n",
    "            further_node = kd_node.right  # 对应的右子树节点\n",
    "        else:\n",
    "            nearer_node = kd_node.right    # 下一个访问点为右树子节点\n",
    "            further_node = kd_node.left    # 对应的左子树节点\n",
    "        \n",
    "        # 递归寻找包含目标点的区域\n",
    "        temp1 = travel(nearer_node, target, max_dist)\n",
    "        \n",
    "        nearest = temp1.nearest_point     # 以此叶节点为“当前最近点”,\n",
    "        dist = temp1.nearest_dist         # 并更新目标点与当前点的距离, \n",
    "        nodes_visited += temp1.nodes_visited   # 更新访问过的节点数\n",
    "        \n",
    "        # 判断当前最近距离 与 初始最近距离的大小\n",
    "        if dist < max_dist:\n",
    "            max_dist = dist   # 最近点在以目标点为球心，max_dist为半径的超球体内\n",
    "            \n",
    "        temp_dist = abs(pivot[s] - target[s])   # 第s维上目标点与分割超平面的距离\n",
    "        if max_dist < temp_dist:\n",
    "            # 如果超球体与分割超平面相交，则最近点可能在另一个区域中\n",
    "            # 反之不相交，则当前点为最近点，直接返回\n",
    "            return result(nearest, dist, nodes_visited)\n",
    "       \n",
    "        # 计算目标点与分割点的欧式距离\n",
    "        temp_dist = math.sqrt(\n",
    "            sum([(p1 -p2) ** 2 for p1, p2 in zip(pivot, target)]))\n",
    "        # 如果目标点与分割点间的距离更近，则更新最近点及最近距离\n",
    "        if temp_dist < dist:\n",
    "            nearest = pivot\n",
    "            dist = temp_dist\n",
    "            max_dist = dist    # 更新超球体的半径\n",
    "        \n",
    "        # 检查另一个叶子节点中是否有更近的点\n",
    "        temp2 = travel(further_node, target, max_dist)\n",
    "        nodes_visited += temp2.nodes_visited\n",
    "        \n",
    "        # 如果存在更近的点，则更新\n",
    "        if temp2.nearest_dist < dist:\n",
    "            nearest = temp2.nearest_point\n",
    "            dist = temp2.nearest_dist\n",
    "        \n",
    "        return result(nearest, dist, nodes_visited)\n",
    "    \n",
    "    # 从根节点开始递归\n",
    "    return travel(tree.root, point, float('inf'))"
   ]
  },
  {
   "cell_type": "markdown",
   "metadata": {},
   "source": [
    "#### K近邻搜索\n",
    "- 输入：已构造的kd树，目标点 x\n",
    "- 输出：x的k近邻\n",
    "- 步骤："
   ]
  },
  {
   "cell_type": "markdown",
   "metadata": {},
   "source": [
    "#### 测试"
   ]
  },
  {
   "cell_type": "code",
   "execution_count": 58,
   "metadata": {},
   "outputs": [
    {
     "name": "stdout",
     "output_type": "stream",
     "text": [
      "2\n",
      "[7, 2]\n",
      "左节点\n",
      "[5, 4]\n",
      "左节点\n",
      "[2, 3]\n",
      "右节点\n",
      "[4, 7]\n",
      "右节点\n",
      "[9, 6]\n",
      "左节点\n",
      "[8, 1]\n"
     ]
    },
    {
     "data": {
      "text/plain": [
       "Result_tuple(nearest_point=[2, 3], nearest_dist=0.6403124237432848, nodes_visited=4)"
      ]
     },
     "execution_count": 58,
     "metadata": {},
     "output_type": "execute_result"
    }
   ],
   "source": [
    "# 书中例子\n",
    "data = [[2,3],[5,4],[9,6],[4,7],[8,1],[7,2]]\n",
    "kd = KdTree(data)\n",
    "preorder(kd.root)\n",
    "\n",
    "# 给定一个点，查找此点的最近邻\n",
    "find_nearest(kd, [2.5, 3.4])"
   ]
  },
  {
   "cell_type": "code",
   "execution_count": 62,
   "metadata": {},
   "outputs": [],
   "source": [
    "from time import process_time\n",
    "from random import uniform\n",
    "\n",
    "def create_point(k):\n",
    "    \"\"\"随机生成一个k维的点，值为2,7之间的浮点数\"\"\"\n",
    "    return [uniform(2, 7) for _ in range(k)]\n",
    "\n",
    "def creat_points(n=100, k=2):\n",
    "    return [create_point(k) for _ in range(n)]"
   ]
  },
  {
   "cell_type": "code",
   "execution_count": 66,
   "metadata": {},
   "outputs": [
    {
     "name": "stdout",
     "output_type": "stream",
     "text": [
      "构造kd树，耗时0.5151359999999983秒\n",
      "查找最近点，耗时0.001434000000003266秒\n",
      "最近点Result_tuple(nearest_point=[2.8837276373455034, 4.466903813995982, 5.79812698222719, 5.346122193797179], nearest_dist=0.46018793874716596, nodes_visited=127)\n"
     ]
    }
   ],
   "source": [
    "# 给定大量的样本点，查找最近邻\n",
    "t0 = process_time()\n",
    "kd2 = KdTree(creat_points(4000, 4))\n",
    "t1 = process_time()\n",
    "print(f'构造kd树，耗时{t1 - t0}秒')\n",
    "ret = find_nearest(kd2, [3.2, 4.6, 6.1, 5.4])\n",
    "t2 = process_time()\n",
    "print(f'查找最近点，耗时{t2 - t1}秒')\n",
    "\n",
    "print(f'最近点{ret}')"
   ]
  },
  {
   "cell_type": "code",
   "execution_count": null,
   "metadata": {},
   "outputs": [],
   "source": []
  },
  {
   "cell_type": "code",
   "execution_count": null,
   "metadata": {},
   "outputs": [],
   "source": []
  }
 ],
 "metadata": {
  "kernelspec": {
   "display_name": "Python 3",
   "language": "python",
   "name": "python3"
  },
  "language_info": {
   "codemirror_mode": {
    "name": "ipython",
    "version": 3
   },
   "file_extension": ".py",
   "mimetype": "text/x-python",
   "name": "python",
   "nbconvert_exporter": "python",
   "pygments_lexer": "ipython3",
   "version": "3.7.3"
  }
 },
 "nbformat": 4,
 "nbformat_minor": 4
}
