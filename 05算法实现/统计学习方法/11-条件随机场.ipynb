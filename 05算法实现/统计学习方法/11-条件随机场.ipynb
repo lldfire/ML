{
 "cells": [
  {
   "cell_type": "markdown",
   "metadata": {},
   "source": [
    "### 概率无向图模型\n",
    "联合概率分布P(Y)由无向图G=(V, E)表示，如果联合概率分布P(Y)满足成对、局部、全局马尔可夫性，则此联合概率分布为概率无向图模型货马尔可夫随机场"
   ]
  }
 ],
 "metadata": {
  "kernelspec": {
   "display_name": "Python 3",
   "language": "python",
   "name": "python3"
  },
  "language_info": {
   "codemirror_mode": {
    "name": "ipython",
    "version": 3
   },
   "file_extension": ".py",
   "mimetype": "text/x-python",
   "name": "python",
   "nbconvert_exporter": "python",
   "pygments_lexer": "ipython3",
   "version": "3.7.3"
  }
 },
 "nbformat": 4,
 "nbformat_minor": 4
}
