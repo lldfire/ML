{
 "cells": [
  {
   "cell_type": "markdown",
   "metadata": {},
   "source": [
    "# 第4章 朴素贝叶斯\n",
    "1. 朴素贝叶斯是典型的生成学习方法，由训练数据学习联合分布概率$p(X,Y)$,然后求的后验概率$p(y|x)$。具体为利用训练数据学习$p(X|Y)和p(Y)$,得到联合概率分布：\n",
    "$$p(X,Y)=p(Y)p(X|Y)$$\n",
    "概率估计方法可以是极大似然估计，也可以是贝叶斯估计\n",
    "2. 朴素贝叶斯的基本假设是独立同分布：\n",
    "$$P(X=x|Y=c_k)=P(X=x^1,X=x^2,···,X=x^n|Y=c_k)=\\prod_{j=1}^n P(X=x^j|Y=c_k)$$\n",
    "3. 朴素贝叶斯利用贝叶斯定理学到的联合概率模型进行分类预测：\n",
    "$$P(Y|X)=\\frac{P(X,Y)}{P(X)} = \\frac{P(Y)P(X|Y)}{\\sum_Y P(Y)P(X|Y)}$$\n",
    "输入x后得到后验概率最大的分类y\n",
    "4. 常用模型\n",
    "    - 高斯朴素贝叶斯\n",
    "    - 伯努利朴素贝叶斯\n",
    "    - 多项式朴素贝叶斯\n"
   ]
  },
  {
   "cell_type": "markdown",
   "metadata": {},
   "source": [
    "## 高斯朴素贝叶斯\n",
    "假设特征的分布符合高斯分布：\n",
    "$$P(x_i|y_j)服从高斯分布$$"
   ]
  },
  {
   "cell_type": "code",
   "execution_count": 1,
   "metadata": {},
   "outputs": [],
   "source": [
    "import math\n",
    "import numpy as np\n",
    "from collections import Counter"
   ]
  },
  {
   "cell_type": "code",
   "execution_count": 21,
   "metadata": {},
   "outputs": [],
   "source": [
    "class GaussianNB:\n",
    "    \"\"\" 高斯朴素贝叶斯分类器 \"\"\"\n",
    "    def __init__(self):\n",
    "        \"\"\"\n",
    "        paramters：\n",
    "            n_calss 类别数量\n",
    "            avgs 每个特征的期望\n",
    "            vars 数据集中每个样本的方差\n",
    "            prior 所属类别的先验概率\n",
    "        \"\"\"\n",
    "        self.n_class = None    \n",
    "        self.avgs = None\n",
    "        self.vars = None\n",
    "        self.prior = None\n",
    "\n",
    "    def _get_prior(self, targets):\n",
    "        \"\"\"\n",
    "        计算先验概率\n",
    "        targets: 样本的标签\n",
    "        \"\"\"\n",
    "        target_size = len(targets)     # 样本标签数量\n",
    "        target_count = Counter(targets)\n",
    "        # 计算每个类别的先验概率\n",
    "        prior = np.array(\n",
    "            [target_count[i] / target_size for i in target_count]\n",
    "        )\n",
    "        return prior\n",
    "\n",
    "    def _get_avgs(self, data, target):\n",
    "        \"\"\"\n",
    "        计算训练样本均值，每个类别中的每个特征分别计算\n",
    "        target == i 找到每个类别标签的索引，取出对应的特征数据\n",
    "        \"\"\"\n",
    "        return np.array(\n",
    "            [data[target == i].mean(axis=0) for i in range(self.n_class)]\n",
    "        )\n",
    "\n",
    "    def _get_vars(self, data, target):\n",
    "        \"\"\" 计算训练样本方差，每个类别中的每个特征的方差 \"\"\"\n",
    "        return np.array(\n",
    "            [data[target == i].var(axis=0) for i in range(self.n_class)]\n",
    "        )\n",
    "\n",
    "    def _get_factor(self, row):\n",
    "        \"\"\" 根据高斯公式计算似然概率值 \"\"\"\n",
    "        return ((1 / (self.vars * np.sqrt(2 * np.pi))) * np.exp(\n",
    "            (-(row - self.avgs) ** 2) / (2 * self.vars ** 2)\n",
    "        )).prod(axis=1)\n",
    "\n",
    "    def fit(self, data: np.array, target: np.array):\n",
    "        self.prior = self._get_prior(target)\n",
    "        self.n_class = len(self.prior)\n",
    "        self.avgs = self._get_avgs(data, target)\n",
    "        self.vars = self._get_vars(data, target)\n",
    "\n",
    "    def prodict_proba(self, data):\n",
    "        \"\"\" 先验概率乘以调整因子，得到后验概率 \"\"\"\n",
    "        factors = np.apply_along_axis(\n",
    "            lambda x: self._get_factor(x), axis=1, arr=data)\n",
    "        probs = self.prior * factors\n",
    "\n",
    "        # 归一化\n",
    "        probs_sum = probs.sum(axis=1)\n",
    "        return probs / probs_sum[:, None]\n",
    "\n",
    "    def prodict(self, data):\n",
    "        return self.prodict_proba(data).argmax(axis=1)\n",
    "    \n",
    "    def score(self, x_test, y_test):\n",
    "        y_pro = self.prodict(x_test)\n",
    "        return np.mean(y_pro == y_test)"
   ]
  },
  {
   "cell_type": "code",
   "execution_count": 6,
   "metadata": {},
   "outputs": [],
   "source": [
    "from sklearn.datasets import load_iris\n",
    "from sklearn.model_selection import train_test_split\n",
    "from matplotlib import pyplot as plt\n",
    "%matplotlib inline"
   ]
  },
  {
   "cell_type": "code",
   "execution_count": 7,
   "metadata": {},
   "outputs": [
    {
     "data": {
      "image/png": "[encoded data removed]",
      "text/plain": [
       "<Figure size 432x288 with 1 Axes>"
      ]
     },
     "metadata": {
      "needs_background": "light"
     },
     "output_type": "display_data"
    }
   ],
   "source": [
    "iris = load_iris()\n",
    "x = iris.data[:100, :2]\n",
    "y = iris.target[:100]\n",
    "x_train, x_test, y_train, y_test = train_test_split(\n",
    "    x, y, test_size=0.20, random_state=9)\n",
    "\n",
    "# 画图\n",
    "plt.scatter(x[:50, 0], x[:50, 1], label=iris.target_names[0])\n",
    "plt.scatter(x[50:100, 0], x[50:100, 1], label=iris.target_names[1])\n",
    "# plt.scatter(x[100:150, 0], x[100:150, 1], label=iris.target_names[2])\n",
    "plt.xlabel(iris.feature_names[0])\n",
    "plt.ylabel(iris.feature_names[1])\n",
    "plt.legend()\n",
    "plt.show()"
   ]
  },
  {
   "cell_type": "code",
   "execution_count": 22,
   "metadata": {},
   "outputs": [],
   "source": [
    "clf = GaussianNB()\n",
    "clf.fit(x_train, y_train)"
   ]
  },
  {
   "cell_type": "code",
   "execution_count": 13,
   "metadata": {},
   "outputs": [],
   "source": [
    "y_pro = clf.prodict(x_test)"
   ]
  },
  {
   "cell_type": "code",
   "execution_count": 24,
   "metadata": {},
   "outputs": [
    {
     "data": {
      "text/plain": [
       "0.975"
      ]
     },
     "execution_count": 24,
     "metadata": {},
     "output_type": "execute_result"
    }
   ],
   "source": [
    "clf.score(x_train, y_train)"
   ]
  },
  {
   "cell_type": "code",
   "execution_count": null,
   "metadata": {},
   "outputs": [],
   "source": []
  }
 ],
 "metadata": {
  "kernelspec": {
   "display_name": "Python 3",
   "language": "python",
   "name": "python3"
  },
  "language_info": {
   "codemirror_mode": {
    "name": "ipython",
    "version": 3
   },
   "file_extension": ".py",
   "mimetype": "text/x-python",
   "name": "python",
   "nbconvert_exporter": "python",
   "pygments_lexer": "ipython3",
   "version": "3.7.3"
  }
 },
 "nbformat": 4,
 "nbformat_minor": 4
}
