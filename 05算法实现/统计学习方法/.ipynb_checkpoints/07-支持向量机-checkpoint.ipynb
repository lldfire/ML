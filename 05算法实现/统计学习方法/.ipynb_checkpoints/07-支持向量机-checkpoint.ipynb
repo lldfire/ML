{
 "cells": [
  {
   "cell_type": "markdown",
   "metadata": {},
   "source": [
    "# 第7章 支持向量机\n",
    "## 线性可分支持向量机与硬间隔最大化\n",
    "- 函数间隔：\n",
    "$$\n",
    "\\hat \\gamma_i = y_i(w·x_i + b)\n",
    "$$\n",
    "- 几何间隔\n",
    "$$\\gamma_i = y_i\\left(\\frac{w}{||w||}·x_i + \\frac{b}{||w||} \\right)$$\n",
    "- 构建条件是数据线性可分，其学习策略是最大间隔法；可以表示为凸二次规划问题：\n",
    "$$min_{w, b} = \\frac{1}{2}||w||^2  \\\\\n",
    "s.t.\\;\\;y_i(w·x_i + b)-1 \\le 0,i=1, 2, ..., N\n",
    "$$\n",
    "求得最优解$w^*, b^*$\n",
    "- 由此可得分离超平面：\n",
    "$$\n",
    "w^* · x + b^*=0 \\\\\n",
    "$$\n",
    "分类决策函数\n",
    "$$\n",
    "f(x)=sign(w^* · x + b^*)\n",
    "$$"
   ]
  },
  {
   "cell_type": "code",
   "execution_count": 12,
   "metadata": {},
   "outputs": [],
   "source": [
    "import numpy as np\n",
    "import matplotlib.pyplot as plt\n",
    "from sklearn.datasets import load_iris"
   ]
  },
  {
   "cell_type": "code",
   "execution_count": 10,
   "metadata": {},
   "outputs": [],
   "source": [
    "# 生成测试数据\n",
    "iris = load_iris()\n",
    "X = iris.data[:100, :2]\n",
    "y = [-1 if i==0 else i for i in iris.target[:100]]\n",
    "features = iris.feature_names[:2]\n",
    "class_name = iris.target_names[:2]"
   ]
  },
  {
   "cell_type": "code",
   "execution_count": 19,
   "metadata": {},
   "outputs": [
    {
     "data": {
      "image/png": "[encoded data removed]",
      "text/plain": [
       "<Figure size 432x288 with 1 Axes>"
      ]
     },
     "metadata": {
      "needs_background": "light"
     },
     "output_type": "display_data"
    }
   ],
   "source": [
    "plt.scatter(X[:50, 0], X[:50, 1], label=class_name[0])\n",
    "plt.scatter(X[50:, 0], X[50:, 1], label=class_name[1])\n",
    "plt.legend()\n",
    "# plt.axis('off')\n",
    "plt.show()"
   ]
  },
  {
   "cell_type": "code",
   "execution_count": null,
   "metadata": {},
   "outputs": [],
   "source": [
    "class SVM:\n",
    "    def __init__(self):"
   ]
  },
  {
   "cell_type": "code",
   "execution_count": null,
   "metadata": {},
   "outputs": [],
   "source": []
  },
  {
   "cell_type": "code",
   "execution_count": null,
   "metadata": {},
   "outputs": [],
   "source": []
  },
  {
   "cell_type": "markdown",
   "metadata": {},
   "source": [
    "## 线性支持向量机与软间隔最大化"
   ]
  },
  {
   "cell_type": "markdown",
   "metadata": {},
   "source": [
    "## 非线性支持向量机与核技巧及软间隔最大化"
   ]
  },
  {
   "cell_type": "code",
   "execution_count": null,
   "metadata": {},
   "outputs": [],
   "source": []
  }
 ],
 "metadata": {
  "kernelspec": {
   "display_name": "Python 3",
   "language": "python",
   "name": "python3"
  },
  "language_info": {
   "codemirror_mode": {
    "name": "ipython",
    "version": 3
   },
   "file_extension": ".py",
   "mimetype": "text/x-python",
   "name": "python",
   "nbconvert_exporter": "python",
   "pygments_lexer": "ipython3",
   "version": "3.7.3"
  }
 },
 "nbformat": 4,
 "nbformat_minor": 4
}
