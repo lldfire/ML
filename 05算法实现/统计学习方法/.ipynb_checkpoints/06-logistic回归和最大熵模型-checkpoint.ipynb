{
 "cells": [
  {
   "cell_type": "markdown",
   "metadata": {},
   "source": [
    "# 第6章 逻辑斯蒂回归和最大熵模型\n",
    "## 逻辑斯蒂回归模型\n",
    "### 逻辑斯蒂分布\n",
    "- 定义：逻辑斯蒂分布：设X是连续的随机变量，X服从逻辑斯蒂分布是指X具有下列分布函数和密度函数：\n",
    "$$F(x)=P(X<=x)=\\frac{1}{1+e^{-\\frac{(x-\\mu)}{\\gamma}}}$$\n",
    "$$f(x)=F'(x)=\\frac{e^{-\\frac{(x-\\mu)}{\\gamma}}}{\\gamma \\left(1+e^{-\\frac{(x-\\mu)}{\\gamma}}\\right)^2}$$\n",
    "其中, $\\mu$为位置参数，$\\gamma>0$为形状参数\n",
    "\n",
    "### 二项逻辑斯蒂回归模型\n",
    "- 定义：具有如下条件概率分布的回归模型：\n",
    "$$P(Y=1|x)=\\frac{exp(w·x + b)}{1+exp(w·x + b)}$$\n",
    "$$p(Y=0|x)=\\frac{1}{1+exp(w·x + b)}$$\n",
    "其中，x是输入，Y是输出，w是权重，b是偏置\n",
    "\n",
    "### 模型参数估计\n",
    "- 使用极大似然估计法估计参数模型，采用梯度下降法优化参数\n",
    "设：$$P(Y=1|x)=\\pi(x), \\,\\, P(Y=0|x)=1 - \\pi(x)$$\n",
    "似然函数为：\n",
    "$$\\prod[\\pi(x_i)]^{y_i}[1-\\pi(x_i)]^{1-y_i}$$\n",
    "对数似然函数为：\n",
    "$$L(w)=\\sum_{i=1}^N[y_i(w·x_i)-log(1+exp((w·x_i))]$$\n",
    "求$L(w)$的极大值，即求$-L(w)$的极小值\n",
    "- 似然函数对w求偏导,然后使用梯度下降算法更新参数w\n",
    "\n",
    "### 多项逻辑斯蒂回归\n",
    "- 回归模型是：\n",
    "$$P(Y=k | x)=\\frac{\\exp \\left(w_{k} \\cdot x\\right)}{1+\\sum_{k=1}^{K-1} \\exp \\left(w_{k} \\cdot x\\right)}, \\quad k=1,2, \\cdots, K-1$$\n",
    "\n",
    "$$P(Y=K | x)=\\frac{1}{1+\\sum_{k=1}^{K-1} \\exp \\left(w_{k} \\cdot x\\right)}$$\n",
    "这里，$x$为输入特征，$w$为特征的权值。\n"
   ]
  },
  {
   "cell_type": "markdown",
   "metadata": {},
   "source": [
    "## logsitic 回归模型算法实现"
   ]
  },
  {
   "cell_type": "code",
   "execution_count": 2,
   "metadata": {},
   "outputs": [],
   "source": [
    "import numpy as np\n",
    "import matplotlib.pyplot as plt\n",
    "from sklearn.datasets import load_iris\n",
    "from sklearn.datasets import make_gaussian_quantiles\n",
    "from sklearn.model_selection import train_test_split\n",
    "\n",
    "%matplotlib inline"
   ]
  },
  {
   "cell_type": "code",
   "execution_count": 174,
   "metadata": {},
   "outputs": [],
   "source": [
    "x, y= make_gaussian_quantiles(n_samples=400, n_classes=2, n_features=2)\n",
    "x_train, x_test, y_train, y_test = train_test_split(x, y, test_size=0.2, random_state=9)"
   ]
  },
  {
   "cell_type": "code",
   "execution_count": 184,
   "metadata": {},
   "outputs": [],
   "source": [
    "# 构建测试数据集\n",
    "iris = load_iris()\n",
    "x_train = iris.data[:100, :2]\n",
    "y_train = iris.target[:100]"
   ]
  },
  {
   "cell_type": "code",
   "execution_count": 185,
   "metadata": {},
   "outputs": [
    {
     "data": {
      "text/plain": [
       "array([0, 0, 0, 0, 0, 0, 0, 0, 0, 0, 0, 0, 0, 0, 0, 0, 0, 0, 0, 0, 0, 0,\n",
       "       0, 0, 0, 0, 0, 0, 0, 0, 0, 0, 0, 0, 0, 0, 0, 0, 0, 0, 0, 0, 0, 0,\n",
       "       0, 0, 0, 0, 0, 0, 1, 1, 1, 1, 1, 1, 1, 1, 1, 1, 1, 1, 1, 1, 1, 1,\n",
       "       1, 1, 1, 1, 1, 1, 1, 1, 1, 1, 1, 1, 1, 1, 1, 1, 1, 1, 1, 1, 1, 1,\n",
       "       1, 1, 1, 1, 1, 1, 1, 1, 1, 1, 1, 1])"
      ]
     },
     "execution_count": 185,
     "metadata": {},
     "output_type": "execute_result"
    }
   ],
   "source": [
    "y_train"
   ]
  },
  {
   "cell_type": "code",
   "execution_count": 175,
   "metadata": {},
   "outputs": [],
   "source": [
    "# 以下代码未能实现\n",
    "class LogsiticRegressionClassfi:\n",
    "    def __init__(self, max_iter=200, learning_rate=0.01):\n",
    "        self.max_iter = max_iter\n",
    "        self.learning_rate = learning_rate\n",
    "    \n",
    "    def sigmoid(self, x):\n",
    "        return 1 / (1 + np.exp(-x))\n",
    "    \n",
    "    def data_mat(self, X):\n",
    "        data_mat = []\n",
    "        for data in X:\n",
    "            data_mat.append([1.0, *data])\n",
    "        return np.array(data_mat)\n",
    "    \n",
    "    def fit(self, X, y):\n",
    "        data = self.data_mat(X)\n",
    "        \n",
    "        # 初始化权重\n",
    "        self.weights = np.zeros((len(data[0]), 1), dtype=np.float32)\n",
    "        for iter_ in range(self.max_iter):\n",
    "            for i in range(len(data)):\n",
    "                result = self.sigmoid(np.dot(data[i], self.weights))\n",
    "                err = y[i] - result\n",
    "                self.weights += self.learning_rate * err * np.transpose(\n",
    "                    [data[i]])\n",
    "    \n",
    "    def predict(self, x_test):\n",
    "        data = self.data_mat(x_test)\n",
    "        result_list = []\n",
    "        for i in range(len(data)):\n",
    "            result = self.sigmoid(np.dot(data[i], self.weights))\n",
    "            result_list.append(result.tolist())\n",
    "        return result_list"
   ]
  },
  {
   "cell_type": "markdown",
   "metadata": {},
   "source": [
    "- 损失函数：\n",
    "$$L(w)=-\\frac{1}{N}\\sum_{i=1}^N[y_i(w·x_i)-log(1+exp((w·x_i))]$$\n",
    "- 梯度下降：\n",
    "$$\\theta_{j+1} = \\theta_j + \\alpha\\frac{1}{N}\\sum_{i=1}^N\\left(h_0(x_i) - y_i) * x_{ij} \\right)$$"
   ]
  },
  {
   "cell_type": "code",
   "execution_count": 176,
   "metadata": {},
   "outputs": [],
   "source": [
    "class LogsiticRegression:\n",
    "    \n",
    "    # 初始化变量\n",
    "    def __init__(self, learning_rate=0.1, max_iter=200, bais=True):\n",
    "        self.learning_rate = learning_rate\n",
    "        self.max_iter = max_iter\n",
    "        self.bais = bais\n",
    "    \n",
    "    # 定义sigmoid函数\n",
    "    def sigmoid(self, z):\n",
    "        return 1 / (1 + np.exp(-z))   # y = 0\n",
    "    \n",
    "    # 定义损失函数\n",
    "    def loss_func(self, x, y):\n",
    "        # y_hat - y\n",
    "        return self.sigmoid(x) - y\n",
    "    \n",
    "    def fit(self, x_train, y_train):\n",
    "        if self.bais:\n",
    "            x_train = np.insert(\n",
    "                x_train, 0, np.ones((len(x_train), ), dtype=np.float32), axis=1)\n",
    " \n",
    "        self.w = np.zeros((len(x_train[0]), ), dtype=np.float32)\n",
    "        for i in range(self.max_iter):\n",
    "            # 所有数据的预测结果\n",
    "            h = self.sigmoid(x_train.dot(self.w)).reshape(-1, )\n",
    "#             self.w += self.learning_rate * np.mean(\n",
    "#                 np.multiply(x_train.T,  (h - y_train)).T, axis=0)\n",
    "            for j in range(x_train.shape[1]):\n",
    "                self.w[j] += self.learning_rate * np.mean((h - y_train) * x_train[:, j])\n",
    "            # print(self.w)\n",
    "        \n",
    "#     def fit(self, x_train, y_train):\n",
    "#         if self.bais:\n",
    "#             x_train = np.insert(\n",
    "#                 x_train, 0, np.ones((len(x_train), ), dtype=np.float32), axis=1)\n",
    "#         self.w = np.zeros((len(x_train[0], )), dtype=np.float)\n",
    "        # 使用初始参数预测结果\n",
    "#         for i in range(self.max_iter):\n",
    "#             grad = np.mean(\n",
    "#                 [(self.sigmoid(np.dot(x, self.w)) - y) * x for x, y in\n",
    "#                  zip(x_train, y_train)], axis=0)\n",
    "#             # print(self.w)\n",
    "#             self.w += self.learning_rate * np.array(grad)\n",
    "#         n = 0\n",
    "#         while n <= self.max_iter:\n",
    "#             n += 1\n",
    "#             # loss = np.mean([self.loss_func(np.dot(x, self.w), y) for \n",
    "#             #                x, y in zip(x_train, y_train)])\n",
    "#             grad = np.mean(\n",
    "#                 [(self.sigmoid(np.dot(x, self.w)) - y) * x for x, y in\n",
    "#                  zip(x_train, y_train)], axis=0)\n",
    "#             self.w += self.learning_rate * grad\n",
    "            \n",
    "    def predict(self, x_test):\n",
    "        if self.bais:\n",
    "            x_test = np.insert(x_test, 0, np.ones((x_test.shape[0], )), axis=1)\n",
    "        hat = self.sigmoid(np.dot(x_test, self.w))\n",
    "        return [0 if h > 1 - h else 1 for h in hat]\n",
    "    \n",
    "    def score(self, x_test, y_test):\n",
    "        y_pre = np.array(self.predict(x_test))\n",
    "        return np.mean(y_pre == y_test)"
   ]
  },
  {
   "cell_type": "code",
   "execution_count": 192,
   "metadata": {},
   "outputs": [],
   "source": [
    "clf = LogsiticRegression(learning_rate=0.001, max_iter=4000)\n",
    "clf.fit(x_train, y_train)"
   ]
  },
  {
   "cell_type": "code",
   "execution_count": 193,
   "metadata": {},
   "outputs": [
    {
     "name": "stdout",
     "output_type": "stream",
     "text": [
      "0.5375\n"
     ]
    }
   ],
   "source": [
    "print(clf.score(x_test, y_test))"
   ]
  },
  {
   "cell_type": "code",
   "execution_count": 207,
   "metadata": {},
   "outputs": [],
   "source": [
    "def test(x1):\n",
    "    return (clf.w[2] * x1 + clf.w[0] - 0.5) / clf.w[1]"
   ]
  },
  {
   "cell_type": "code",
   "execution_count": 208,
   "metadata": {},
   "outputs": [],
   "source": [
    "x_ax = np.arange(3, 7, 0.5)\n",
    "y = [test(x) for x in x_ax]"
   ]
  },
  {
   "cell_type": "code",
   "execution_count": 209,
   "metadata": {},
   "outputs": [
    {
     "data": {
      "text/plain": [
       "[<matplotlib.lines.Line2D at 0x126a05c18>]"
      ]
     },
     "execution_count": 209,
     "metadata": {},
     "output_type": "execute_result"
    },
    {
     "data": {
      "image/png": "[encoded data removed]",
      "text/plain": [
       "<Figure size 432x288 with 1 Axes>"
      ]
     },
     "metadata": {},
     "output_type": "display_data"
    }
   ],
   "source": [
    "plt.figure(facecolor='w')\n",
    "plt.scatter(x_train[:100, 0], x_train[:100, 1], c=y_train[:100])\n",
    "plt.plot(x_ax, y)"
   ]
  },
  {
   "cell_type": "markdown",
   "metadata": {},
   "source": [
    "## 最大熵模型\n",
    "### 最大熵原理\n",
    "- 在所有可能的概率模型中，熵最大的模型是最好的模型，通常用约束条件来确定概率模型的集合。\n",
    "- 假设离散随机变量X的概率分布是$P(X)$,则其熵为：\n",
    "$$H(P) = -\\sum_xP(x)logP(x)$$\n",
    "熵满足下列不等式：\n",
    "$$0\\le H(P) \\le log|X|$$\n",
    "当数据集X属于均匀分布时，熵最大\n",
    "- 给定一个数据集$T=\\{(x_1,y_1), (x_2,y_2),...,(x_N,y_N) \\}$,则可以确定数据的联合分布$P(X,Y)$的经验分布和边缘分布，\n",
    "$$\n",
    "\\bar P(X=x, Y=y) = \\frac{v(X=x, Y=y)}{N}\\\\\n",
    "\\bar P(X=x) = \\frac{v(X=x)}{N}\n",
    "$$\n",
    "式中v表示其在训练数据集中的频率。\n",
    "### 最大熵模型的一般形式\n",
    "$$\n",
    "P_w(y|x)=\\frac{1}{Z_w(x)}exp\\left(\\sum_{i=1}^n w_i f_i(x, y)\\right) \\\\\n",
    "其中，Z_w(x) = \\sum_y exp\\left(\\sum_{i=1}^n w_i f_i(w,y\\right)\n",
    "$$\n",
    "### 优化算法\n",
    "- 改进的迭代尺度法\n",
    "- 拟牛顿法"
   ]
  },
  {
   "cell_type": "code",
   "execution_count": 1,
   "metadata": {},
   "outputs": [],
   "source": [
    "from copy import deepcopy\n"
   ]
  },
  {
   "cell_type": "code",
   "execution_count": 41,
   "metadata": {},
   "outputs": [],
   "source": [
    "class MaxEnt:\n",
    "    def __init__(self, EPS=0.005):\n",
    "        self._samples = []    # 样本数据集\n",
    "        self._Y = set()       # 标签集合，即所有可能的预测结果\n",
    "        self._numXY = {}      # key 为（x, y)  value 为统计次数\n",
    "        self._N = 0           # 样本数\n",
    "        self._Ep_ = []        # 样本分布的特征期望\n",
    "        self._xyID = {}       # key (x, y) value ID \n",
    "        self._n = 0           # （x, y） 的个数\n",
    "        self._C = 0           # 最大特征数\n",
    "        self._IDxy = {}\n",
    "        self._w = []\n",
    "        self._EPS = EPS       # 收敛条件\n",
    "        self._lastw = []      # 上一次收敛的参数值\n",
    "        \n",
    "    def loaddata(self, dataset):\n",
    "        self._samples = deepcopy(dataset)\n",
    "        # 统计每个特征对应的每个标签的数量\n",
    "        for items in self._samples:\n",
    "            y = items[0]\n",
    "            X = items[1:]\n",
    "            self._Y.add(y)\n",
    "            \n",
    "            for x in X:\n",
    "                if (x, y) in self._numXY:\n",
    "                    self._numXY[(x, y)] += 1\n",
    "                else:\n",
    "                    self._numXY[(x, y)] = 1\n",
    "        self._N = len(self._samples)    # 样本数量\n",
    "        self._n = len(self._numXY)      # （x, y）的数量\n",
    "        self._C = max([len(sam) -1 for sam in self._samples])   # 最大特征数\n",
    "        self._w = [0] * self._n\n",
    "        self._lastw = self._w[:]\n",
    "        \n",
    "        self._Ep_ = [0] * self._n       # 初始样本期望\n",
    "        for i, xy in enumerate(self._numXY):\n",
    "            self._Ep_[i] = self._numXY[xy] / self._N\n",
    "            self._xyID[xy] = i\n",
    "            self._IDxy[i] = xy\n",
    "\n",
    "    # 计算Zw(x)\n",
    "    def _Zx(self, X):\n",
    "        zx = 0\n",
    "        for y in self._Y:\n",
    "            ss = 0\n",
    "            for x in X:\n",
    "                if (x, y) in self._numXY:\n",
    "                    ss += self._w[self._xyID[(x, y)]]\n",
    "            zx += np.exp(ss)\n",
    "        return zx\n",
    "    \n",
    "    def _model_pyx(self, X, y):\n",
    "        zx = self._Zx(X)\n",
    "        ss = 0\n",
    "        for x in X:\n",
    "            if (x, y) in self._numXY:\n",
    "                ss += self._w[self._xyID[(x, y)]]\n",
    "        return np.exp(ss) /  zx\n",
    "    \n",
    "    def _model_ep(self, index):\n",
    "        \"\"\" 计算特征函数关于模型的期望 \"\"\"\n",
    "        x, y = self._IDxy[index]\n",
    "        ep = 0\n",
    "        for sam in self._samples:\n",
    "            if x not in sam:\n",
    "                continue\n",
    "            pyx = self._model_pyx(sam, y)\n",
    "            ep += pyx / self._N\n",
    "        return ep\n",
    "    \n",
    "    def predict(self, X):\n",
    "        Z = self._Zx(X)\n",
    "        result = {}\n",
    "        for y in self._Y:\n",
    "            ss = 0\n",
    "            for x in X:\n",
    "                if (x, y) in self._numXY:\n",
    "                    ss += self._w[self._xyID[(x, y)]]\n",
    "            pyx = np.exp(ss) / Z\n",
    "            result[y] = pyx\n",
    "            \n",
    "        return result\n",
    "    \n",
    "    def _convergence(self):  # 判断是否全部收敛\n",
    "        for last, now in zip(self._lastw, self._w):\n",
    "            if abs(last - now) >= self._EPS:\n",
    "                return False\n",
    "        return True\n",
    "    \n",
    "    def fit(self, maxiter=1000):\n",
    "        for loop in range(maxiter):\n",
    "            print('iter:%d' % loop)\n",
    "            self._lastw = self._w[:]\n",
    "            for i in range(self._n):\n",
    "                ep = self._model_ep(i)\n",
    "                self._w[i] += np.log(self._Ep_[i] / ep) / self._C\n",
    "            print('W:', self._w)\n",
    "            if self._convergence():\n",
    "                break\n",
    "    "
   ]
  },
  {
   "cell_type": "code",
   "execution_count": 37,
   "metadata": {},
   "outputs": [],
   "source": [
    "import math\n",
    "dataset = [['no', 'sunny', 'hot', 'high', 'FALSE'],\n",
    "           ['no', 'sunny', 'hot', 'high', 'TRUE'],\n",
    "           ['yes', 'overcast', 'hot', 'high', 'FALSE'],\n",
    "           ['yes', 'rainy', 'mild', 'high', 'FALSE'],\n",
    "           ['yes', 'rainy', 'cool', 'normal', 'FALSE'],\n",
    "           ['no', 'rainy', 'cool', 'normal', 'TRUE'],\n",
    "           ['yes', 'overcast', 'cool', 'normal', 'TRUE'],\n",
    "           ['no', 'sunny', 'mild', 'high', 'FALSE'],\n",
    "           ['yes', 'sunny', 'cool', 'normal', 'FALSE'],\n",
    "           ['yes', 'rainy', 'mild', 'normal', 'FALSE'],\n",
    "           ['yes', 'sunny', 'mild', 'normal', 'TRUE'],\n",
    "           ['yes', 'overcast', 'mild', 'high', 'TRUE'],\n",
    "           ['yes', 'overcast', 'hot', 'normal', 'FALSE'],\n",
    "           ['no', 'rainy', 'mild', 'high', 'TRUE']]"
   ]
  },
  {
   "cell_type": "code",
   "execution_count": null,
   "metadata": {},
   "outputs": [],
   "source": [
    "maxent = MaxEnt()\n",
    "x = ['overcast', 'mild', 'high', 'FALSE']\n",
    "\n",
    "maxent.loaddata(dataset)\n",
    "maxent.fit()"
   ]
  },
  {
   "cell_type": "code",
   "execution_count": 45,
   "metadata": {},
   "outputs": [
    {
     "data": {
      "text/plain": [
       "{'yes': 0.07988896764540589, 'no': 0.9201110323545941}"
      ]
     },
     "execution_count": 45,
     "metadata": {},
     "output_type": "execute_result"
    }
   ],
   "source": [
    "maxent.predict(['rainy', 'cool', 'normal', 'TRUE'])"
   ]
  },
  {
   "cell_type": "code",
   "execution_count": null,
   "metadata": {},
   "outputs": [],
   "source": []
  },
  {
   "cell_type": "code",
   "execution_count": null,
   "metadata": {},
   "outputs": [],
   "source": []
  }
 ],
 "metadata": {
  "kernelspec": {
   "display_name": "Python 3",
   "language": "python",
   "name": "python3"
  },
  "language_info": {
   "codemirror_mode": {
    "name": "ipython",
    "version": 3
   },
   "file_extension": ".py",
   "mimetype": "text/x-python",
   "name": "python",
   "nbconvert_exporter": "python",
   "pygments_lexer": "ipython3",
   "version": "3.7.3"
  }
 },
 "nbformat": 4,
 "nbformat_minor": 4
}
