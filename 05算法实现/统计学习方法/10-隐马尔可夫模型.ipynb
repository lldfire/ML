{
 "cells": [
  {
   "cell_type": "code",
   "execution_count": null,
   "metadata": {},
   "outputs": [],
   "source": [
    "import numpy as np"
   ]
  },
  {
   "cell_type": "markdown",
   "metadata": {},
   "source": [
    "### 概率求解：给定观测序列和模型参数计算观测序列出现的概率\n",
    "1. 前向算法：根据初值计算后一时刻观测值的概率\n",
    "    - 初值\n",
    "    $$\\alpha(i)=pi_ib_i(o_1), i=1,2,3,...N$$\n",
    "    - 递推 对t=1, 2, 3, ..., T - 1\n",
    "    $$\\alpha_{t+1} = \\left[\\sum_{j=1}^N \\alpha_t(j)a_{ji} \\right]b_i(o_{t+1}), i=1,2,...,N$$\n",
    "    - 终止\n",
    "    $$P(O|\\lambda) = \\sum_{i=1}^N \\alpha_T(i)$$"
   ]
  },
  {
   "cell_type": "code",
   "execution_count": null,
   "metadata": {},
   "outputs": [],
   "source": [
    "# 例 10.2（p200页）\n",
    "# 状态集合Q = {1, 2, 3},观测集合V={红，白} 0 1\n",
    "A = np.array([[0.5, 0.2, 0.3], [0.3, 0.5, 0.2], [0.2, 0.3, 0.5]])\n",
    "B = np.array([[0.5, 0.5], [0.4, 0.6], [0.7, 0.3]])\n",
    "Pi = np.array([0.2, 0.4, 0.4])\n",
    "V = ['红', '白']    # 观测值集合\n",
    "# 设T = 3，观测值O = {红 白 红}\n",
    "T = 3   # 时间\n",
    "N = 3   # 隐藏状态数量\n",
    "O = ['红', '白', '红', '白', '白']   # 观测值"
   ]
  },
  {
   "cell_type": "code",
   "execution_count": null,
   "metadata": {},
   "outputs": [],
   "source": [
    "# 1. 计算初值\n",
    "alpha1 = Pi * B[:, 0]   # 初始观测值为0时的概率\n",
    "\n",
    "# 2. 递推计算\n",
    "alpha2 = np.array([(alpha1 * A[:, i]).sum() * B[i, 1] for i in range(N)])\n",
    "alpha3 = np.array([(alpha2 * A[:, i]).sum() * B[i, 0] for i in range(N)])\n",
    "# alpha4 = np.array([(alpha3 * A[:, i]).sum() * B[i, 0] for i in range(N)])\n",
    "\n",
    "# 3. 终止\n",
    "result = alpha3.sum()\n",
    "print(alpha1)\n",
    "print(alpha2)\n",
    "print(alpha3)\n",
    "print(result)"
   ]
  },
  {
   "cell_type": "code",
   "execution_count": null,
   "metadata": {},
   "outputs": [],
   "source": [
    "# 封装函数\n",
    "def forward(obs, V, Pi, A, B):\n",
    "    \"\"\" 前向算法计算概率值，知道当前时刻观测值的概率，计算下一个时刻观测值的概率\"\"\"\n",
    "    T = len(obs)\n",
    "    N = len(Pi)\n",
    "    # 计算初值\n",
    "    alpha1 = Pi * B[:, 0]\n",
    "    # 递推计算\n",
    "    def cal_alpha(alpha, o):\n",
    "        return np.array([(alpha * A[:, i]).sum() * B[i, o] for i in range(N)])\n",
    "    \n",
    "    for j in obs[1:]:\n",
    "        o = V.index(j)\n",
    "        alpha = alpha1\n",
    "        alpha1 =  cal_alpha(alpha, o)\n",
    "    # 返回终值\n",
    "    return alpha1.sum()\n",
    "\n",
    "forward(O, V, Pi, A, B)"
   ]
  },
  {
   "cell_type": "markdown",
   "metadata": {},
   "source": [
    "2. 后向算法：根据最后时刻观测值的概率计算前一个时刻观测值的概率\n",
    "    - 初值\n",
    "    $$\\beta_T(i) = 1, i=1, 2, ..., N$$\n",
    "    - 对t=T-1, T-2, ...,1\n",
    "    $$\\beta_t(i)=\\sum_{j=1}^N a_{ij}b_j(o_{t+1}) \\beta_{t+1}(j), i=1, 2, ...,N$$\n",
    "    - 终值\n",
    "    $$P(O|\\lambda)=\\sum_{i=1}^N \\pi_i b_i(o_1) \\beta_1(i)$$"
   ]
  },
  {
   "cell_type": "code",
   "execution_count": null,
   "metadata": {},
   "outputs": [],
   "source": [
    "# 计算T时刻的不同状态下的概率\n",
    "beta3 = [1, 1, 1]     # 每列代表不同的状态\n",
    "# 求T-1，即2时刻的概率,状态1,\n",
    "beta2 = np.array([(A[i, :] * B[:, 0] * beta3).sum() for i in range(N)])\n",
    "beta1 = np.array([(A[i, :] * B[:, 1] * beta2).sum() for i in range(N)])\n",
    "# 求终值\n",
    "p = (Pi * B[:, 0] * beta1).sum()\n",
    "print(p)"
   ]
  },
  {
   "cell_type": "code",
   "execution_count": null,
   "metadata": {},
   "outputs": [],
   "source": [
    "def backward(obs, V, Pi, A, B):\n",
    "    \"\"\" 后向算法 \"\"\"\n",
    "    # 得到相关参数\n",
    "    T = len(obs)\n",
    "    N = len(Pi)\n",
    "    \n",
    "    # 最终时刻的概率\n",
    "    last_beta = np.ones((3, ))\n",
    "    def  cal_result(beta, o):\n",
    "        return np.array([(A[i, :] * B[:, o] * beta).sum() for i in range(N)])\n",
    "    \n",
    "    for j in obs[::-1][:-1]:\n",
    "        o = V.index(j)    # t+1时刻的状态值\n",
    "        beta = last_beta\n",
    "        last_beta = cal_result(beta, o)\n",
    "    return (Pi * B[:, 0] * last_beta).sum()\n",
    "\n",
    "print(backward(O, V, Pi, A, B))"
   ]
  },
  {
   "cell_type": "markdown",
   "metadata": {},
   "source": [
    "### 预测算法：又称解码算法，即给定观测序列，求解最可能的状态序列\n",
    "1. 近似算法：在每个时刻选择在该时刻最可能出现的状态，从而得到一个状态序列作为结果\n",
    "2. 维特比算法：用动态规划求解最有路径\n",
    "    - 初始化：\n",
    "    $$\\delta_1(i) = \\pi_i * b_i(o_1), \\;\\;i=1, 2, ..., N$$\n",
    "    $$\\Psi_1(i) = 0,\\;\\; i=1, 2, ..., N$$\n",
    "    - 递推。对t=2, 3, ..., T\n",
    "    $$\\delta = \\mathop{max}\\limits_{1\\leq j \\leq N} [\\delta_{t-1}(j) a_{ji}]b_i(o_t),\\;i=1,2,...,N$$\n",
    "    $$\\Psi(i)=arg \\mathop{max}\\limits_{1\\leq j \\leq N}[\\delta_{t-1}(j)a_{ji}],\\; i=1,2,...,N$$\n",
    "    - 终止\n",
    "    $$P^* = \\mathop{max}\\limits_{1\\leq j \\leq N} \\delta_T(i)$$\n",
    "    $$i_T^* = arg \\mathop{max}\\limits_{1\\leq j \\leq N}[\\delta_T(i)]$$\n",
    "    - 最优路径回溯，对t=T-1,T-2,..., 1\n",
    "    $$i_t^* = \\Psi_{t+1}(i_{t+1}^*)$$\n",
    "    最优路径$I^* = (i_1^*,\\; i_2^*, \\;..., \\;i_T^*)$"
   ]
  },
  {
   "cell_type": "code",
   "execution_count": null,
   "metadata": {},
   "outputs": [],
   "source": [
    "# 例 10.3（P210)\n"
   ]
  },
  {
   "cell_type": "code",
   "execution_count": null,
   "metadata": {},
   "outputs": [],
   "source": []
  }
 ],
 "metadata": {
  "kernelspec": {
   "display_name": "Python 3",
   "language": "python",
   "name": "python3"
  },
  "language_info": {
   "codemirror_mode": {
    "name": "ipython",
    "version": 3
   },
   "file_extension": ".py",
   "mimetype": "text/x-python",
   "name": "python",
   "nbconvert_exporter": "python",
   "pygments_lexer": "ipython3",
   "version": "3.7.3"
  }
 },
 "nbformat": 4,
 "nbformat_minor": 4
}
