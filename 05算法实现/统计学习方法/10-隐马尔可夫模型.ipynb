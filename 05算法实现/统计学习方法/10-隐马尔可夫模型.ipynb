{
 "cells": [
  {
   "cell_type": "code",
   "execution_count": null,
   "metadata": {},
   "outputs": [],
   "source": [
    "import numpy as np"
   ]
  },
  {
   "cell_type": "markdown",
   "metadata": {},
   "source": [
    "### 概率求解：给定观测序列和模型参数计算观测序列出现的概率\n",
    "1. 前向算法：根据初值计算后一时刻观测值的概率\n",
    "    - 初值\n",
    "    $$\\alpha(i)=pi_ib_i(o_1), i=1,2,3,...N$$\n",
    "    - 递推 对t=1, 2, 3, ..., T - 1\n",
    "    $$\\alpha_{t+1} = \\left[\\sum_{j=1}^N \\alpha_t(j)a_{ji} \\right]b_i(o_{t+1}), i=1,2,...,N$$\n",
    "    - 终止\n",
    "    $$P(O|\\lambda) = \\sum_{i=1}^N \\alpha_T(i)$$"
   ]
  },
  {
   "cell_type": "code",
   "execution_count": 125,
   "metadata": {},
   "outputs": [],
   "source": [
    "# 例 10.2（p200页）\n",
    "# 状态集合Q = {1, 2, 3},观测集合V={红，白} 0 1\n",
    "Q = [1, 2, 3]\n",
    "A = np.array([[0.5, 0.2, 0.3], [0.3, 0.5, 0.2], [0.2, 0.3, 0.5]])\n",
    "B = np.array([[0.5, 0.5], [0.4, 0.6], [0.7, 0.3]])\n",
    "Pi = np.array([0.2, 0.4, 0.4])\n",
    "V = ['红', '白']    # 观测值集合\n",
    "# 设T = 3，观测值O = {红 白 红}\n",
    "T = 3   # 时间\n",
    "N = 3   # 隐藏状态数量\n",
    "O = ['红', '白', '红']   # 观测值"
   ]
  },
  {
   "cell_type": "code",
   "execution_count": null,
   "metadata": {},
   "outputs": [],
   "source": [
    "# 1. 计算初值\n",
    "alpha1 = Pi * B[:, 0]   # 初始观测值为0时的概率\n",
    "\n",
    "# 2. 递推计算\n",
    "alpha2 = np.array([(alpha1 * A[:, i]).sum() * B[i, 1] for i in range(N)])\n",
    "alpha3 = np.array([(alpha2 * A[:, i]).sum() * B[i, 0] for i in range(N)])\n",
    "# alpha4 = np.array([(alpha3 * A[:, i]).sum() * B[i, 0] for i in range(N)])\n",
    "\n",
    "# 3. 终止\n",
    "result = alpha3.sum()\n",
    "print(alpha1)\n",
    "print(alpha2)\n",
    "print(alpha3)\n",
    "print(result)"
   ]
  },
  {
   "cell_type": "code",
   "execution_count": null,
   "metadata": {},
   "outputs": [],
   "source": [
    "# 封装函数\n",
    "def forward(obs, V, Pi, A, B):\n",
    "    \"\"\" 前向算法计算概率值，知道当前时刻观测值的概率，计算下一个时刻观测值的概率\"\"\"\n",
    "    T = len(obs)\n",
    "    N = len(Pi)\n",
    "    # 计算初值\n",
    "    alpha1 = Pi * B[:, 0]\n",
    "    # 递推计算\n",
    "    def cal_alpha(alpha, o):\n",
    "        return np.array([(alpha * A[:, i]).sum() * B[i, o] for i in range(N)])\n",
    "    \n",
    "    for j in obs[1:]:\n",
    "        o = V.index(j)\n",
    "        alpha = alpha1\n",
    "        alpha1 =  cal_alpha(alpha, o)\n",
    "    # 返回终值\n",
    "    return alpha1.sum()\n",
    "\n",
    "forward(O, V, Pi, A, B)"
   ]
  },
  {
   "cell_type": "markdown",
   "metadata": {},
   "source": [
    "2. 后向算法：根据最后时刻观测值的概率计算前一个时刻观测值的概率\n",
    "    - 初值\n",
    "    $$\\beta_T(i) = 1, i=1, 2, ..., N$$\n",
    "    - 对t=T-1, T-2, ...,1\n",
    "    $$\\beta_t(i)=\\sum_{j=1}^N a_{ij}b_j(o_{t+1}) \\beta_{t+1}(j), i=1, 2, ...,N$$\n",
    "    - 终值\n",
    "    $$P(O|\\lambda)=\\sum_{i=1}^N \\pi_i b_i(o_1) \\beta_1(i)$$"
   ]
  },
  {
   "cell_type": "code",
   "execution_count": null,
   "metadata": {},
   "outputs": [],
   "source": [
    "# 计算T时刻的不同状态下的概率\n",
    "beta3 = [1, 1, 1]     # 每列代表不同的状态\n",
    "# 求T-1，即2时刻的概率,状态1,\n",
    "beta2 = np.array([(A[i, :] * B[:, 0] * beta3).sum() for i in range(N)])\n",
    "beta1 = np.array([(A[i, :] * B[:, 1] * beta2).sum() for i in range(N)])\n",
    "# 求终值\n",
    "p = (Pi * B[:, 0] * beta1).sum()\n",
    "print(p)"
   ]
  },
  {
   "cell_type": "code",
   "execution_count": null,
   "metadata": {},
   "outputs": [],
   "source": [
    "def backward(obs, V, Pi, A, B):\n",
    "    \"\"\" 后向算法 \"\"\"\n",
    "    # 得到相关参数\n",
    "    T = len(obs)\n",
    "    N = len(Pi)\n",
    "    \n",
    "    # 最终时刻的概率\n",
    "    last_beta = np.ones((3, ))\n",
    "    def  cal_result(beta, o):\n",
    "        return np.array([(A[i, :] * B[:, o] * beta).sum() for i in range(N)])\n",
    "    \n",
    "    for j in obs[::-1][:-1]:\n",
    "        o = V.index(j)    # t+1时刻的状态值\n",
    "        beta = last_beta\n",
    "        last_beta = cal_result(beta, o)\n",
    "    return (Pi * B[:, 0] * last_beta).sum()\n",
    "\n",
    "print(backward(O, V, Pi, A, B))"
   ]
  },
  {
   "cell_type": "markdown",
   "metadata": {},
   "source": [
    "---"
   ]
  },
  {
   "cell_type": "markdown",
   "metadata": {},
   "source": [
    "### 预测算法：又称解码算法，即给定观测序列，求解最可能的状态序列\n",
    "1. 近似算法：在每个时刻选择在该时刻最可能出现的状态，从而得到一个状态序列作为结果\n",
    "2. 维特比算法：用动态规划求解最有路径\n",
    "    - 初始化：\n",
    "    $$\\delta_1(i) = \\pi_i * b_i(o_1), \\;\\;i=1, 2, ..., N$$\n",
    "    $$\\Psi_1(i) = 0,\\;\\; i=1, 2, ..., N$$\n",
    "    - 递推。对t=2, 3, ..., T\n",
    "    $$\\delta = \\mathop{max}\\limits_{1\\leq j \\leq N} [\\delta_{t-1}(j) a_{ji}]b_i(o_t),\\;i=1,2,...,N$$\n",
    "    $$\\Psi(i)=arg \\mathop{max}\\limits_{1\\leq j \\leq N}[\\delta_{t-1}(j)a_{ji}],\\; i=1,2,...,N$$\n",
    "    - 终止\n",
    "    $$P^* = \\mathop{max}\\limits_{1\\leq j \\leq N} \\delta_T(i)$$\n",
    "    $$i_T^* = arg \\mathop{max}\\limits_{1\\leq j \\leq N}[\\delta_T(i)]$$\n",
    "    - 最优路径回溯，对t=T-1,T-2,..., 1\n",
    "    $$i_t^* = \\Psi_{t+1}(i_{t+1}^*)$$\n",
    "    最优路径$I^* = (i_1^*,\\; i_2^*, \\;..., \\;i_T^*)$"
   ]
  },
  {
   "cell_type": "code",
   "execution_count": 123,
   "metadata": {},
   "outputs": [],
   "source": [
    "# 例 10.3（P210)\n",
    "# 1.初始值\n",
    "idx_o = V.index(O[0])\n",
    "delta1 = Pi * B[:, idx_o]    # 初始状态分布概率乘以观测值发射概率\n",
    "psi1 = np.zeros((3, ))    # 状态集合\n",
    "\n",
    "# 2. t=2时，\n",
    "idx_o2 = V.index(O[1])\n",
    "delta2 = np.array([(delta1 * A[:, i]).max() * B[i, idx_o2] for i in range(N)])\n",
    "psi2 = np.array([np.argmax((delta1 * A[:, i]) * B[i, idx_o2]) for i in range(N)])\n",
    "\n",
    "# t = 3 时\n",
    "idx_o3 = V.index(O[2])\n",
    "delta3 = np.array([(delta2 * A[:, i]).max() * B[i, idx_o3] for i in range(N)])\n",
    "psi3 = np.array([np.argmax((delta2 * A[:, i]) * B[i, idx_o3]) for i in range(N)])\n",
    "\n",
    "# 3. 最优路径的概率\n",
    "P = delta3.max()\n",
    "i3 = np.argmax(delta3)    # 最优路径终点\n",
    "\n",
    "# 回溯最优路径\n",
    "i2 = psi3[i3]\n",
    "i1 = psi2[i2]\n",
    "I = (i1, i2, i3)"
   ]
  },
  {
   "cell_type": "code",
   "execution_count": 206,
   "metadata": {},
   "outputs": [],
   "source": [
    "def viterbit(obs, Q, V, Pi, A, B):\n",
    "    # 构建一个行为状态数，列为观测值数的矩阵\n",
    "    N = len(Q)\n",
    "    F = np.zeros((N, len(obs)))\n",
    "    P = np.zeros((N, len(obs)))\n",
    "    \n",
    "    # 计算初始值\n",
    "    F[:, 0] = Pi * B[:, V.index(obs[0])]\n",
    "    \n",
    "    # 计算其他值\n",
    "    for j, o in enumerate(obs[1:], 1):\n",
    "        idx = V.index(o)\n",
    "        F[:, j] = np.array([(F[:, j - 1] * A[:, i] * B[i, idx]).max() for i in range(N)])\n",
    "        P[:, j] = np.array([(F[:, j - 1] * A[:, i] * B[i, idx]).argmax() for i in range(N)])\n",
    "    \n",
    "    i = F[:, -1].argmax()    # 终点的最优路径\n",
    "    I = [i]\n",
    "    for l in range(len(obs) - 1, 0, -1):\n",
    "        i = int(P[:, l][i])\n",
    "        I.append(i)\n",
    "    return [Q[i] for i in I[::-1]]"
   ]
  },
  {
   "cell_type": "code",
   "execution_count": 207,
   "metadata": {},
   "outputs": [
    {
     "data": {
      "text/plain": [
       "[2, 2, 3, 3, 3, 2]"
      ]
     },
     "execution_count": 207,
     "metadata": {},
     "output_type": "execute_result"
    }
   ],
   "source": [
    "O1 = [\"白\", \"白\", \"红\", \"红\", '红', '白']\n",
    "viterbit(O1, Q, V, Pi, A, B)"
   ]
  },
  {
   "cell_type": "code",
   "execution_count": 150,
   "metadata": {},
   "outputs": [],
   "source": [
    "from hmmlearn import hmm"
   ]
  },
  {
   "cell_type": "code",
   "execution_count": 156,
   "metadata": {},
   "outputs": [],
   "source": [
    "model = hmm.MultinomialHMM(n_components=len(Q))\n",
    "model.startprob_ = Pi\n",
    "model.transmat_ = A\n",
    "model.emissionprob_ = B"
   ]
  },
  {
   "cell_type": "code",
   "execution_count": 204,
   "metadata": {},
   "outputs": [
    {
     "data": {
      "text/plain": [
       "(-8.411644693428197, array([1, 1, 2, 2, 2, 1]))"
      ]
     },
     "execution_count": 204,
     "metadata": {},
     "output_type": "execute_result"
    }
   ],
   "source": [
    "O = np.array([[1, 1, 0, 0, 0, 1]]).T\n",
    "model.decode(O)"
   ]
  },
  {
   "cell_type": "markdown",
   "metadata": {},
   "source": [
    "---"
   ]
  },
  {
   "cell_type": "markdown",
   "metadata": {},
   "source": [
    "### 学习算法：已知观测序列，估计模型的参数A，B，Pi。\n",
    "- 包含观测序列和对应的状态序列：有监督学习。\n",
    "- 仅包含观测序列：无监督学习\n",
    "\n",
    "#### 监督学习方法\n",
    "设训练数据包含S个长度相同的观测序列和对应的状态序列$\\{(O_1, I_1),(O_2, I_2),...,(O_s, I_s)\\}$,分词算法所使用的方法\n",
    "\n",
    "#### 无监督学习（Baum-Wwlch算法)：E步求期望，M步求极大化\n",
    "设训练数据包含S个长度为T的的观测序列$\\{O_1,O_2,...,O_s\\}$，求HMM模型的参数\n",
    "1. 确定完全数据的对数似然函数是$\\log P(O, I, \\lambda)$\n",
    "2. 算法实现步骤\n",
    "    - 输入：观测数据$O = (o_1, o_2, ..., o_T)$\n",
    "    - 输出：隐马尔可夫模型参数$\\lambda$.\n",
    "    - (1) 初始化。对n=0,选取$a_{ij}^{(0)}，b_j(k)^{(0)}，\\pi_i^{(0)},得到模型\\lambda^(0)=(A^{(0)}, b^{(0)}, \\pi ^{(0)})$\n",
    "    - (2) 递推。对n=1,2,...\n",
    "    $$a_{ij}^{n+1} = \\frac{\\sum_{t=1}^{T-1} \\xi_t(i, j)}{\\sum_{t=1}^{T-1} \\gamma_t(i)} $$\n",
    "    $$b_j(k)^{n+1} = \\frac{\\sum_{t=1,o_t=\\nu_k} \\gamma_t{j}}{\\sum_{t=1}^T \\gamma_t(j)} \\\\$$\n",
    "    $$\\pi_i^{n+1} = \\gamma_1(i)$$\n",
    "    其中：\n",
    "    $$\\gamma_t(i)= \\frac{\\alpha_t(i)\\beta_t(i)}{\\sum_{j=1}^N \\alpha_t(j)\\beta_t(j)}\\\\ $$\n",
    "    $$\\xi_t(i, j) = \\frac{\\alpha_t(i)\\alpha_{ij}b_j(o_{t+1})\\beta_{t+1}(j) }{\\sum_{i=1}^N \\sum_{j=1}^N \\alpha_t(i)\\alpha_{ij}b_j(o_{t+1})\\beta_{t+1}(j)}$$"
   ]
  },
  {
   "cell_type": "code",
   "execution_count": null,
   "metadata": {},
   "outputs": [],
   "source": []
  }
 ],
 "metadata": {
  "kernelspec": {
   "display_name": "Python 3",
   "language": "python",
   "name": "python3"
  },
  "language_info": {
   "codemirror_mode": {
    "name": "ipython",
    "version": 3
   },
   "file_extension": ".py",
   "mimetype": "text/x-python",
   "name": "python",
   "nbconvert_exporter": "python",
   "pygments_lexer": "ipython3",
   "version": "3.7.3"
  }
 },
 "nbformat": 4,
 "nbformat_minor": 4
}
