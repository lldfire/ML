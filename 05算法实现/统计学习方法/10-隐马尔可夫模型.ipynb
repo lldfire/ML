{
 "cells": [
  {
   "cell_type": "code",
   "execution_count": 2,
   "metadata": {},
   "outputs": [],
   "source": [
    "import numpy as np"
   ]
  },
  {
   "cell_type": "markdown",
   "metadata": {},
   "source": [
    "### 概率求解：给定观测序列和模型参数计算观测序列出现的概率\n",
    "1. 前向算法\n",
    "    - 初值\n",
    "    $$\\alpha(i)=pi_ib_i(o_1), i=1,2,3,...N$$\n",
    "    - 递推 对t=1, 2, 3, ..., T - 1\n",
    "    $$\\alpha_{t+1} = \\left[\\sum_{j=1}^N \\alpha_t(j)a_{ji} \\right]b_i(o_{t+1}), i=1,2,...,N$$\n",
    "    - 终止\n",
    "    $$P(O|\\lambda) = \\sum_{i=1}^N \\alpha_T(i)$$"
   ]
  },
  {
   "cell_type": "code",
   "execution_count": 34,
   "metadata": {},
   "outputs": [
    {
     "name": "stdout",
     "output_type": "stream",
     "text": [
      "[0.1  0.16 0.28]\n",
      "[0.077  0.1104 0.0606]\n",
      "[0.04187  0.035512 0.052836]\n",
      "0.0701272\n"
     ]
    }
   ],
   "source": [
    "# 例 10.2（p200页）\n",
    "# 状态集合Q = {1, 2, 3},观测集合V={红，白} 0 1\n",
    "A = np.array([[0.5, 0.2, 0.3], [0.3, 0.5, 0.2], [0.2, 0.3, 0.5]])\n",
    "B = np.array([[0.5, 0.5], [0.4, 0.6], [0.7, 0.3]])\n",
    "Pi = np.array([0.2, 0.4, 0.4])\n",
    "V = ['红', '白']    # 观测值集合\n",
    "# 设T = 3，观测值O = {红 白 红}\n",
    "T = 3   # 时间\n",
    "N = 3   # 隐藏状态数量\n",
    "O = ['红', '白', '红', '红']   # 观测值\n",
    "# 1. 计算初值\n",
    "alpha1 = Pi * B[:, 0]\n",
    "\n",
    "# 2. 递推计算\n",
    "alpha2 = np.array([(alpha1 * A[:, i]).sum() * B[i, 1] for i in range(N)])\n",
    "alpha3 = np.array([(alpha2 * A[:, i]).sum() * B[i, 0] for i in range(N)])\n",
    "alpha4 = np.array([(alpha3 * A[:, i]).sum() * B[i, 0] for i in range(N)])\n",
    "\n",
    "# 3. 终止\n",
    "result = alpha4.sum()\n",
    "print(alpha1)\n",
    "print(alpha2)\n",
    "print(alpha3)\n",
    "print(result)"
   ]
  },
  {
   "cell_type": "code",
   "execution_count": 40,
   "metadata": {},
   "outputs": [
    {
     "data": {
      "text/plain": [
       "0.0701272"
      ]
     },
     "execution_count": 40,
     "metadata": {},
     "output_type": "execute_result"
    }
   ],
   "source": [
    "# 封装函数\n",
    "def forward(obs, V, Pi, A, B):\n",
    "    N = len(Pi)\n",
    "    # 计算初值\n",
    "    alpha1 = Pi * B[:, 0]\n",
    "    # 递推计算\n",
    "    def cal_alpha(alpha, o):\n",
    "        return np.array([(alpha * A[:, i]).sum() * B[i, o] for i in range(N)])\n",
    "    \n",
    "    for j in obs[1:]:\n",
    "        o = obs.index(j)\n",
    "        alpha = alpha1\n",
    "        alpha1 =  cal_alpha(alpha, o)\n",
    "    # 返回终值\n",
    "    return alpha1.sum()\n",
    "\n",
    "forward(O, V, Pi, A, B)"
   ]
  },
  {
   "cell_type": "markdown",
   "metadata": {},
   "source": [
    "2. 后向算法"
   ]
  },
  {
   "cell_type": "code",
   "execution_count": 18,
   "metadata": {},
   "outputs": [
    {
     "data": {
      "text/plain": [
       "0"
      ]
     },
     "execution_count": 18,
     "metadata": {},
     "output_type": "execute_result"
    }
   ],
   "source": [
    "a = ['a', 'b']\n",
    "a.index('a')"
   ]
  },
  {
   "cell_type": "code",
   "execution_count": null,
   "metadata": {},
   "outputs": [],
   "source": []
  }
 ],
 "metadata": {
  "kernelspec": {
   "display_name": "Python 3",
   "language": "python",
   "name": "python3"
  },
  "language_info": {
   "codemirror_mode": {
    "name": "ipython",
    "version": 3
   },
   "file_extension": ".py",
   "mimetype": "text/x-python",
   "name": "python",
   "nbconvert_exporter": "python",
   "pygments_lexer": "ipython3",
   "version": "3.7.3"
  }
 },
 "nbformat": 4,
 "nbformat_minor": 4
}
