{
 "cells": [
  {
   "cell_type": "markdown",
   "metadata": {},
   "source": [
    "### 假设随机变量x1,x2,x3……xn,独立同分布，且具有有限的期望和方差，则随机变量服从正态分布"
   ]
  },
  {
   "cell_type": "code",
   "execution_count": 1,
   "metadata": {},
   "outputs": [],
   "source": [
    "import random\n",
    "import pandas as pd\n",
    "import numpy as np\n",
    "import matplotlib.pyplot as plt"
   ]
  },
  {
   "cell_type": "code",
   "execution_count": 2,
   "metadata": {},
   "outputs": [],
   "source": [
    "def genrate_random_int():\n",
    "    \"\"\"随机生成1-6的数字，代表骰子的6面\"\"\"\n",
    "    return random.randint(1, 6)"
   ]
  },
  {
   "cell_type": "code",
   "execution_count": 3,
   "metadata": {},
   "outputs": [],
   "source": [
    "def genrate_mean(n):\n",
    "    \"\"\"计算n此结果的和的结果\"\"\"\n",
    "    return np.sum([genrate_random_int() for i in range(n)])"
   ]
  },
  {
   "cell_type": "code",
   "execution_count": 16,
   "metadata": {},
   "outputs": [
    {
     "data": {
      "text/plain": [
       "9"
      ]
     },
     "execution_count": 16,
     "metadata": {},
     "output_type": "execute_result"
    }
   ],
   "source": [
    "genrate_mean(3)"
   ]
  },
  {
   "cell_type": "code",
   "execution_count": 21,
   "metadata": {},
   "outputs": [
    {
     "data": {
      "image/png": "[encoded data removed]",
      "text/plain": [
       "<Figure size 432x288 with 1 Axes>"
      ]
     },
     "metadata": {
      "needs_background": "light"
     },
     "output_type": "display_data"
    }
   ],
   "source": [
    "if __name__ == '__main__':\n",
    "    num1 = 1000000   # 事件A次数\n",
    "    num = 3     # 每次事件A发生时，置骰子次数\n",
    "    \n",
    "    # 进行事件操作\n",
    "    keys = [genrate_mean(num) for i in range(num1)]\n",
    "    result = {}\n",
    "    for key in keys:\n",
    "        count = 1\n",
    "        if key in result:\n",
    "            count += result[key]\n",
    "        result[key] = count\n",
    "        \n",
    "    # 获取x 和 y\n",
    "    x = sorted(np.unique(list(result.keys())))\n",
    "    y = []\n",
    "    for k in x:\n",
    "        y.append(result[k] / num1)\n",
    "        \n",
    "    plt.plot(x, y, color='r')\n",
    "    plt.grid(True)\n",
    "    plt.xlim(2, 19)\n",
    "    plt.show()"
   ]
  },
  {
   "cell_type": "code",
   "execution_count": null,
   "metadata": {},
   "outputs": [],
   "source": []
  }
 ],
 "metadata": {
  "kernelspec": {
   "display_name": "Python 3",
   "language": "python",
   "name": "python3"
  },
  "language_info": {
   "codemirror_mode": {
    "name": "ipython",
    "version": 3
   },
   "file_extension": ".py",
   "mimetype": "text/x-python",
   "name": "python",
   "nbconvert_exporter": "python",
   "pygments_lexer": "ipython3",
   "version": "3.7.1"
  }
 },
 "nbformat": 4,
 "nbformat_minor": 2
}
