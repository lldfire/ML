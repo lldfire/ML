{
 "cells": [
  {
   "cell_type": "markdown",
   "metadata": {},
   "source": [
    "## 特征预处理，通过转换函数将特征数据转换为更适合算法处理的特征数据\n",
    "    1、归一化：\n",
    "    2、标准化：\n",
    "    目的：使特征数据达到无量纲化，使不同数据达到统一规格，\n",
    "    用于：特征的单位和大小相差较大，或者某个特征的方差相比其他的特征要大出几个数量级，容易支配或影响到目标结果，使得算法影响到其他特征数据的学习结果。"
   ]
  },
  {
   "cell_type": "markdown",
   "metadata": {},
   "source": [
    "### 归一化\n",
    "    通过对原始数据进行变换，把数据映射到某个区间内，默认为（0，1）\n",
    "    计算公式：\n",
    "    x1 = (x - min)/(max - min)\n",
    "    x2 = x1 * (mx - mi) + mi\n",
    "    x2 -- 目标值\n",
    "    x -- 特征值，\n",
    "    min -- 该特征的最小值\n",
    "    max -- 该特征的最大值\n",
    "    mx, mi -- 需要映射的区间"
   ]
  },
  {
   "cell_type": "markdown",
   "metadata": {},
   "source": [
    "## sklearn中的数据归一化处理\n",
    "    sklearn.preprocessing.MinMaxScaler\n",
    "    接受一个二维数组 numpy_array，样本数的行数，特征数的列数\n",
    "    返回一个相同形状的数组\n",
    "    会受到缺失值的影响，适合小规模较精确的数据"
   ]
  },
  {
   "cell_type": "code",
   "execution_count": 3,
   "metadata": {},
   "outputs": [],
   "source": [
    "from sklearn.preprocessing import MinMaxScaler\n",
    "import numpy as np"
   ]
  },
  {
   "cell_type": "code",
   "execution_count": 15,
   "metadata": {},
   "outputs": [],
   "source": [
    "data = np.array(\n",
    "    [[43231, 7.31, 1.4],\n",
    "    [23124, 5.61, 2.3],\n",
    "    [14232, 12.43, 2.1],\n",
    "    [42342, 10.31, 0.8],\n",
    "    [12312, 11.33, 0.7]]\n",
    ")"
   ]
  },
  {
   "cell_type": "code",
   "execution_count": 17,
   "metadata": {},
   "outputs": [
    {
     "name": "stdout",
     "output_type": "stream",
     "text": [
      "[[10.          3.24340176  4.9375    ]\n",
      " [ 4.14719105  1.         10.        ]\n",
      " [ 1.55887965 10.          8.875     ]\n",
      " [ 9.74122708  7.20234604  1.5625    ]\n",
      " [ 1.          8.5483871   1.        ]]\n"
     ]
    }
   ],
   "source": [
    "# 默认区间是0，1， 可通过feature_range修改\n",
    "transfer = MinMaxScaler(feature_range=[1, 10])\n",
    "new_data = transfer.fit_transform(data)\n",
    "print(new_data)"
   ]
  },
  {
   "cell_type": "markdown",
   "metadata": {},
   "source": [
    "## 标准化\n",
    "    将原始数据进行变化，将数据变化到均值为0，标准差为1的\n",
    "    公式：\n",
    "    (x - mean)/std(标准差）\n",
    "    如果出现异常点，在数据量较大时不会有太大影响,\n",
    "    应用场景："
   ]
  },
  {
   "cell_type": "code",
   "execution_count": 18,
   "metadata": {},
   "outputs": [],
   "source": [
    "from sklearn.preprocessing import StandardScaler"
   ]
  },
  {
   "cell_type": "code",
   "execution_count": 20,
   "metadata": {},
   "outputs": [
    {
     "name": "stdout",
     "output_type": "stream",
     "text": [
      "[[ 1.21118886 -0.8194087  -0.09188458]\n",
      " [-0.29370364 -1.48655179  1.28638417]\n",
      " [-0.95921835  1.18986933  0.98010223]\n",
      " [ 1.14465236  0.35790265 -1.01073042]\n",
      " [-1.10291923  0.75818851 -1.16387139]]\n"
     ]
    }
   ],
   "source": [
    "tran = StandardScaler()\n",
    "new_data2 = tran.fit_transform(data)\n",
    "print(new_data2)"
   ]
  },
  {
   "cell_type": "markdown",
   "metadata": {},
   "source": [
    "# 特征降维"
   ]
  },
  {
   "cell_type": "markdown",
   "metadata": {},
   "source": [
    "## 维度：指数据嵌套的层数\n",
    "    0维：标量\n",
    "    1维：向量\n",
    "    2维：矩阵\n",
    "    ……\n",
    "    处理对象：二维数组\n",
    "    概念：在某些特定条件下，降低随机变量（特征）的个数，得到一组不相关的主变量的过程"
   ]
  },
  {
   "cell_type": "markdown",
   "metadata": {},
   "source": [
    "## 降维方法\n",
    "    1、特征选择：去除冗余特征\n",
    "        方法一：Filter过滤式\n",
    "            低方差选择法：过滤掉方差较低的特征\n",
    "            相关系数法：衡量特征与特征之间的相关程度\n",
    "         方法二：Embeded嵌入式\n",
    "             决策树\n",
    "             正则化\n",
    "    2、主成分分析"
   ]
  },
  {
   "cell_type": "markdown",
   "metadata": {},
   "source": [
    "### 低方差特征过滤\n",
    "特征方差小：某个特征大多样本的值比较接近，需要去除\n",
    "特征方差大：需要保存\n"
   ]
  },
  {
   "cell_type": "code",
   "execution_count": 21,
   "metadata": {},
   "outputs": [],
   "source": [
    "# 使用库,接受一个ndarray数组\n",
    "from sklearn.feature_selection import VarianceThreshold"
   ]
  },
  {
   "cell_type": "code",
   "execution_count": 23,
   "metadata": {},
   "outputs": [
    {
     "name": "stdout",
     "output_type": "stream",
     "text": [
      "[[4.3231e+04 7.3100e+00]\n",
      " [2.3124e+04 5.6100e+00]\n",
      " [1.4232e+04 1.2430e+01]\n",
      " [4.2342e+04 1.0310e+01]\n",
      " [1.2312e+04 1.1330e+01]]\n"
     ]
    }
   ],
   "source": [
    "# 实例化对象，设立方差阈值, 阈值某人为0\n",
    "transfer = VarianceThreshold(threshold=5)\n",
    "# 调用fit_transform方法处理数据\n",
    "new_data = transfer.fit_transform(data)\n",
    "print(new_data)"
   ]
  },
  {
   "cell_type": "markdown",
   "metadata": {},
   "source": [
    "### 特征相关系数r\n",
    "    皮尔逊相关系数，计算公式可百度\n",
    "\n",
    "    取值范围 大于-1，小于1\n",
    "    当r大于0则两个特征正相关，一个增大另一个也增大，趋近于1，正相关性越强\n",
    "    当r小于0则两个特征负相关，一个增大另一个减小，趋近于-1，负相关性越强\n",
    "    接近于0时，特征之间相关性越弱\n",
    "    一般分位3级：|r| < 0.4,弱相关， 0.4<=|r|<=0.7 显著性相关，|r| >0.7 高度线性相关\n",
    "    \n",
    "    相关性很高的特征的处理方式：1.选取其中一个；2.加权求和，作为一个新的特征；3.主成分分析"
   ]
  },
  {
   "cell_type": "code",
   "execution_count": 26,
   "metadata": {},
   "outputs": [
    {
     "name": "stdout",
     "output_type": "stream",
     "text": [
      "(1.0, 0.0)\n"
     ]
    }
   ],
   "source": [
    "# python的皮尔逊相关系数计算\n",
    "from scipy.stats import pearsonr\n",
    "x = [i for i in range(1, 6)]\n",
    "y = [i for i in range(3, 8)]\n",
    "r = pearsonr(x, y)\n",
    "print(r)"
   ]
  },
  {
   "cell_type": "markdown",
   "metadata": {},
   "source": [
    "## 主成分分析（PCA）\n",
    "    定义：高维数据转换为低维数据的过程，在此过程中可能舍弃原有变量，创造新的变量\n",
    "    作用:使数据维数压缩，尽可能降低数据的维数，减少数据的损失量\n",
    "    应用：回归分析和聚类分析中\n",
    "    使用sklearn.decomposition.PCA(n_components=None)\n",
    "    --n_components 为浮点数，保留百分之多少的信息\n",
    "              为整数，减少到多少特征"
   ]
  },
  {
   "cell_type": "code",
   "execution_count": 1,
   "metadata": {},
   "outputs": [],
   "source": [
    "from sklearn.decomposition import PCA"
   ]
  },
  {
   "cell_type": "code",
   "execution_count": 7,
   "metadata": {},
   "outputs": [
    {
     "name": "stdout",
     "output_type": "stream",
     "text": [
      "[[ 1.28620952e-15  3.82970843e+00]\n",
      " [ 5.74456265e+00 -1.91485422e+00]\n",
      " [-5.74456265e+00 -1.91485422e+00]]\n",
      "[[ 1.28620952e-15  3.82970843e+00]\n",
      " [ 5.74456265e+00 -1.91485422e+00]\n",
      " [-5.74456265e+00 -1.91485422e+00]]\n"
     ]
    }
   ],
   "source": [
    "data = [\n",
    "    [2, 8, 4, 5],\n",
    "    [6, 3, 0, 8],\n",
    "    [5, 4, 9 ,1]\n",
    "]\n",
    "# 实例化PCA类\n",
    "transfer = PCA(n_components=2)\n",
    "new_data = transfer.fit_transform(data)\n",
    "transfer = PCA(n_components=0.99)\n",
    "new_data1 = transfer.fit_transform(data)\n",
    "print(new_data)\n",
    "print(new_data1)"
   ]
  },
  {
   "cell_type": "code",
   "execution_count": null,
   "metadata": {},
   "outputs": [],
   "source": []
  }
 ],
 "metadata": {
  "kernelspec": {
   "display_name": "Python 3",
   "language": "python",
   "name": "python3"
  },
  "language_info": {
   "codemirror_mode": {
    "name": "ipython",
    "version": 3
   },
   "file_extension": ".py",
   "mimetype": "text/x-python",
   "name": "python",
   "nbconvert_exporter": "python",
   "pygments_lexer": "ipython3",
   "version": "3.7.1"
  }
 },
 "nbformat": 4,
 "nbformat_minor": 2
}
