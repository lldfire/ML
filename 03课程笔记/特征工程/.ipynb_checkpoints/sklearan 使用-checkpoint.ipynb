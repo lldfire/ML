{
 "cells": [
  {
   "cell_type": "code",
   "execution_count": 18,
   "metadata": {},
   "outputs": [],
   "source": [
    "# 从数据集中导入鸢尾花的数据集 fetch_* 使用同load\n",
    "from sklearn.datasets import load_iris\n",
    "# 导入数据集划分模块\n",
    "from sklearn.model_selection import train_test_split"
   ]
  },
  {
   "cell_type": "markdown",
   "metadata": {},
   "source": [
    "### sklearn数据集的5个属性\n",
    "data: 特征数据组，二维数组\n",
    "target: 数组标签\n",
    "DESCR: 数据的描述\n",
    "feature_names: 特征名\n",
    "target_names: 标签名"
   ]
  },
  {
   "cell_type": "code",
   "execution_count": 17,
   "metadata": {},
   "outputs": [
    {
     "name": "stdout",
     "output_type": "stream",
     "text": [
      "['setosa' 'versicolor' 'virginica']\n"
     ]
    }
   ],
   "source": [
    "# 响应结果为鸢尾花数据集的数据，属性查看有两种方式\n",
    "iris = load_iris()\n",
    "# print(iris)\n",
    "# print(iris['data'])\n",
    "# print(iris.target)\n",
    "print(iris['target_names'])\n",
    "# print(iris['feature_names'])\n",
    "# print(iris['DESCR'])"
   ]
  },
  {
   "cell_type": "markdown",
   "metadata": {},
   "source": [
    "### 数据集需要划分，一部分用于训练，一部分用于测试\n",
    "    train_test_split 接收参数有 测试数据集，目标数据集，测试集范围，训练集范围，随机数种子等\n",
    "    如；test_size = 0.3  train_size = 0.8 随机数种子 random_state\n",
    "     其返回结果有4个分别是：训练数据集，测试数据集，训练目标特征集，测试目标特征集"
   ]
  },
  {
   "cell_type": "code",
   "execution_count": 19,
   "metadata": {},
   "outputs": [],
   "source": [
    "x_train, x_test, y_train, y_test = train_test_split(iris['data'], iris['target'], test_size=0.3, random_state=22)"
   ]
  },
  {
   "cell_type": "code",
   "execution_count": 23,
   "metadata": {},
   "outputs": [
    {
     "data": {
      "text/plain": [
       "array([0, 2, 1, 2, 1, 1, 1, 2, 1, 0, 2, 1, 2, 2, 0, 2, 1, 1, 2, 1, 0, 2,\n",
       "       0, 1, 2, 0, 2, 2, 2, 2, 0, 0, 1, 1, 1, 0, 0, 0, 2, 2, 1, 1, 0, 0,\n",
       "       1])"
      ]
     },
     "execution_count": 23,
     "metadata": {},
     "output_type": "execute_result"
    }
   ],
   "source": [
    "y_trian"
   ]
  },
  {
   "cell_type": "code",
   "execution_count": null,
   "metadata": {},
   "outputs": [],
   "source": []
  }
 ],
 "metadata": {
  "kernelspec": {
   "display_name": "Python 3",
   "language": "python",
   "name": "python3"
  },
  "language_info": {
   "codemirror_mode": {
    "name": "ipython",
    "version": 3
   },
   "file_extension": ".py",
   "mimetype": "text/x-python",
   "name": "python",
   "nbconvert_exporter": "python",
   "pygments_lexer": "ipython3",
   "version": "3.7.1"
  }
 },
 "nbformat": 4,
 "nbformat_minor": 2
}
