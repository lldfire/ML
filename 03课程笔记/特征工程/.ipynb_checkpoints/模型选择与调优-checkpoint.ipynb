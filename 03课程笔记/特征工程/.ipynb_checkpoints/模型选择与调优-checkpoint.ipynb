{
 "cells": [
  {
   "cell_type": "markdown",
   "metadata": {},
   "source": [
    "## 交叉验证：把训练数据集分成训练集和验证集。将训练数据分成4份，其中一份作为验证集，然后经过4次验证，每次验证更换不同的验证集，取平均值作为最终结果，称为 4折交叉验证\n",
    "    优点：使训练结果得到的模型更加准确\n",
    "    "
   ]
  },
  {
   "cell_type": "markdown",
   "metadata": {},
   "source": [
    "## 超参数搜索-网格搜索：\n",
    "    通常情况下由很多参数需要手动指定，这种叫超参数。模型预设几种超参数组合，每组参数都通过交叉验证来评估，最后选出最优参数组合，得到模型。"
   ]
  },
  {
   "cell_type": "code",
   "execution_count": null,
   "metadata": {},
   "outputs": [],
   "source": [
    "# 网格搜索的模块\n",
    "from sklearn.model_selection import GridSearchCV\n",
    "# 实例化对象，实例化时，可传入参如下，estimator 转化器， param_grid 参数组合 字典格式， cv 进行几折交叉验证\n",
    "GSV = GridSearchCV(estimator, param_grid=None, cv=None)\n",
    "其继承了 estimator的方法， fit() 和 score()"
   ]
  }
 ],
 "metadata": {
  "kernelspec": {
   "display_name": "Python 3",
   "language": "python",
   "name": "python3"
  },
  "language_info": {
   "codemirror_mode": {
    "name": "ipython",
    "version": 3
   },
   "file_extension": ".py",
   "mimetype": "text/x-python",
   "name": "python",
   "nbconvert_exporter": "python",
   "pygments_lexer": "ipython3",
   "version": "3.7.1"
  }
 },
 "nbformat": 4,
 "nbformat_minor": 2
}
