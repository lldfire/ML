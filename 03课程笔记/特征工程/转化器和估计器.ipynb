{
 "cells": [
  {
   "cell_type": "markdown",
   "metadata": {},
   "source": [
    "## 转化器\n",
    "    1、实例化对象，如fit_transform()\n",
    "    2、fit_transform 由\n",
    "        fit:计算相关数值\n",
    "        transform：  对计算结果进行转换"
   ]
  },
  {
   "cell_type": "markdown",
   "metadata": {},
   "source": [
    "## 估计器（estimator）：机器学习算法的实现\n",
    "    工作流程：\n",
    "    1.实例化 estimator 类\n",
    "    2.调用estimator.fit(x_train, y_train) 进行计算，生成模型\n",
    "    3.模型评估：\n",
    "        1）直接比对真实值和测试值\n",
    "        y_predict = estimator.predict(x_test)\n",
    "        y_test == y_predict\n",
    "        2)计算准确率\n",
    "        accauracy = estimator.score(x_test, y_test)\n",
    "    "
   ]
  },
  {
   "cell_type": "code",
   "execution_count": null,
   "metadata": {},
   "outputs": [],
   "source": []
  }
 ],
 "metadata": {
  "kernelspec": {
   "display_name": "Python 3",
   "language": "python",
   "name": "python3"
  },
  "language_info": {
   "codemirror_mode": {
    "name": "ipython",
    "version": 3
   },
   "file_extension": ".py",
   "mimetype": "text/x-python",
   "name": "python",
   "nbconvert_exporter": "python",
   "pygments_lexer": "ipython3",
   "version": "3.7.1"
  }
 },
 "nbformat": 4,
 "nbformat_minor": 2
}
