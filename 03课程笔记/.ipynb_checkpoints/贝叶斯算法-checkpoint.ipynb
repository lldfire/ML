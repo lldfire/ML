{
 "cells": [
  {
   "cell_type": "markdown",
   "metadata": {},
   "source": [
    "### 贝叶斯应用场景\n",
    "1. 基于贝叶斯概率的形式，一般用于有监督的分类算法\n",
    "2. 对贝叶斯公式的应用\n",
    "3. 主要应用于文本分类领域"
   ]
  },
  {
   "cell_type": "markdown",
   "metadata": {},
   "source": [
    "### 相关公式\n",
    "1. 先验概率P(A):在不考虑任何情况下，A发生的概率\n",
    "2. 条件概率P(B|A)：在A事件发生的情况下，B事件发生的概率\n",
    "3. 后验概率P(A|B)：在B事件发生后，对A事件发生的概率重新评估\n",
    "4. 全概率：事件A和A'（A、A'为互斥事件）构成一个样本空间的划分，那么事件B的概率为：A和A'发生的概率分别乘以B对这两个事件发生的概率之和\n",
    "\n",
    "#### 贝叶斯公式\n",
    "条件概率和全概率的融合"
   ]
  },
  {
   "cell_type": "markdown",
   "metadata": {},
   "source": [
    "#### 朴素贝叶斯算法（NB）\n",
    "- 基于特征之间是相互独立的这一假设\n",
    "\n",
    "#### 高斯朴素贝叶斯（GNB）\n",
    "- 特征属性为连续值时，且分布服从高斯分布\n",
    "\n",
    "#### 伯努利朴素贝叶斯\n",
    "- 特征属性为连续值时，且分布服从伯努利分布\n",
    "- 伯努利分布是离散的\n",
    "\n",
    "#### 多项式朴素贝叶斯\n",
    "- 特征属性服从多项分布\n",
    "\n",
    "#### 贝叶斯网络\n",
    "一个特征存在依赖于另一个存在"
   ]
  },
  {
   "cell_type": "code",
   "execution_count": null,
   "metadata": {},
   "outputs": [],
   "source": []
  }
 ],
 "metadata": {
  "kernelspec": {
   "display_name": "Python 3",
   "language": "python",
   "name": "python3"
  },
  "language_info": {
   "codemirror_mode": {
    "name": "ipython",
    "version": 3
   },
   "file_extension": ".py",
   "mimetype": "text/x-python",
   "name": "python",
   "nbconvert_exporter": "python",
   "pygments_lexer": "ipython3",
   "version": "3.7.3"
  },
  "toc": {
   "base_numbering": 1,
   "nav_menu": {},
   "number_sections": true,
   "sideBar": true,
   "skip_h1_title": false,
   "title_cell": "Table of Contents",
   "title_sidebar": "Contents",
   "toc_cell": false,
   "toc_position": {},
   "toc_section_display": true,
   "toc_window_display": false
  },
  "varInspector": {
   "cols": {
    "lenName": 16,
    "lenType": 16,
    "lenVar": 40
   },
   "kernels_config": {
    "python": {
     "delete_cmd_postfix": "",
     "delete_cmd_prefix": "del ",
     "library": "var_list.py",
     "varRefreshCmd": "print(var_dic_list())"
    },
    "r": {
     "delete_cmd_postfix": ") ",
     "delete_cmd_prefix": "rm(",
     "library": "var_list.r",
     "varRefreshCmd": "cat(var_dic_list()) "
    }
   },
   "types_to_exclude": [
    "module",
    "function",
    "builtin_function_or_method",
    "instance",
    "_Feature"
   ],
   "window_display": false
  }
 },
 "nbformat": 4,
 "nbformat_minor": 2
}
