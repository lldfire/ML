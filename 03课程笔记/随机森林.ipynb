{
 "cells": [
  {
   "cell_type": "markdown",
   "metadata": {},
   "source": [
    "#### 在Bagging 的基础上修改的一种算法：\n",
    "    1、从样本集中Bootstrap 采样选出n 个样本；\n",
    "    2、从所有属性中随机选择K个属性，选择最佳分割属性作为节点构建决策树；\n",
    "    3、重复上述两步 m 次，建立 m 棵决策树；\n",
    "    4、这 m 棵决策树即为随机森林，通过投票表决预测结果属于那一类。"
   ]
  },
  {
   "cell_type": "raw",
   "metadata": {},
   "source": [
    "如果每个决策树都选择最优的属性进行划分，就会导致子模型在很大程度上会使用相同的属性进行划分"
   ]
  },
  {
   "cell_type": "markdown",
   "metadata": {},
   "source": [
    "### 随机森林的推广算法"
   ]
  },
  {
   "cell_type": "markdown",
   "metadata": {},
   "source": [
    "#### 1、Extra tree是随机森林的一个变种，原理和随机森林基本一样\n",
    "    1）随机森林（RF）会随机采样作为子决策树的变种，而Extra tree使用的是原始数据集\n",
    "    2）RF选择划分属性的时候和传统决策树一样，使用信息增益、信息增益率、基尼系数、均方差等方式，Extra tree会随机选择一个特征来划分属性\n",
    "\n",
    "#### Extra tree的方差叫RF小，其泛化能力比RF强"
   ]
  },
  {
   "cell_type": "markdown",
   "metadata": {},
   "source": [
    "#### 2、Totally Random Tree Embedding（TRTE）\n",
    "    1）TRTE是一种非监督的数据转化方式，将低维数据映射到高维，从而让高维的数据更好的应用于回归模型。\n",
    "    2）TRTE算法转化过程类似于RF算法的方法，建立T个决策树来拟合数据，当决策树构建完成后，数据集中的每个数据在决策树中的位置就定下来了，将位置信息转化为向量就完成了特征转换的操作。 "
   ]
  },
  {
   "cell_type": "markdown",
   "metadata": {},
   "source": [
    "#### 3、Isolation Forest（IForest）：异常点检测算法，检测异常点\n",
    "    与RF算法的区别在于：\n",
    "    1）在随机采样过程中一般只需要少量数据即可；\n",
    "    2）在尽心决策树构建过程中，IForest 算法会随机选择一个划分特征，并对划分特征随机选择一个划分阈值；\n",
    "    3）构建的决策树深度较小。\n",
    "\n",
    "#### 目的在于异常点检测，所以只要能够区分异常即可，在异常点检测过程中不需要大规模的数据"
   ]
  },
  {
   "cell_type": "code",
   "execution_count": null,
   "metadata": {},
   "outputs": [],
   "source": []
  }
 ],
 "metadata": {
  "kernelspec": {
   "display_name": "Python 3",
   "language": "python",
   "name": "python3"
  },
  "language_info": {
   "codemirror_mode": {
    "name": "ipython",
    "version": 3
   },
   "file_extension": ".py",
   "mimetype": "text/x-python",
   "name": "python",
   "nbconvert_exporter": "python",
   "pygments_lexer": "ipython3",
   "version": "3.7.3"
  }
 },
 "nbformat": 4,
 "nbformat_minor": 2
}
