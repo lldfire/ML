{
 "cells": [
  {
   "cell_type": "markdown",
   "metadata": {},
   "source": [
    "## 马尔可夫"
   ]
  },
  {
   "cell_type": "markdown",
   "metadata": {},
   "source": [
    "1. 马尔可夫性：当前事件发生的可能性不依赖于过去事件的发生，即已知过程现在的情况下，其将来不依赖于过去\n",
    "2. 若随机过程满足马尔可夫性，即可称为马尔可夫过程"
   ]
  },
  {
   "cell_type": "markdown",
   "metadata": {},
   "source": [
    "### 马尔可夫链\n",
    "1. 马尔可夫链指的是具有马尔可夫性质的过程，在已知现在状态信息的情况下，过去的信息状态对于预测将来状态是无关的\n",
    "2. 在马尔可夫链的每一步，系统根据概率分布，可以从一个状态变为另一个状态，状态也可保持不变，状态的改变叫做转移，状态改变的相关概率叫做转移概率。(只要时间改变)\n",
    "3. 马尔可夫链中的三元素是：状态空间S、转移概率矩阵P、初始概率分布$\\pi$(初始时刻概率)"
   ]
  },
  {
   "cell_type": "markdown",
   "metadata": {},
   "source": [
    "### 状态转移计算如下，其有如下性质：\n",
    "1. 在马尔可夫链计算到一定程度时，状态概率分布趋于稳定\n",
    "2. 马尔可夫链中给定的初始值，不影响最终收敛\n",
    "3. 马尔可夫链的最终收敛结果只和状态转移矩阵有关"
   ]
  },
  {
   "cell_type": "code",
   "execution_count": 1,
   "metadata": {},
   "outputs": [],
   "source": [
    "import numpy as np\n",
    "\n",
    "# 无论初始值给多少，最终都将收敛于 [0.5, 0.25, 0.25]\n",
    "init = np.array([[0.1, 0.35, 0.55]])\n",
    "move = np.array(\n",
    "    [0.75, 0.125, 0.125, 0.25, 0.25, 0.5, 0.25, 0.5, 0.25]).reshape(3, 3)"
   ]
  },
  {
   "cell_type": "code",
   "execution_count": null,
   "metadata": {},
   "outputs": [],
   "source": [
    "for i in range(30):\n",
    "    init = np.dot(init, move)\n",
    "    print(init)"
   ]
  },
  {
   "cell_type": "markdown",
   "metadata": {},
   "source": [
    "## 隐马尔可夫模型（有向五环图）\n",
    "- 应用：语音识别、自然语言处理、行为识别、故障诊断\n",
    "- HMM 是关于时序的概率模型，描述一个含有未知参数的马尔可夫链生成的不可观测的状态随机序列，再有各个状态生成可观测的随机序列的过程。HMM是双重随机过程，具有一定状态的隐马尔可夫链和随机的观测序列\n",
    "- HMM生成的状态随机序列，被称为状态序列，每个状态生成一个观测，由此产生的观测随机序列，被称为观测序列。\n",
    "- HMM包含：隐含状态S、可观测状态O、初始状态概率矩阵$\\pi$、隐含状态概率转移矩阵A、可观测状态转移矩阵B；\n",
    "- $\\pi$和A决定了状态序列，B决定观测序列，因此HMM可以表示为：$$\\lambda = \\{A, B, \\pi\\}$$"
   ]
  },
  {
   "cell_type": "markdown",
   "metadata": {},
   "source": [
    "### 两个基本性质\n",
    "1. t时刻的状态只和 t-1时刻的状态有关\n",
    "2. t时刻的观测值只和 t-1 时刻的观测值有关 "
   ]
  },
  {
   "cell_type": "markdown",
   "metadata": {},
   "source": [
    "### HMM的三个问题\n",
    "1. 概率计算问题（前向-后向算法）\n",
    "    - 给定模型参数$\\lambda = \\{A, B, \\pi\\}$和观测序列 $Q={q_1, q_2,…, q_n}$,计算序列出现的概率$p(Q|\\lambda)$\n",
    "2. 学习问题（）\n",
    "    - 已知观测序列$Q={q_1, q_2,…, q_n}$，估计参数$\\lambda = \\{A, B, \\pi\\}$，使得$p(Q|\\lambda)$最大\n",
    "3. 预测问题（Viterbi）\n",
    "    - 给定模型$\\lambda = \\{A, B, \\pi\\}$和观测序列$Q={q_1, q_2,…, q_n}$，求给定观测序列的条件概率$P(I|Q, \\lambda)$最大的状态序列I"
   ]
  },
  {
   "cell_type": "markdown",
   "metadata": {},
   "source": [
    "## 1. 概率计算\n",
    "1. 直接计算法\n",
    "2. 前向算法\n",
    "3. 后向算法"
   ]
  },
  {
   "cell_type": "markdown",
   "metadata": {},
   "source": [
    "### 前向算法\n",
    "- 前向概率的定义：给定隐马尔可夫模型$\\lambda=\\{A, B, \\pi\\}$,定义到时刻$t$为止的观测序列为$o_1,o_2,...o_t$且状态为$q_i$的概率，记作：$$\\alpha_t(i) = P(o_1,o_2,...o_t, i_t=q_i|\\lambda)$$\n",
    "\n",
    "#### 计算步骤：\n",
    "- 输入：隐马尔可夫模型$\\lambda$， 观测序列$q_i$\n",
    "- 输出：观测序列的概率$p(o|\\alpha)$\n",
    "1. 初值： 初始状态概率 * 观测转移概率\n",
    "$$\\alpha_t(i)=\\pi_i b_{i o_1},\\  \\; i=1,2,..., n$$\n",
    "2. 递推对t=1,2,...,T-1: 此概率由状态为i,观测序列的前t个符合要求的概率和状态为i时的可观测t+1状态态转移概率\n",
    "$$\\alpha_{t+1}=\\sum_{j=1}^N \\alpha_t(j) \\alpha_{ji} b_{i o_{t+1}} $$\n",
    "3. 终止\n",
    "$$P(O|\\lambda) = \\sum_{i=1}^N \\alpha_t(i)$$"
   ]
  },
  {
   "cell_type": "markdown",
   "metadata": {},
   "source": [
    "### 后向算法\n",
    "- 后向概率定义：给定隐马尔可夫模型$\\lambda=\\{A, B, \\pi\\}$,在时刻t状态为$q_i$的条件下，从t+1时刻T的部分观测序列$o_{t+1}, o_{t+2},...,o_T$的概率为后向概率，记作：\n",
    "$$\\beta_t(i) = P(o_{t+1}, o_{t+2},...,o_T|i_t=q_i,\\lambda)$$\n",
    "\n",
    "#### 计算步骤：\n",
    "- 输入：隐马尔可夫模型$\\lambda$， 观测序列$q_i$\n",
    "- 输出：观测序列的概率$p(o|\\alpha)$\n",
    "1. 初值:从t+1到T时刻的观测序列其实不存在，所以规定为1\n",
    "$$\\beta_T (i)=1\\, i=1,2,...,N$$\n",
    "2. 对t=T-1, T-2, ...,1：其中$a_{ij}$表示状态转移概率，$b_j(o_{t+1})$表示由状态i到观测状态的发射概率，$\\beta_{t+1}(j)$表示j后面对应的后向概率\n",
    "$$\\beta_t(i)=\\sum_{j=1}^N a_{ij} b_j(o_{t+1}) \\beta_{t+1}(j), i=1,2,...,N$$\n",
    "3. 终值：\n",
    "$$P(O|\\lambda) = \\sum_{i=1}^N \\pi_i b_i(o_1) \\beta_1(i) )$$"
   ]
  },
  {
   "cell_type": "markdown",
   "metadata": {},
   "source": [
    "### 概率计算的代码实现 \n",
    "- 现有3个盒子，每个盒子中有黑白两球，按照某种概率分布随机取盒子，从盒子中随机取一个球，记录颜色并放回，重复5次，得到球的颜色序列为 白黑白白黑，求该观测序列发生的概率。\n",
    "- 已知条件如下："
   ]
  },
  {
   "cell_type": "code",
   "execution_count": 20,
   "metadata": {},
   "outputs": [],
   "source": [
    "# 初始状态矩阵\n",
    "pi = np.array([0.2, 0.5, 0.3]).T\n",
    "# 状态转移矩阵 A ：a_ij  表示当前状态为i,下一时刻状态为j 的概率，\n",
    "# 如：a_01 = 0.4表示当前盒子是 0，下个时刻盒子是 1 的概率是0.4\n",
    "A = [\n",
    "    [0.5, 0.4, 0.1],\n",
    "    [0.2, 0.2, 0.6],\n",
    "    [0.2, 0.5, 0.3]\n",
    "]\n",
    "# 观测概率矩阵: B_ij,表示在i状态下，球的颜色是j 的概率\n",
    "# 如 B_10 = b[1][0] = 0.6,表示在盒子1中，球的颜色是白色的概率是0.6，\n",
    "# 0:白，1:黑\n",
    "B = [\n",
    "    [0.8, 0.2],\n",
    "    [0.6, 0.4],\n",
    "    [0.5, 0.5]\n",
    "]\n",
    "\n",
    "# 测试\n",
    "a = [1, 2, 2, 1, 0]\n",
    "O = [0, 1, 0, 0, 1]\n",
    "\n",
    "# 求概率值\n",
    "# 0.0390093669"
   ]
  },
  {
   "cell_type": "markdown",
   "metadata": {},
   "source": [
    "### 暴力计算"
   ]
  },
  {
   "cell_type": "code",
   "execution_count": 3,
   "metadata": {},
   "outputs": [
    {
     "name": "stdout",
     "output_type": "stream",
     "text": [
      "0.009\n",
      "0.018\n"
     ]
    }
   ],
   "source": [
    "# 一、暴力破解法\n",
    "# 测试\n",
    "a = [1, 2, 2, 1, 0]\n",
    "q = [0, 1, 0, 0, 1]\n",
    "pi[a[0]] * A[a[0]][a[1]] * A[a[1]][a[2]] * A[a[2]][a[3]] * A[a[3]][a[4]]  # a序列的概率\n",
    "B[a[0]][q[0]] * B[a[1]][q[1]] * B[a[2]][q[2]] * B[a[3]][q[3]] * B[a[4]][q[4]]\n",
    "\n",
    "# 得到上述a序列的概率\n",
    "for i in range(len(a)):\n",
    "    if i == 0:\n",
    "        p = pi[a[i]]     # 初始状态概率值\n",
    "    else:\n",
    "        p *= A[a[i-1]][a[i]]     # 状态转移概率，\n",
    "print(p)\n",
    "\n",
    "# 由a序列产生的观测值q的概率\n",
    "p2 = 1\n",
    "for i in range(len(q)):\n",
    "    p2 *= B[a[i]][q[i]]\n",
    "print(p2)"
   ]
  },
  {
   "cell_type": "code",
   "execution_count": 4,
   "metadata": {},
   "outputs": [
    {
     "name": "stdout",
     "output_type": "stream",
     "text": [
      "0.03305167829999999\n"
     ]
    }
   ],
   "source": [
    "def get_status_proab(a):\n",
    "    for i in range(len(a)):\n",
    "        if i == 0:\n",
    "            p1 = pi[a[i]]     # 初始状态概率值\n",
    "        else:\n",
    "            p1 *= A[a[i-1]][a[i]]     # 状态转移概率，\n",
    "    p2 = 1\n",
    "    for i in range(len(a)):\n",
    "        p2 *= B[a[i]][q[i]]\n",
    "\n",
    "    return p1*p2\n",
    "\n",
    "# 生成所有的可能状态序列\n",
    "lp = 0\n",
    "for  i in range(3):\n",
    "    for j in range(3):\n",
    "        for k  in range(3):\n",
    "            for l in range(3):\n",
    "                for m in range(3):\n",
    "                    real_a = [i, j, k, l, m]\n",
    "                    lp += get_status_proab(real_a)\n",
    "print(lp)"
   ]
  },
  {
   "cell_type": "code",
   "execution_count": 15,
   "metadata": {},
   "outputs": [],
   "source": [
    "# 创建HMM 模型\n",
    "class HMM:\n",
    "    def __init__(self, Ann, Bnm, pi, O):\n",
    "        self.A = np.array(Ann, np.float)    # 状态概率转移矩阵\n",
    "        self.B = np.array(Bnm, np.float)    # 观测状态转移概率矩阵\n",
    "        self.Pi = np.array(pi, np.float)    # 初始状态概率矩阵\n",
    "        self.O = np.array(O, np.int)    # 观测序列 二维矩阵\n",
    "        self.N = self.A.shape[0]    # 状态的数量\n",
    "#         self.M = self.O.shape[1]    # 观测矩阵长度\n",
    "        \n",
    "    def forward(self):\n",
    "        \"\"\"前向算法\"\"\"\n",
    "        T = len(self.O)\n",
    "        alpha = np.zeros((T, self.N), np.float)\n",
    "        \n",
    "        # 计算初值，每个初始状态*由此状态到观测值的转移概率\n",
    "        for i in range(self.N):\n",
    "            alpha[0, i] = self.Pi[i] * self.B[i, self.O[0]]\n",
    "        \n",
    "        # 递归计算    \n",
    "        for t in range(T-1):\n",
    "            # t 时刻 所有可能的状态序列到 t+1时刻的状态的概率\n",
    "            for i in range(self.N):\n",
    "                summation = 0\n",
    "                for j in range(self.N):\n",
    "                    # t时刻 由状态j 变为状态 i 的概率\n",
    "                    summation += alpha[t, j] * self.A[j, i]\n",
    "                # t+1时刻状态i的概率等于 所有可能的状态组合\n",
    "                alpha[t+1, i] = summation * self.B[i, self.O[t+1]]\n",
    "        # 终值,alpha 矩阵中的最后一行\n",
    "        Polambda = np.sum(alpha[T-1])\n",
    "        return Polambda, alpha\n",
    "    \n",
    "    def backword(self):\n",
    "        T = len(self.O)\n",
    "        beta = np.zeros((T, self.N), np.float)\n",
    "        for i in range(self.N):\n",
    "            beta[T-1, i] = 1.0     # 矩阵中最后一行的值\n",
    "            \n",
    "        # 从后向遍历,每个时刻\n",
    "        for t in range(T-2, -1, -1):\n",
    "            for i in range(self.N):\n",
    "                summation = 0.0\n",
    "                for j in range(self.N):\n",
    "                    summation += self.A[i, j] * self.B[j, self.O[t+1]] \\\n",
    "                    * beta[t+1, j]\n",
    "                beta[t, i] = summation\n",
    "        proba = 0.0\n",
    "        for i in range(self.N):\n",
    "            proba += self.Pi[i] * self.B[i, self.O[0]] * beta[0, i]\n",
    "        \n",
    "        return proba, beta"
   ]
  },
  {
   "cell_type": "code",
   "execution_count": 19,
   "metadata": {},
   "outputs": [
    {
     "name": "stdout",
     "output_type": "stream",
     "text": [
      "0.0028940913031695655\n",
      "0.0028940913031695655\n"
     ]
    }
   ],
   "source": [
    "hmm = HMM(A, B, pi, O)\n",
    "proba, alpha = hmm.forward()\n",
    "print(proba)\n",
    "proba2, beta = hmm.backword()\n",
    "print(proba2)"
   ]
  },
  {
   "cell_type": "markdown",
   "metadata": {},
   "source": [
    "## 2. 学习问题\n",
    "- 若训练数据包含观测序列和状态序列，则是监督学习算法\n",
    "    1. 使用大数定理直接给出HMM的参数估计\n",
    "- 若训练数据只包含观测序列，则需要使用EM算法，是非监督学习"
   ]
  },
  {
   "cell_type": "code",
   "execution_count": null,
   "metadata": {},
   "outputs": [],
   "source": []
  }
 ],
 "metadata": {
  "kernelspec": {
   "display_name": "Python 3",
   "language": "python",
   "name": "python3"
  },
  "language_info": {
   "codemirror_mode": {
    "name": "ipython",
    "version": 3
   },
   "file_extension": ".py",
   "mimetype": "text/x-python",
   "name": "python",
   "nbconvert_exporter": "python",
   "pygments_lexer": "ipython3",
   "version": "3.7.3"
  }
 },
 "nbformat": 4,
 "nbformat_minor": 4
}
