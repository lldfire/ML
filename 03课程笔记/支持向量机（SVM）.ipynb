{
 "cells": [
  {
   "cell_type": "markdown",
   "metadata": {},
   "source": [
    "### 感知器模型\n",
    "#### 简介\n",
    "最古老的分类算法之一，原理简单，是SVM、神经网络、深度学习的基础，\n",
    "\n",
    "思想：感知器模型试图找到一条线，将样本分隔开，在高维数据中找的是一个平面，感知器模型的前提是：数据线性可分\n",
    "\n",
    "#### 实现步骤\n",
    "- 感知器模型为$y=sign(\\theta·x) $"
   ]
  },
  {
   "cell_type": "markdown",
   "metadata": {},
   "source": [
    "### svm\n",
    "#### 基本概念\n",
    "本身是二元分类算法，是基于感知器模型的一种扩展；\n",
    "- 思想：找一个线性可分的超平面，使得**离超平面较近的点尽可能远离超平面**\n",
    "- 支持向量：离分割超平面最近的那些点称为支持向量\n",
    "\n",
    "#### 线性可分svm算法流程\n",
    "- 输入m个样本数据，其中x为n维的特征向量，y为二元输出，SVM模型的输出参数为w、b及分类决策函数\n",
    "   - 构造约束优化问题\n",
    "   - 使用SMO算法求出最优化问题方程对应的最优解$\\beta$\n",
    "   - 找出所有的支持向量集合\n",
    "   - 更新参数$w^*、b^*$的值\n",
    "   - 构建最终分类其\n",
    "   \n",
    "#### 非线性可分SVM\n",
    "1. 定义一个从低维特征空间到高维特征空间的一个映射函数，将原来低维空间中的两个点转换为高维空间中的两个点即可\n",
    "2. 核函数（避免数据映射到高维空间时造成维度灾难，直接在低维空间中运算，达到数据在高维空间中的效果）\n",
    "    - 线性核函数\n",
    "    - 多项式核函数\n",
    "    - 高斯核函数\n",
    "   \n",
    "#### svm的软间隔模型\n",
    "- 硬间隔：\n",
    "- 软间隔：\n",
    "- 总结\n",
    "    - 可解决线性数据中携带异常点的分类模型的构建问题\n",
    "    - 通过引入惩罚系数（松弛因子），增加模型的泛化能力\n",
    "    - 如果惩罚项系数越小，表示允许模型分错的样本越多，模型此时的准确率会较低，\n"
   ]
  },
  {
   "cell_type": "markdown",
   "metadata": {},
   "source": [
    "### 分类模型\n",
    "#### 单标签二分类\n",
    "标签取值有两种，找到一条想将其分类，常用logistic、SVM、KNN算法 \n",
    "#### 单标签多分类\n",
    "一个标签有多种取值，将多分类拆分为多个二分类问题，常用算法softmax、KNN\n",
    "- 1.算法原理-ovo,将类别中的数据两两进行组合，使用组合后的数据训练模型，从儿产生多个分类器，将这些分类器融合，分类结果投票表决\n",
    "- 2.算法原理-ovr,一对多模型，将每个类别作为正例，其他类别做为反例，生成多个分类器，将分类器融合\n",
    "- 3.算法原理-Error Correcting,将构建模型分为两个阶段：编码阶段和解码阶段；编码阶段对K个类别进行M次划分，每次划分将一部分数据分为正例，一部分数据分为反例，每次划分构建一个模型，模型的结果在空间中每个类别都定义了一个点；解码阶段中使用训练好的模型对数据结果进行预测，将预测样本对应的点和类别之间求距离，选择距离最近的类别作为最终预测类别 \n",
    "\n",
    "#### 多标签算法\n",
    "- 预测模型中存在多个y值，具体分为：（1）多个待预测的y值；（2）一个样例可能存在多个不固定的类别\n",
    "- 按复杂性可以将问题分为两大类：（1）带预测值之间存在相互依赖关系的；（2）带预测值之间不存在相互关系\n",
    "- 解决方案可以分为两种：（1）转换策略；（2）算法适应"
   ]
  },
  {
   "cell_type": "markdown",
   "metadata": {},
   "source": [
    "### 策略转换\n",
    "将多标签分类问题转换为单标签模型的构造问题，然后将模型合并，主要有以下三种方式：\n",
    "- Binary Relevance(first order)：标签之间没有任何依赖关系\n",
    "- Classifier Chains(high order)：假设多个标签之间有依赖关系\n",
    "- Calibrated Label Ranking(second order)：标签两两之间有关系\n",
    "\n",
    "#### Binary Relebance\n",
    "1. 核心思想\n",
    "将多标签进行分解，多少个标签生成多少个模型，每个模型均为二元分类模型\n",
    "2. 优点\n",
    "    - 实现方式简单，容易理解\n",
    "    - 当y值之间不存在相互依赖关系，效果不错\n",
    "3. 缺点\n",
    "    - 如果y值之间存在相互依赖关系，模型的泛化能力较弱，\n",
    "    - 需要构建多个二分类器模型，当标签值较多时，需要构建的模型会比较多\n",
    "    \n",
    "#### Classifier Chains\n",
    "1. 核心思想\n",
    "将多标签分类问题进行分解，将其转换为二元分类器链的形式，其中链后的二元分类的构建是在前面分类器的预测结果的基础上的，在构建模型时将标签打乱，然后按照从头到尾分别构建每个标签对应的模型\n",
    "2. 优点\n",
    "     - 实现方式相对比较简单，容易理解\n",
    "     - 烤梨标签之间的依赖关系，训练的模型的泛化能力比较好\n",
    "3. 缺点\n",
    "     - 很难找到标签之间的依赖关系\n",
    "     \n",
    "#### Calibrated Label Ranking\n",
    "1. 核心思想\n",
    "\n",
    "将多标签分类问题分解，将其转换为多标签的排序问题，最终的标签是排序后最大的几个标签值\n",
    "2. 优点\n",
    "     - 考虑了标签之间的两两组合，最终的泛化能力相对比较好\n",
    "3. 缺点\n",
    "    - 只考虑了两两组合，未考虑标签与标签之间的所有依赖关系"
   ]
  },
  {
   "cell_type": "markdown",
   "metadata": {},
   "source": [
    "### 算法适应型策略\n",
    "将现有的单标签直接应用到多标签上的一种形式\n",
    "\n",
    "#### ML-KNN\n",
    "1. 思想：对于每个实例先获取距离它最近的k个实例，然后使用这些实例的标签集合，通过最大后验概率（MAP）来判断这个预测实例的标签值的集合\n",
    "2. 最大后验概率就是在最大似然估计中加入了这个要估计量的后验概率分布\n",
    "#### ML-DT"
   ]
  }
 ],
 "metadata": {
  "kernelspec": {
   "display_name": "Python 3",
   "language": "python",
   "name": "python3"
  },
  "language_info": {
   "codemirror_mode": {
    "name": "ipython",
    "version": 3
   },
   "file_extension": ".py",
   "mimetype": "text/x-python",
   "name": "python",
   "nbconvert_exporter": "python",
   "pygments_lexer": "ipython3",
   "version": "3.7.3"
  },
  "toc": {
   "base_numbering": 1,
   "nav_menu": {},
   "number_sections": true,
   "sideBar": true,
   "skip_h1_title": false,
   "title_cell": "Table of Contents",
   "title_sidebar": "Contents",
   "toc_cell": false,
   "toc_position": {},
   "toc_section_display": true,
   "toc_window_display": false
  },
  "varInspector": {
   "cols": {
    "lenName": 16,
    "lenType": 16,
    "lenVar": 40
   },
   "kernels_config": {
    "python": {
     "delete_cmd_postfix": "",
     "delete_cmd_prefix": "del ",
     "library": "var_list.py",
     "varRefreshCmd": "print(var_dic_list())"
    },
    "r": {
     "delete_cmd_postfix": ") ",
     "delete_cmd_prefix": "rm(",
     "library": "var_list.r",
     "varRefreshCmd": "cat(var_dic_list()) "
    }
   },
   "types_to_exclude": [
    "module",
    "function",
    "builtin_function_or_method",
    "instance",
    "_Feature"
   ],
   "window_display": false
  }
 },
 "nbformat": 4,
 "nbformat_minor": 2
}
